{
 "cells": [
  {
   "cell_type": "code",
   "execution_count": 315,
   "id": "6d5fd112",
   "metadata": {},
   "outputs": [
    {
     "data": {
      "text/plain": [
       "['final_tmdb_data_2000.csv.gz',\n",
       " 'final_tmdb_data_2001.csv.gz',\n",
       " 'final_tmdb_data_2020.csv.gz',\n",
       " 'final_tmdb_data_2021.csv.gz',\n",
       " 'final_tmdb_data_2022.csv.gz',\n",
       " 'title_akas.csv.gz',\n",
       " 'title_akas2.csv.gz',\n",
       " 'title_basics.csv.gz',\n",
       " 'title_basics2.csv.gz',\n",
       " 'title_basics_combined.csv.gz',\n",
       " 'title_ratings.csv.gz',\n",
       " 'title_ratings2.csv.gz',\n",
       " 'tmdb_api_results_2000.json',\n",
       " 'tmdb_api_results_2001.json',\n",
       " 'tmdb_api_results_2020.json',\n",
       " 'tmdb_api_results_2021.json',\n",
       " 'tmdb_api_results_2022.json',\n",
       " 'tmdb_results_combined.csv.gz']"
      ]
     },
     "execution_count": 315,
     "metadata": {},
     "output_type": "execute_result"
    }
   ],
   "source": [
    "#imports\n",
    "import pandas as pd\n",
    "import numpy as np\n",
    "import seaborn as sns\n",
    "import matplotlib.pyplot as plt\n",
    "import os, time, json, math, glob\n",
    "import plotly.graph_objects as go\n",
    "import scipy.stats as stats\n",
    "from tqdm.notebook import tqdm_notebook\n",
    "from statsmodels.stats.multicomp import pairwise_tukeyhsd\n",
    "FOLDER = \"Data/\"\n",
    "os.makedirs(FOLDER, exist_ok=True)\n",
    "os.listdir(FOLDER)"
   ]
  },
  {
   "cell_type": "markdown",
   "id": "79a3ac20",
   "metadata": {},
   "source": [
    "Load and clean data to get years during Covid, 2020-2022, to use for later 2 additional hypothesis testing"
   ]
  },
  {
   "cell_type": "code",
   "execution_count": 28,
   "id": "fdacb504",
   "metadata": {},
   "outputs": [
    {
     "data": {
      "text/plain": [
       "dict_keys(['api-key'])"
      ]
     },
     "execution_count": 28,
     "metadata": {},
     "output_type": "execute_result"
    }
   ],
   "source": [
    "#load api credentials\n",
    "import json\n",
    "with open('/Users/abate/.secret/tmdb_api.json', 'r') as f:\n",
    "    login = json.load(f)\n",
    "#display the keys of the loaded dict\n",
    "login.keys()"
   ]
  },
  {
   "cell_type": "code",
   "execution_count": 29,
   "id": "fddb4662",
   "metadata": {},
   "outputs": [],
   "source": [
    "#set api key to api credential\n",
    "import tmdbsimple as tmdb\n",
    "tmdb.API_KEY = login['api-key']"
   ]
  },
  {
   "cell_type": "code",
   "execution_count": 30,
   "id": "83ef6b8c",
   "metadata": {},
   "outputs": [],
   "source": [
    "basics_url=\"https://datasets.imdbws.com/title.basics.tsv.gz\"\n",
    "ratings_url=\"https://datasets.imdbws.com/title.ratings.tsv.gz\"\n",
    "akas_url=\"https://datasets.imdbws.com/title.akas.tsv.gz\""
   ]
  },
  {
   "cell_type": "code",
   "execution_count": 31,
   "id": "118f0aa0",
   "metadata": {},
   "outputs": [],
   "source": [
    "basics2 = pd.read_csv(basics_url,sep='\\t', low_memory=False)\n",
    "\n",
    "ratings2 = pd.read_csv(ratings_url,sep='\\t', low_memory=False)\n",
    "\n",
    "akas2 = pd.read_csv(akas_url,sep='\\t', low_memory=False)"
   ]
  },
  {
   "cell_type": "markdown",
   "id": "2ba7be6e",
   "metadata": {},
   "source": [
    "Basics Cleaning"
   ]
  },
  {
   "cell_type": "code",
   "execution_count": 32,
   "id": "0ff7df38",
   "metadata": {},
   "outputs": [
    {
     "name": "stdout",
     "output_type": "stream",
     "text": [
      "<class 'pandas.core.frame.DataFrame'>\n",
      "RangeIndex: 9216766 entries, 0 to 9216765\n",
      "Data columns (total 9 columns):\n",
      " #   Column          Dtype \n",
      "---  ------          ----- \n",
      " 0   tconst          object\n",
      " 1   titleType       object\n",
      " 2   primaryTitle    object\n",
      " 3   originalTitle   object\n",
      " 4   isAdult         object\n",
      " 5   startYear       object\n",
      " 6   endYear         object\n",
      " 7   runtimeMinutes  object\n",
      " 8   genres          object\n",
      "dtypes: object(9)\n",
      "memory usage: 632.9+ MB\n",
      "None \n",
      "\n",
      "tconst             0\n",
      "titleType          0\n",
      "primaryTitle      11\n",
      "originalTitle     11\n",
      "isAdult            0\n",
      "startYear          0\n",
      "endYear            0\n",
      "runtimeMinutes     0\n",
      "genres            10\n",
      "dtype: int64\n"
     ]
    }
   ],
   "source": [
    "#reviewing data and checking for missing values\n",
    "print(basics2.info(), '\\n')\n",
    "print(basics2.isna().sum())"
   ]
  },
  {
   "cell_type": "code",
   "execution_count": 33,
   "id": "517f28d3",
   "metadata": {},
   "outputs": [
    {
     "data": {
      "text/html": [
       "<div>\n",
       "<style scoped>\n",
       "    .dataframe tbody tr th:only-of-type {\n",
       "        vertical-align: middle;\n",
       "    }\n",
       "\n",
       "    .dataframe tbody tr th {\n",
       "        vertical-align: top;\n",
       "    }\n",
       "\n",
       "    .dataframe thead th {\n",
       "        text-align: right;\n",
       "    }\n",
       "</style>\n",
       "<table border=\"1\" class=\"dataframe\">\n",
       "  <thead>\n",
       "    <tr style=\"text-align: right;\">\n",
       "      <th></th>\n",
       "      <th>tconst</th>\n",
       "      <th>titleType</th>\n",
       "      <th>primaryTitle</th>\n",
       "      <th>originalTitle</th>\n",
       "      <th>isAdult</th>\n",
       "      <th>startYear</th>\n",
       "      <th>endYear</th>\n",
       "      <th>runtimeMinutes</th>\n",
       "      <th>genres</th>\n",
       "    </tr>\n",
       "  </thead>\n",
       "  <tbody>\n",
       "    <tr>\n",
       "      <th>0</th>\n",
       "      <td>tt0000001</td>\n",
       "      <td>short</td>\n",
       "      <td>Carmencita</td>\n",
       "      <td>Carmencita</td>\n",
       "      <td>0</td>\n",
       "      <td>1894</td>\n",
       "      <td>\\N</td>\n",
       "      <td>1</td>\n",
       "      <td>Documentary,Short</td>\n",
       "    </tr>\n",
       "    <tr>\n",
       "      <th>1</th>\n",
       "      <td>tt0000002</td>\n",
       "      <td>short</td>\n",
       "      <td>Le clown et ses chiens</td>\n",
       "      <td>Le clown et ses chiens</td>\n",
       "      <td>0</td>\n",
       "      <td>1892</td>\n",
       "      <td>\\N</td>\n",
       "      <td>5</td>\n",
       "      <td>Animation,Short</td>\n",
       "    </tr>\n",
       "    <tr>\n",
       "      <th>2</th>\n",
       "      <td>tt0000003</td>\n",
       "      <td>short</td>\n",
       "      <td>Pauvre Pierrot</td>\n",
       "      <td>Pauvre Pierrot</td>\n",
       "      <td>0</td>\n",
       "      <td>1892</td>\n",
       "      <td>\\N</td>\n",
       "      <td>4</td>\n",
       "      <td>Animation,Comedy,Romance</td>\n",
       "    </tr>\n",
       "    <tr>\n",
       "      <th>3</th>\n",
       "      <td>tt0000004</td>\n",
       "      <td>short</td>\n",
       "      <td>Un bon bock</td>\n",
       "      <td>Un bon bock</td>\n",
       "      <td>0</td>\n",
       "      <td>1892</td>\n",
       "      <td>\\N</td>\n",
       "      <td>12</td>\n",
       "      <td>Animation,Short</td>\n",
       "    </tr>\n",
       "    <tr>\n",
       "      <th>4</th>\n",
       "      <td>tt0000005</td>\n",
       "      <td>short</td>\n",
       "      <td>Blacksmith Scene</td>\n",
       "      <td>Blacksmith Scene</td>\n",
       "      <td>0</td>\n",
       "      <td>1893</td>\n",
       "      <td>\\N</td>\n",
       "      <td>1</td>\n",
       "      <td>Comedy,Short</td>\n",
       "    </tr>\n",
       "  </tbody>\n",
       "</table>\n",
       "</div>"
      ],
      "text/plain": [
       "      tconst titleType            primaryTitle           originalTitle  \\\n",
       "0  tt0000001     short              Carmencita              Carmencita   \n",
       "1  tt0000002     short  Le clown et ses chiens  Le clown et ses chiens   \n",
       "2  tt0000003     short          Pauvre Pierrot          Pauvre Pierrot   \n",
       "3  tt0000004     short             Un bon bock             Un bon bock   \n",
       "4  tt0000005     short        Blacksmith Scene        Blacksmith Scene   \n",
       "\n",
       "  isAdult startYear endYear runtimeMinutes                    genres  \n",
       "0       0      1894      \\N              1         Documentary,Short  \n",
       "1       0      1892      \\N              5           Animation,Short  \n",
       "2       0      1892      \\N              4  Animation,Comedy,Romance  \n",
       "3       0      1892      \\N             12           Animation,Short  \n",
       "4       0      1893      \\N              1              Comedy,Short  "
      ]
     },
     "execution_count": 33,
     "metadata": {},
     "output_type": "execute_result"
    }
   ],
   "source": [
    "basics2.head()"
   ]
  },
  {
   "cell_type": "code",
   "execution_count": 34,
   "id": "cf3cc3a7",
   "metadata": {},
   "outputs": [],
   "source": [
    "#Replace \"\\N\" with np.nan\n",
    "basics2.replace({'\\\\N':np.nan}, inplace=True)"
   ]
  },
  {
   "cell_type": "code",
   "execution_count": 35,
   "id": "3be140c3",
   "metadata": {},
   "outputs": [
    {
     "data": {
      "text/html": [
       "<div>\n",
       "<style scoped>\n",
       "    .dataframe tbody tr th:only-of-type {\n",
       "        vertical-align: middle;\n",
       "    }\n",
       "\n",
       "    .dataframe tbody tr th {\n",
       "        vertical-align: top;\n",
       "    }\n",
       "\n",
       "    .dataframe thead th {\n",
       "        text-align: right;\n",
       "    }\n",
       "</style>\n",
       "<table border=\"1\" class=\"dataframe\">\n",
       "  <thead>\n",
       "    <tr style=\"text-align: right;\">\n",
       "      <th></th>\n",
       "      <th>tconst</th>\n",
       "      <th>titleType</th>\n",
       "      <th>primaryTitle</th>\n",
       "      <th>originalTitle</th>\n",
       "      <th>isAdult</th>\n",
       "      <th>startYear</th>\n",
       "      <th>endYear</th>\n",
       "      <th>runtimeMinutes</th>\n",
       "      <th>genres</th>\n",
       "    </tr>\n",
       "  </thead>\n",
       "  <tbody>\n",
       "    <tr>\n",
       "      <th>18</th>\n",
       "      <td>tt0000019</td>\n",
       "      <td>short</td>\n",
       "      <td>The Clown Barber</td>\n",
       "      <td>The Clown Barber</td>\n",
       "      <td>0</td>\n",
       "      <td>1898</td>\n",
       "      <td>NaN</td>\n",
       "      <td>NaN</td>\n",
       "      <td>Comedy,Short</td>\n",
       "    </tr>\n",
       "    <tr>\n",
       "      <th>22</th>\n",
       "      <td>tt0000024</td>\n",
       "      <td>short</td>\n",
       "      <td>Opening of the Kiel Canal</td>\n",
       "      <td>Opening of the Kiel Canal</td>\n",
       "      <td>0</td>\n",
       "      <td>1895</td>\n",
       "      <td>NaN</td>\n",
       "      <td>NaN</td>\n",
       "      <td>News,Short</td>\n",
       "    </tr>\n",
       "    <tr>\n",
       "      <th>23</th>\n",
       "      <td>tt0000025</td>\n",
       "      <td>short</td>\n",
       "      <td>The Oxford and Cambridge University Boat Race</td>\n",
       "      <td>The Oxford and Cambridge University Boat Race</td>\n",
       "      <td>0</td>\n",
       "      <td>1895</td>\n",
       "      <td>NaN</td>\n",
       "      <td>NaN</td>\n",
       "      <td>News,Short,Sport</td>\n",
       "    </tr>\n",
       "    <tr>\n",
       "      <th>36</th>\n",
       "      <td>tt0000038</td>\n",
       "      <td>short</td>\n",
       "      <td>The Ball Game</td>\n",
       "      <td>The Ball Game</td>\n",
       "      <td>0</td>\n",
       "      <td>1898</td>\n",
       "      <td>NaN</td>\n",
       "      <td>NaN</td>\n",
       "      <td>Documentary,Short,Sport</td>\n",
       "    </tr>\n",
       "    <tr>\n",
       "      <th>37</th>\n",
       "      <td>tt0000039</td>\n",
       "      <td>short</td>\n",
       "      <td>Barnet Horse Fair</td>\n",
       "      <td>Barnet Horse Fair</td>\n",
       "      <td>0</td>\n",
       "      <td>1896</td>\n",
       "      <td>NaN</td>\n",
       "      <td>NaN</td>\n",
       "      <td>Short</td>\n",
       "    </tr>\n",
       "    <tr>\n",
       "      <th>...</th>\n",
       "      <td>...</td>\n",
       "      <td>...</td>\n",
       "      <td>...</td>\n",
       "      <td>...</td>\n",
       "      <td>...</td>\n",
       "      <td>...</td>\n",
       "      <td>...</td>\n",
       "      <td>...</td>\n",
       "      <td>...</td>\n",
       "    </tr>\n",
       "    <tr>\n",
       "      <th>9216759</th>\n",
       "      <td>tt9916844</td>\n",
       "      <td>tvEpisode</td>\n",
       "      <td>Episode #3.15</td>\n",
       "      <td>Episode #3.15</td>\n",
       "      <td>0</td>\n",
       "      <td>2010</td>\n",
       "      <td>NaN</td>\n",
       "      <td>NaN</td>\n",
       "      <td>Action,Drama,Family</td>\n",
       "    </tr>\n",
       "    <tr>\n",
       "      <th>9216760</th>\n",
       "      <td>tt9916846</td>\n",
       "      <td>tvEpisode</td>\n",
       "      <td>Episode #3.18</td>\n",
       "      <td>Episode #3.18</td>\n",
       "      <td>0</td>\n",
       "      <td>2010</td>\n",
       "      <td>NaN</td>\n",
       "      <td>NaN</td>\n",
       "      <td>Action,Drama,Family</td>\n",
       "    </tr>\n",
       "    <tr>\n",
       "      <th>9216761</th>\n",
       "      <td>tt9916848</td>\n",
       "      <td>tvEpisode</td>\n",
       "      <td>Episode #3.17</td>\n",
       "      <td>Episode #3.17</td>\n",
       "      <td>0</td>\n",
       "      <td>2010</td>\n",
       "      <td>NaN</td>\n",
       "      <td>NaN</td>\n",
       "      <td>Action,Drama,Family</td>\n",
       "    </tr>\n",
       "    <tr>\n",
       "      <th>9216762</th>\n",
       "      <td>tt9916850</td>\n",
       "      <td>tvEpisode</td>\n",
       "      <td>Episode #3.19</td>\n",
       "      <td>Episode #3.19</td>\n",
       "      <td>0</td>\n",
       "      <td>2010</td>\n",
       "      <td>NaN</td>\n",
       "      <td>NaN</td>\n",
       "      <td>Action,Drama,Family</td>\n",
       "    </tr>\n",
       "    <tr>\n",
       "      <th>9216763</th>\n",
       "      <td>tt9916852</td>\n",
       "      <td>tvEpisode</td>\n",
       "      <td>Episode #3.20</td>\n",
       "      <td>Episode #3.20</td>\n",
       "      <td>0</td>\n",
       "      <td>2010</td>\n",
       "      <td>NaN</td>\n",
       "      <td>NaN</td>\n",
       "      <td>Action,Drama,Family</td>\n",
       "    </tr>\n",
       "  </tbody>\n",
       "</table>\n",
       "<p>6745702 rows × 9 columns</p>\n",
       "</div>"
      ],
      "text/plain": [
       "            tconst  titleType                                   primaryTitle  \\\n",
       "18       tt0000019      short                               The Clown Barber   \n",
       "22       tt0000024      short                      Opening of the Kiel Canal   \n",
       "23       tt0000025      short  The Oxford and Cambridge University Boat Race   \n",
       "36       tt0000038      short                                  The Ball Game   \n",
       "37       tt0000039      short                              Barnet Horse Fair   \n",
       "...            ...        ...                                            ...   \n",
       "9216759  tt9916844  tvEpisode                                  Episode #3.15   \n",
       "9216760  tt9916846  tvEpisode                                  Episode #3.18   \n",
       "9216761  tt9916848  tvEpisode                                  Episode #3.17   \n",
       "9216762  tt9916850  tvEpisode                                  Episode #3.19   \n",
       "9216763  tt9916852  tvEpisode                                  Episode #3.20   \n",
       "\n",
       "                                         originalTitle isAdult startYear  \\\n",
       "18                                    The Clown Barber       0      1898   \n",
       "22                           Opening of the Kiel Canal       0      1895   \n",
       "23       The Oxford and Cambridge University Boat Race       0      1895   \n",
       "36                                       The Ball Game       0      1898   \n",
       "37                                   Barnet Horse Fair       0      1896   \n",
       "...                                                ...     ...       ...   \n",
       "9216759                                  Episode #3.15       0      2010   \n",
       "9216760                                  Episode #3.18       0      2010   \n",
       "9216761                                  Episode #3.17       0      2010   \n",
       "9216762                                  Episode #3.19       0      2010   \n",
       "9216763                                  Episode #3.20       0      2010   \n",
       "\n",
       "        endYear runtimeMinutes                   genres  \n",
       "18          NaN            NaN             Comedy,Short  \n",
       "22          NaN            NaN               News,Short  \n",
       "23          NaN            NaN         News,Short,Sport  \n",
       "36          NaN            NaN  Documentary,Short,Sport  \n",
       "37          NaN            NaN                    Short  \n",
       "...         ...            ...                      ...  \n",
       "9216759     NaN            NaN      Action,Drama,Family  \n",
       "9216760     NaN            NaN      Action,Drama,Family  \n",
       "9216761     NaN            NaN      Action,Drama,Family  \n",
       "9216762     NaN            NaN      Action,Drama,Family  \n",
       "9216763     NaN            NaN      Action,Drama,Family  \n",
       "\n",
       "[6745702 rows x 9 columns]"
      ]
     },
     "execution_count": 35,
     "metadata": {},
     "output_type": "execute_result"
    }
   ],
   "source": [
    "#confirming missing values in runtimeMinutes column\n",
    "basics2[basics2['runtimeMinutes'].isnull()]"
   ]
  },
  {
   "cell_type": "code",
   "execution_count": 36,
   "id": "5f0b75f2",
   "metadata": {},
   "outputs": [],
   "source": [
    "#Eliminate movies that are null for runtimeMinutes\n",
    "basics2 = basics2.dropna(axis=0, subset=['runtimeMinutes'])"
   ]
  },
  {
   "cell_type": "code",
   "execution_count": 37,
   "id": "b0d8dc7b",
   "metadata": {},
   "outputs": [
    {
     "data": {
      "text/html": [
       "<div>\n",
       "<style scoped>\n",
       "    .dataframe tbody tr th:only-of-type {\n",
       "        vertical-align: middle;\n",
       "    }\n",
       "\n",
       "    .dataframe tbody tr th {\n",
       "        vertical-align: top;\n",
       "    }\n",
       "\n",
       "    .dataframe thead th {\n",
       "        text-align: right;\n",
       "    }\n",
       "</style>\n",
       "<table border=\"1\" class=\"dataframe\">\n",
       "  <thead>\n",
       "    <tr style=\"text-align: right;\">\n",
       "      <th></th>\n",
       "      <th>tconst</th>\n",
       "      <th>titleType</th>\n",
       "      <th>primaryTitle</th>\n",
       "      <th>originalTitle</th>\n",
       "      <th>isAdult</th>\n",
       "      <th>startYear</th>\n",
       "      <th>endYear</th>\n",
       "      <th>runtimeMinutes</th>\n",
       "      <th>genres</th>\n",
       "    </tr>\n",
       "  </thead>\n",
       "  <tbody>\n",
       "    <tr>\n",
       "      <th>498</th>\n",
       "      <td>tt0000502</td>\n",
       "      <td>movie</td>\n",
       "      <td>Bohemios</td>\n",
       "      <td>Bohemios</td>\n",
       "      <td>0</td>\n",
       "      <td>1905</td>\n",
       "      <td>NaN</td>\n",
       "      <td>100</td>\n",
       "      <td>NaN</td>\n",
       "    </tr>\n",
       "    <tr>\n",
       "      <th>1346</th>\n",
       "      <td>tt0001358</td>\n",
       "      <td>movie</td>\n",
       "      <td>Peder Tordenskjold</td>\n",
       "      <td>Peder Tordenskjold</td>\n",
       "      <td>0</td>\n",
       "      <td>1910</td>\n",
       "      <td>NaN</td>\n",
       "      <td>34</td>\n",
       "      <td>NaN</td>\n",
       "    </tr>\n",
       "    <tr>\n",
       "      <th>1616</th>\n",
       "      <td>tt0001630</td>\n",
       "      <td>movie</td>\n",
       "      <td>Der fremde Vogel</td>\n",
       "      <td>Der fremde Vogel</td>\n",
       "      <td>0</td>\n",
       "      <td>1911</td>\n",
       "      <td>NaN</td>\n",
       "      <td>45</td>\n",
       "      <td>NaN</td>\n",
       "    </tr>\n",
       "    <tr>\n",
       "      <th>1739</th>\n",
       "      <td>tt0001756</td>\n",
       "      <td>movie</td>\n",
       "      <td>Lucha por la herencia</td>\n",
       "      <td>Lucha por la herencia</td>\n",
       "      <td>0</td>\n",
       "      <td>1911</td>\n",
       "      <td>NaN</td>\n",
       "      <td>92</td>\n",
       "      <td>NaN</td>\n",
       "    </tr>\n",
       "    <tr>\n",
       "      <th>2069</th>\n",
       "      <td>tt0002094</td>\n",
       "      <td>movie</td>\n",
       "      <td>Charles IV</td>\n",
       "      <td>Charles IV</td>\n",
       "      <td>0</td>\n",
       "      <td>1912</td>\n",
       "      <td>NaN</td>\n",
       "      <td>50</td>\n",
       "      <td>NaN</td>\n",
       "    </tr>\n",
       "    <tr>\n",
       "      <th>...</th>\n",
       "      <td>...</td>\n",
       "      <td>...</td>\n",
       "      <td>...</td>\n",
       "      <td>...</td>\n",
       "      <td>...</td>\n",
       "      <td>...</td>\n",
       "      <td>...</td>\n",
       "      <td>...</td>\n",
       "      <td>...</td>\n",
       "    </tr>\n",
       "    <tr>\n",
       "      <th>9215382</th>\n",
       "      <td>tt9913834</td>\n",
       "      <td>movie</td>\n",
       "      <td>Hiniku: Nure nawazeme</td>\n",
       "      <td>Hiniku: Nure nawazeme</td>\n",
       "      <td>0</td>\n",
       "      <td>1981</td>\n",
       "      <td>NaN</td>\n",
       "      <td>64</td>\n",
       "      <td>NaN</td>\n",
       "    </tr>\n",
       "    <tr>\n",
       "      <th>9215403</th>\n",
       "      <td>tt9913878</td>\n",
       "      <td>movie</td>\n",
       "      <td>Document porno: Yubi ijime</td>\n",
       "      <td>Document porno: Yubi ijime</td>\n",
       "      <td>0</td>\n",
       "      <td>1981</td>\n",
       "      <td>NaN</td>\n",
       "      <td>61</td>\n",
       "      <td>NaN</td>\n",
       "    </tr>\n",
       "    <tr>\n",
       "      <th>9215978</th>\n",
       "      <td>tt9915130</td>\n",
       "      <td>movie</td>\n",
       "      <td>Meet John Doe</td>\n",
       "      <td>Meet John Doe</td>\n",
       "      <td>0</td>\n",
       "      <td>NaN</td>\n",
       "      <td>NaN</td>\n",
       "      <td>120</td>\n",
       "      <td>NaN</td>\n",
       "    </tr>\n",
       "    <tr>\n",
       "      <th>9216421</th>\n",
       "      <td>tt9916134</td>\n",
       "      <td>movie</td>\n",
       "      <td>The Thing in the Bag</td>\n",
       "      <td>The Thing in the Bag</td>\n",
       "      <td>0</td>\n",
       "      <td>NaN</td>\n",
       "      <td>NaN</td>\n",
       "      <td>78</td>\n",
       "      <td>NaN</td>\n",
       "    </tr>\n",
       "    <tr>\n",
       "      <th>9216706</th>\n",
       "      <td>tt9916730</td>\n",
       "      <td>movie</td>\n",
       "      <td>6 Gunn</td>\n",
       "      <td>6 Gunn</td>\n",
       "      <td>0</td>\n",
       "      <td>2017</td>\n",
       "      <td>NaN</td>\n",
       "      <td>116</td>\n",
       "      <td>NaN</td>\n",
       "    </tr>\n",
       "  </tbody>\n",
       "</table>\n",
       "<p>67444 rows × 9 columns</p>\n",
       "</div>"
      ],
      "text/plain": [
       "            tconst titleType                primaryTitle  \\\n",
       "498      tt0000502     movie                    Bohemios   \n",
       "1346     tt0001358     movie          Peder Tordenskjold   \n",
       "1616     tt0001630     movie            Der fremde Vogel   \n",
       "1739     tt0001756     movie       Lucha por la herencia   \n",
       "2069     tt0002094     movie                  Charles IV   \n",
       "...            ...       ...                         ...   \n",
       "9215382  tt9913834     movie       Hiniku: Nure nawazeme   \n",
       "9215403  tt9913878     movie  Document porno: Yubi ijime   \n",
       "9215978  tt9915130     movie               Meet John Doe   \n",
       "9216421  tt9916134     movie        The Thing in the Bag   \n",
       "9216706  tt9916730     movie                      6 Gunn   \n",
       "\n",
       "                      originalTitle isAdult startYear endYear runtimeMinutes  \\\n",
       "498                        Bohemios       0      1905     NaN            100   \n",
       "1346             Peder Tordenskjold       0      1910     NaN             34   \n",
       "1616               Der fremde Vogel       0      1911     NaN             45   \n",
       "1739          Lucha por la herencia       0      1911     NaN             92   \n",
       "2069                     Charles IV       0      1912     NaN             50   \n",
       "...                             ...     ...       ...     ...            ...   \n",
       "9215382       Hiniku: Nure nawazeme       0      1981     NaN             64   \n",
       "9215403  Document porno: Yubi ijime       0      1981     NaN             61   \n",
       "9215978               Meet John Doe       0       NaN     NaN            120   \n",
       "9216421        The Thing in the Bag       0       NaN     NaN             78   \n",
       "9216706                      6 Gunn       0      2017     NaN            116   \n",
       "\n",
       "        genres  \n",
       "498        NaN  \n",
       "1346       NaN  \n",
       "1616       NaN  \n",
       "1739       NaN  \n",
       "2069       NaN  \n",
       "...        ...  \n",
       "9215382    NaN  \n",
       "9215403    NaN  \n",
       "9215978    NaN  \n",
       "9216421    NaN  \n",
       "9216706    NaN  \n",
       "\n",
       "[67444 rows x 9 columns]"
      ]
     },
     "execution_count": 37,
     "metadata": {},
     "output_type": "execute_result"
    }
   ],
   "source": [
    "basics2[basics2['genres'].isnull()]"
   ]
  },
  {
   "cell_type": "code",
   "execution_count": 38,
   "id": "db687de8",
   "metadata": {},
   "outputs": [],
   "source": [
    "#Eliminate movies that are null for genres\n",
    "basics2 = basics2.dropna(axis=0, subset=['genres'])"
   ]
  },
  {
   "cell_type": "code",
   "execution_count": 39,
   "id": "1a6e5b55",
   "metadata": {},
   "outputs": [
    {
     "data": {
      "text/plain": [
       "tvEpisode       1066995\n",
       "short            575827\n",
       "movie            367806\n",
       "video            175375\n",
       "tvMovie           88460\n",
       "tvSeries          86782\n",
       "tvSpecial         16546\n",
       "tvMiniSeries      16128\n",
       "tvShort            9400\n",
       "videoGame           301\n",
       "Name: titleType, dtype: int64"
      ]
     },
     "execution_count": 39,
     "metadata": {},
     "output_type": "execute_result"
    }
   ],
   "source": [
    "#reviewing subtypes of titleType column\n",
    "basics2['titleType'].value_counts()"
   ]
  },
  {
   "cell_type": "code",
   "execution_count": 40,
   "id": "9206fa28",
   "metadata": {},
   "outputs": [],
   "source": [
    "#keep only titleType==Movie\n",
    "basics2 = basics2.drop(basics2[basics2['titleType'] != 'movie'].index)"
   ]
  },
  {
   "cell_type": "code",
   "execution_count": 41,
   "id": "cb2786ea",
   "metadata": {},
   "outputs": [
    {
     "data": {
      "text/plain": [
       "movie    367806\n",
       "Name: titleType, dtype: int64"
      ]
     },
     "execution_count": 41,
     "metadata": {},
     "output_type": "execute_result"
    }
   ],
   "source": [
    "#confirming only movie subtype in titleType column\n",
    "basics2['titleType'].value_counts()"
   ]
  },
  {
   "cell_type": "code",
   "execution_count": 42,
   "id": "0ab60f06",
   "metadata": {},
   "outputs": [],
   "source": [
    "#drop all values less than 2020\n",
    "basics2 = basics2.drop(basics2[basics2['startYear'] < '2020'].index)"
   ]
  },
  {
   "cell_type": "code",
   "execution_count": 43,
   "id": "235e339e",
   "metadata": {},
   "outputs": [],
   "source": [
    "#exclude movies that are included in the documentary category.\n",
    "is_documentary = basics2['genres'].str.contains('documentary',case=False)\n",
    "basics2 = basics2[~is_documentary]"
   ]
  },
  {
   "cell_type": "code",
   "execution_count": 44,
   "id": "67865d5c",
   "metadata": {},
   "outputs": [],
   "source": [
    "#confirm documentary not in genres column\n",
    "starts_doc = basics2['genres'].str.startswith('doc', 'Doc')"
   ]
  },
  {
   "cell_type": "code",
   "execution_count": 45,
   "id": "ac4db488",
   "metadata": {},
   "outputs": [
    {
     "data": {
      "text/html": [
       "<div>\n",
       "<style scoped>\n",
       "    .dataframe tbody tr th:only-of-type {\n",
       "        vertical-align: middle;\n",
       "    }\n",
       "\n",
       "    .dataframe tbody tr th {\n",
       "        vertical-align: top;\n",
       "    }\n",
       "\n",
       "    .dataframe thead th {\n",
       "        text-align: right;\n",
       "    }\n",
       "</style>\n",
       "<table border=\"1\" class=\"dataframe\">\n",
       "  <thead>\n",
       "    <tr style=\"text-align: right;\">\n",
       "      <th></th>\n",
       "      <th>tconst</th>\n",
       "      <th>titleType</th>\n",
       "      <th>primaryTitle</th>\n",
       "      <th>originalTitle</th>\n",
       "      <th>isAdult</th>\n",
       "      <th>startYear</th>\n",
       "      <th>endYear</th>\n",
       "      <th>runtimeMinutes</th>\n",
       "      <th>genres</th>\n",
       "    </tr>\n",
       "  </thead>\n",
       "  <tbody>\n",
       "  </tbody>\n",
       "</table>\n",
       "</div>"
      ],
      "text/plain": [
       "Empty DataFrame\n",
       "Columns: [tconst, titleType, primaryTitle, originalTitle, isAdult, startYear, endYear, runtimeMinutes, genres]\n",
       "Index: []"
      ]
     },
     "execution_count": 45,
     "metadata": {},
     "output_type": "execute_result"
    }
   ],
   "source": [
    "basics2[starts_doc]"
   ]
  },
  {
   "cell_type": "markdown",
   "id": "c5c5b2e0",
   "metadata": {},
   "source": [
    "Akas Cleaning"
   ]
  },
  {
   "cell_type": "code",
   "execution_count": 46,
   "id": "54024105",
   "metadata": {},
   "outputs": [],
   "source": [
    "#Replace \"\\N\" with np.nan\n",
    "akas2.replace({'\\\\N':np.nan}, inplace=True)"
   ]
  },
  {
   "cell_type": "code",
   "execution_count": 47,
   "id": "b22e0c93",
   "metadata": {},
   "outputs": [
    {
     "data": {
      "text/html": [
       "<div>\n",
       "<style scoped>\n",
       "    .dataframe tbody tr th:only-of-type {\n",
       "        vertical-align: middle;\n",
       "    }\n",
       "\n",
       "    .dataframe tbody tr th {\n",
       "        vertical-align: top;\n",
       "    }\n",
       "\n",
       "    .dataframe thead th {\n",
       "        text-align: right;\n",
       "    }\n",
       "</style>\n",
       "<table border=\"1\" class=\"dataframe\">\n",
       "  <thead>\n",
       "    <tr style=\"text-align: right;\">\n",
       "      <th></th>\n",
       "      <th>titleId</th>\n",
       "      <th>ordering</th>\n",
       "      <th>title</th>\n",
       "      <th>region</th>\n",
       "      <th>language</th>\n",
       "      <th>types</th>\n",
       "      <th>attributes</th>\n",
       "      <th>isOriginalTitle</th>\n",
       "    </tr>\n",
       "  </thead>\n",
       "  <tbody>\n",
       "    <tr>\n",
       "      <th>0</th>\n",
       "      <td>tt0000001</td>\n",
       "      <td>1</td>\n",
       "      <td>Карменсіта</td>\n",
       "      <td>UA</td>\n",
       "      <td>NaN</td>\n",
       "      <td>imdbDisplay</td>\n",
       "      <td>NaN</td>\n",
       "      <td>0</td>\n",
       "    </tr>\n",
       "    <tr>\n",
       "      <th>1</th>\n",
       "      <td>tt0000001</td>\n",
       "      <td>2</td>\n",
       "      <td>Carmencita</td>\n",
       "      <td>DE</td>\n",
       "      <td>NaN</td>\n",
       "      <td>NaN</td>\n",
       "      <td>literal title</td>\n",
       "      <td>0</td>\n",
       "    </tr>\n",
       "    <tr>\n",
       "      <th>2</th>\n",
       "      <td>tt0000001</td>\n",
       "      <td>3</td>\n",
       "      <td>Carmencita - spanyol tánc</td>\n",
       "      <td>HU</td>\n",
       "      <td>NaN</td>\n",
       "      <td>imdbDisplay</td>\n",
       "      <td>NaN</td>\n",
       "      <td>0</td>\n",
       "    </tr>\n",
       "    <tr>\n",
       "      <th>3</th>\n",
       "      <td>tt0000001</td>\n",
       "      <td>4</td>\n",
       "      <td>Καρμενσίτα</td>\n",
       "      <td>GR</td>\n",
       "      <td>NaN</td>\n",
       "      <td>imdbDisplay</td>\n",
       "      <td>NaN</td>\n",
       "      <td>0</td>\n",
       "    </tr>\n",
       "    <tr>\n",
       "      <th>4</th>\n",
       "      <td>tt0000001</td>\n",
       "      <td>5</td>\n",
       "      <td>Карменсита</td>\n",
       "      <td>RU</td>\n",
       "      <td>NaN</td>\n",
       "      <td>imdbDisplay</td>\n",
       "      <td>NaN</td>\n",
       "      <td>0</td>\n",
       "    </tr>\n",
       "  </tbody>\n",
       "</table>\n",
       "</div>"
      ],
      "text/plain": [
       "     titleId  ordering                      title region language  \\\n",
       "0  tt0000001         1                 Карменсіта     UA      NaN   \n",
       "1  tt0000001         2                 Carmencita     DE      NaN   \n",
       "2  tt0000001         3  Carmencita - spanyol tánc     HU      NaN   \n",
       "3  tt0000001         4                 Καρμενσίτα     GR      NaN   \n",
       "4  tt0000001         5                 Карменсита     RU      NaN   \n",
       "\n",
       "         types     attributes isOriginalTitle  \n",
       "0  imdbDisplay            NaN               0  \n",
       "1          NaN  literal title               0  \n",
       "2  imdbDisplay            NaN               0  \n",
       "3  imdbDisplay            NaN               0  \n",
       "4  imdbDisplay            NaN               0  "
      ]
     },
     "execution_count": 47,
     "metadata": {},
     "output_type": "execute_result"
    }
   ],
   "source": [
    "akas2.head()"
   ]
  },
  {
   "cell_type": "code",
   "execution_count": 48,
   "id": "a6623763",
   "metadata": {},
   "outputs": [
    {
     "data": {
      "text/html": [
       "<div>\n",
       "<style scoped>\n",
       "    .dataframe tbody tr th:only-of-type {\n",
       "        vertical-align: middle;\n",
       "    }\n",
       "\n",
       "    .dataframe tbody tr th {\n",
       "        vertical-align: top;\n",
       "    }\n",
       "\n",
       "    .dataframe thead th {\n",
       "        text-align: right;\n",
       "    }\n",
       "</style>\n",
       "<table border=\"1\" class=\"dataframe\">\n",
       "  <thead>\n",
       "    <tr style=\"text-align: right;\">\n",
       "      <th></th>\n",
       "      <th>titleId</th>\n",
       "      <th>ordering</th>\n",
       "      <th>title</th>\n",
       "      <th>region</th>\n",
       "      <th>language</th>\n",
       "      <th>types</th>\n",
       "      <th>attributes</th>\n",
       "      <th>isOriginalTitle</th>\n",
       "    </tr>\n",
       "  </thead>\n",
       "  <tbody>\n",
       "    <tr>\n",
       "      <th>5</th>\n",
       "      <td>tt0000001</td>\n",
       "      <td>6</td>\n",
       "      <td>Carmencita</td>\n",
       "      <td>US</td>\n",
       "      <td>NaN</td>\n",
       "      <td>imdbDisplay</td>\n",
       "      <td>NaN</td>\n",
       "      <td>0</td>\n",
       "    </tr>\n",
       "    <tr>\n",
       "      <th>14</th>\n",
       "      <td>tt0000002</td>\n",
       "      <td>7</td>\n",
       "      <td>The Clown and His Dogs</td>\n",
       "      <td>US</td>\n",
       "      <td>NaN</td>\n",
       "      <td>NaN</td>\n",
       "      <td>literal English title</td>\n",
       "      <td>0</td>\n",
       "    </tr>\n",
       "    <tr>\n",
       "      <th>33</th>\n",
       "      <td>tt0000005</td>\n",
       "      <td>10</td>\n",
       "      <td>Blacksmith Scene</td>\n",
       "      <td>US</td>\n",
       "      <td>NaN</td>\n",
       "      <td>imdbDisplay</td>\n",
       "      <td>NaN</td>\n",
       "      <td>0</td>\n",
       "    </tr>\n",
       "    <tr>\n",
       "      <th>36</th>\n",
       "      <td>tt0000005</td>\n",
       "      <td>1</td>\n",
       "      <td>Blacksmithing Scene</td>\n",
       "      <td>US</td>\n",
       "      <td>NaN</td>\n",
       "      <td>alternative</td>\n",
       "      <td>NaN</td>\n",
       "      <td>0</td>\n",
       "    </tr>\n",
       "    <tr>\n",
       "      <th>41</th>\n",
       "      <td>tt0000005</td>\n",
       "      <td>6</td>\n",
       "      <td>Blacksmith Scene #1</td>\n",
       "      <td>US</td>\n",
       "      <td>NaN</td>\n",
       "      <td>alternative</td>\n",
       "      <td>NaN</td>\n",
       "      <td>0</td>\n",
       "    </tr>\n",
       "    <tr>\n",
       "      <th>...</th>\n",
       "      <td>...</td>\n",
       "      <td>...</td>\n",
       "      <td>...</td>\n",
       "      <td>...</td>\n",
       "      <td>...</td>\n",
       "      <td>...</td>\n",
       "      <td>...</td>\n",
       "      <td>...</td>\n",
       "    </tr>\n",
       "    <tr>\n",
       "      <th>33155491</th>\n",
       "      <td>tt9916702</td>\n",
       "      <td>1</td>\n",
       "      <td>Loving London: The Playground</td>\n",
       "      <td>US</td>\n",
       "      <td>NaN</td>\n",
       "      <td>NaN</td>\n",
       "      <td>NaN</td>\n",
       "      <td>0</td>\n",
       "    </tr>\n",
       "    <tr>\n",
       "      <th>33155528</th>\n",
       "      <td>tt9916720</td>\n",
       "      <td>10</td>\n",
       "      <td>The Demonic Nun</td>\n",
       "      <td>US</td>\n",
       "      <td>NaN</td>\n",
       "      <td>tv</td>\n",
       "      <td>NaN</td>\n",
       "      <td>0</td>\n",
       "    </tr>\n",
       "    <tr>\n",
       "      <th>33155530</th>\n",
       "      <td>tt9916720</td>\n",
       "      <td>12</td>\n",
       "      <td>The Nun 2</td>\n",
       "      <td>US</td>\n",
       "      <td>NaN</td>\n",
       "      <td>imdbDisplay</td>\n",
       "      <td>NaN</td>\n",
       "      <td>0</td>\n",
       "    </tr>\n",
       "    <tr>\n",
       "      <th>33155547</th>\n",
       "      <td>tt9916756</td>\n",
       "      <td>1</td>\n",
       "      <td>Pretty Pretty Black Girl</td>\n",
       "      <td>US</td>\n",
       "      <td>NaN</td>\n",
       "      <td>imdbDisplay</td>\n",
       "      <td>NaN</td>\n",
       "      <td>0</td>\n",
       "    </tr>\n",
       "    <tr>\n",
       "      <th>33155563</th>\n",
       "      <td>tt9916764</td>\n",
       "      <td>1</td>\n",
       "      <td>38</td>\n",
       "      <td>US</td>\n",
       "      <td>NaN</td>\n",
       "      <td>imdbDisplay</td>\n",
       "      <td>NaN</td>\n",
       "      <td>0</td>\n",
       "    </tr>\n",
       "  </tbody>\n",
       "</table>\n",
       "<p>1348370 rows × 8 columns</p>\n",
       "</div>"
      ],
      "text/plain": [
       "            titleId  ordering                          title region language  \\\n",
       "5         tt0000001         6                     Carmencita     US      NaN   \n",
       "14        tt0000002         7         The Clown and His Dogs     US      NaN   \n",
       "33        tt0000005        10               Blacksmith Scene     US      NaN   \n",
       "36        tt0000005         1            Blacksmithing Scene     US      NaN   \n",
       "41        tt0000005         6            Blacksmith Scene #1     US      NaN   \n",
       "...             ...       ...                            ...    ...      ...   \n",
       "33155491  tt9916702         1  Loving London: The Playground     US      NaN   \n",
       "33155528  tt9916720        10                The Demonic Nun     US      NaN   \n",
       "33155530  tt9916720        12                      The Nun 2     US      NaN   \n",
       "33155547  tt9916756         1       Pretty Pretty Black Girl     US      NaN   \n",
       "33155563  tt9916764         1                             38     US      NaN   \n",
       "\n",
       "                types             attributes isOriginalTitle  \n",
       "5         imdbDisplay                    NaN               0  \n",
       "14                NaN  literal English title               0  \n",
       "33        imdbDisplay                    NaN               0  \n",
       "36        alternative                    NaN               0  \n",
       "41        alternative                    NaN               0  \n",
       "...               ...                    ...             ...  \n",
       "33155491          NaN                    NaN               0  \n",
       "33155528           tv                    NaN               0  \n",
       "33155530  imdbDisplay                    NaN               0  \n",
       "33155547  imdbDisplay                    NaN               0  \n",
       "33155563  imdbDisplay                    NaN               0  \n",
       "\n",
       "[1348370 rows x 8 columns]"
      ]
     },
     "execution_count": 48,
     "metadata": {},
     "output_type": "execute_result"
    }
   ],
   "source": [
    "#review US count in region column\n",
    "akas2.loc[akas2['region'] == 'US']"
   ]
  },
  {
   "cell_type": "code",
   "execution_count": 49,
   "id": "80fd580a",
   "metadata": {},
   "outputs": [],
   "source": [
    "#drop all regions not US\n",
    "akas2 = akas2.drop(akas2[akas2['region'] != 'US'].index)"
   ]
  },
  {
   "cell_type": "code",
   "execution_count": 50,
   "id": "74b65194",
   "metadata": {},
   "outputs": [
    {
     "data": {
      "text/plain": [
       "US    1348370\n",
       "Name: region, dtype: int64"
      ]
     },
     "execution_count": 50,
     "metadata": {},
     "output_type": "execute_result"
    }
   ],
   "source": [
    "#confirm only US region\n",
    "akas2['region'].value_counts()"
   ]
  },
  {
   "cell_type": "markdown",
   "id": "4463d4bb",
   "metadata": {},
   "source": [
    "Ratings Cleaning"
   ]
  },
  {
   "cell_type": "code",
   "execution_count": 51,
   "id": "d8bc979c",
   "metadata": {},
   "outputs": [
    {
     "name": "stdout",
     "output_type": "stream",
     "text": [
      "<class 'pandas.core.frame.DataFrame'>\n",
      "RangeIndex: 1259757 entries, 0 to 1259756\n",
      "Data columns (total 3 columns):\n",
      " #   Column         Non-Null Count    Dtype  \n",
      "---  ------         --------------    -----  \n",
      " 0   tconst         1259757 non-null  object \n",
      " 1   averageRating  1259757 non-null  float64\n",
      " 2   numVotes       1259757 non-null  int64  \n",
      "dtypes: float64(1), int64(1), object(1)\n",
      "memory usage: 28.8+ MB\n",
      "None \n",
      "\n",
      "tconst           0\n",
      "averageRating    0\n",
      "numVotes         0\n",
      "dtype: int64\n"
     ]
    }
   ],
   "source": [
    "#reviewing data and checking for missing values\n",
    "print(ratings2.info(), '\\n')\n",
    "print(ratings2.isna().sum())\n",
    "\n",
    "#no missing values"
   ]
  },
  {
   "cell_type": "code",
   "execution_count": 52,
   "id": "7527d246",
   "metadata": {},
   "outputs": [
    {
     "data": {
      "text/plain": [
       "60162      False\n",
       "61093       True\n",
       "78420      False\n",
       "86367      False\n",
       "92045      False\n",
       "           ...  \n",
       "9215557    False\n",
       "9215897    False\n",
       "9216447     True\n",
       "9216486    False\n",
       "9216531     True\n",
       "Name: tconst, Length: 26117, dtype: bool"
      ]
     },
     "execution_count": 52,
     "metadata": {},
     "output_type": "execute_result"
    }
   ],
   "source": [
    "#filter basics2 df based on akas2 df\n",
    "\n",
    "#filter the basics table down to only include the US by using the filter akas dataframe\n",
    "keepers2 =basics2['tconst'].isin(akas2['titleId'])\n",
    "keepers2"
   ]
  },
  {
   "cell_type": "code",
   "execution_count": 53,
   "id": "eec88b8c",
   "metadata": {},
   "outputs": [
    {
     "data": {
      "text/html": [
       "<div>\n",
       "<style scoped>\n",
       "    .dataframe tbody tr th:only-of-type {\n",
       "        vertical-align: middle;\n",
       "    }\n",
       "\n",
       "    .dataframe tbody tr th {\n",
       "        vertical-align: top;\n",
       "    }\n",
       "\n",
       "    .dataframe thead th {\n",
       "        text-align: right;\n",
       "    }\n",
       "</style>\n",
       "<table border=\"1\" class=\"dataframe\">\n",
       "  <thead>\n",
       "    <tr style=\"text-align: right;\">\n",
       "      <th></th>\n",
       "      <th>tconst</th>\n",
       "      <th>titleType</th>\n",
       "      <th>primaryTitle</th>\n",
       "      <th>originalTitle</th>\n",
       "      <th>isAdult</th>\n",
       "      <th>startYear</th>\n",
       "      <th>endYear</th>\n",
       "      <th>runtimeMinutes</th>\n",
       "      <th>genres</th>\n",
       "    </tr>\n",
       "  </thead>\n",
       "  <tbody>\n",
       "    <tr>\n",
       "      <th>61093</th>\n",
       "      <td>tt0062336</td>\n",
       "      <td>movie</td>\n",
       "      <td>The Tango of the Widower and Its Distorting Mi...</td>\n",
       "      <td>El Tango del Viudo y Su Espejo Deformante</td>\n",
       "      <td>0</td>\n",
       "      <td>2020</td>\n",
       "      <td>NaN</td>\n",
       "      <td>70</td>\n",
       "      <td>Drama</td>\n",
       "    </tr>\n",
       "    <tr>\n",
       "      <th>117691</th>\n",
       "      <td>tt0120589</td>\n",
       "      <td>movie</td>\n",
       "      <td>A Dangerous Practice</td>\n",
       "      <td>A Dangerous Practice</td>\n",
       "      <td>0</td>\n",
       "      <td>2022</td>\n",
       "      <td>NaN</td>\n",
       "      <td>108</td>\n",
       "      <td>Drama</td>\n",
       "    </tr>\n",
       "    <tr>\n",
       "      <th>137179</th>\n",
       "      <td>tt0141390</td>\n",
       "      <td>movie</td>\n",
       "      <td>Ira's Ordeal</td>\n",
       "      <td>Ira's Ordeal</td>\n",
       "      <td>1</td>\n",
       "      <td>NaN</td>\n",
       "      <td>NaN</td>\n",
       "      <td>60</td>\n",
       "      <td>Adult</td>\n",
       "    </tr>\n",
       "    <tr>\n",
       "      <th>148504</th>\n",
       "      <td>tt0153198</td>\n",
       "      <td>movie</td>\n",
       "      <td>Tortured Present</td>\n",
       "      <td>Tortured Present</td>\n",
       "      <td>1</td>\n",
       "      <td>NaN</td>\n",
       "      <td>NaN</td>\n",
       "      <td>60</td>\n",
       "      <td>Adult</td>\n",
       "    </tr>\n",
       "    <tr>\n",
       "      <th>172679</th>\n",
       "      <td>tt0178965</td>\n",
       "      <td>movie</td>\n",
       "      <td>Vampires</td>\n",
       "      <td>Vampires</td>\n",
       "      <td>0</td>\n",
       "      <td>NaN</td>\n",
       "      <td>NaN</td>\n",
       "      <td>80</td>\n",
       "      <td>Horror</td>\n",
       "    </tr>\n",
       "    <tr>\n",
       "      <th>...</th>\n",
       "      <td>...</td>\n",
       "      <td>...</td>\n",
       "      <td>...</td>\n",
       "      <td>...</td>\n",
       "      <td>...</td>\n",
       "      <td>...</td>\n",
       "      <td>...</td>\n",
       "      <td>...</td>\n",
       "      <td>...</td>\n",
       "    </tr>\n",
       "    <tr>\n",
       "      <th>9211169</th>\n",
       "      <td>tt9904802</td>\n",
       "      <td>movie</td>\n",
       "      <td>Enemy Lines</td>\n",
       "      <td>Enemy Lines</td>\n",
       "      <td>0</td>\n",
       "      <td>2020</td>\n",
       "      <td>NaN</td>\n",
       "      <td>92</td>\n",
       "      <td>War</td>\n",
       "    </tr>\n",
       "    <tr>\n",
       "      <th>9212579</th>\n",
       "      <td>tt9907782</td>\n",
       "      <td>movie</td>\n",
       "      <td>The Cursed</td>\n",
       "      <td>Eight for Silver</td>\n",
       "      <td>0</td>\n",
       "      <td>2021</td>\n",
       "      <td>NaN</td>\n",
       "      <td>111</td>\n",
       "      <td>Fantasy,Horror,Mystery</td>\n",
       "    </tr>\n",
       "    <tr>\n",
       "      <th>9214123</th>\n",
       "      <td>tt9911196</td>\n",
       "      <td>movie</td>\n",
       "      <td>The Marriage Escape</td>\n",
       "      <td>De beentjes van Sint-Hildegard</td>\n",
       "      <td>0</td>\n",
       "      <td>2020</td>\n",
       "      <td>NaN</td>\n",
       "      <td>103</td>\n",
       "      <td>Comedy,Drama</td>\n",
       "    </tr>\n",
       "    <tr>\n",
       "      <th>9216447</th>\n",
       "      <td>tt9916190</td>\n",
       "      <td>movie</td>\n",
       "      <td>Safeguard</td>\n",
       "      <td>Safeguard</td>\n",
       "      <td>0</td>\n",
       "      <td>2020</td>\n",
       "      <td>NaN</td>\n",
       "      <td>95</td>\n",
       "      <td>Action,Adventure,Thriller</td>\n",
       "    </tr>\n",
       "    <tr>\n",
       "      <th>9216531</th>\n",
       "      <td>tt9916362</td>\n",
       "      <td>movie</td>\n",
       "      <td>Coven</td>\n",
       "      <td>Akelarre</td>\n",
       "      <td>0</td>\n",
       "      <td>2020</td>\n",
       "      <td>NaN</td>\n",
       "      <td>92</td>\n",
       "      <td>Drama,History</td>\n",
       "    </tr>\n",
       "  </tbody>\n",
       "</table>\n",
       "<p>14927 rows × 9 columns</p>\n",
       "</div>"
      ],
      "text/plain": [
       "            tconst titleType  \\\n",
       "61093    tt0062336     movie   \n",
       "117691   tt0120589     movie   \n",
       "137179   tt0141390     movie   \n",
       "148504   tt0153198     movie   \n",
       "172679   tt0178965     movie   \n",
       "...            ...       ...   \n",
       "9211169  tt9904802     movie   \n",
       "9212579  tt9907782     movie   \n",
       "9214123  tt9911196     movie   \n",
       "9216447  tt9916190     movie   \n",
       "9216531  tt9916362     movie   \n",
       "\n",
       "                                              primaryTitle  \\\n",
       "61093    The Tango of the Widower and Its Distorting Mi...   \n",
       "117691                                A Dangerous Practice   \n",
       "137179                                        Ira's Ordeal   \n",
       "148504                                    Tortured Present   \n",
       "172679                                            Vampires   \n",
       "...                                                    ...   \n",
       "9211169                                        Enemy Lines   \n",
       "9212579                                         The Cursed   \n",
       "9214123                                The Marriage Escape   \n",
       "9216447                                          Safeguard   \n",
       "9216531                                              Coven   \n",
       "\n",
       "                                     originalTitle isAdult startYear endYear  \\\n",
       "61093    El Tango del Viudo y Su Espejo Deformante       0      2020     NaN   \n",
       "117691                        A Dangerous Practice       0      2022     NaN   \n",
       "137179                                Ira's Ordeal       1       NaN     NaN   \n",
       "148504                            Tortured Present       1       NaN     NaN   \n",
       "172679                                    Vampires       0       NaN     NaN   \n",
       "...                                            ...     ...       ...     ...   \n",
       "9211169                                Enemy Lines       0      2020     NaN   \n",
       "9212579                           Eight for Silver       0      2021     NaN   \n",
       "9214123             De beentjes van Sint-Hildegard       0      2020     NaN   \n",
       "9216447                                  Safeguard       0      2020     NaN   \n",
       "9216531                                   Akelarre       0      2020     NaN   \n",
       "\n",
       "        runtimeMinutes                     genres  \n",
       "61093               70                      Drama  \n",
       "117691             108                      Drama  \n",
       "137179              60                      Adult  \n",
       "148504              60                      Adult  \n",
       "172679              80                     Horror  \n",
       "...                ...                        ...  \n",
       "9211169             92                        War  \n",
       "9212579            111     Fantasy,Horror,Mystery  \n",
       "9214123            103               Comedy,Drama  \n",
       "9216447             95  Action,Adventure,Thriller  \n",
       "9216531             92              Drama,History  \n",
       "\n",
       "[14927 rows x 9 columns]"
      ]
     },
     "execution_count": 53,
     "metadata": {},
     "output_type": "execute_result"
    }
   ],
   "source": [
    "basics2 = basics2[keepers2]\n",
    "basics2"
   ]
  },
  {
   "cell_type": "markdown",
   "id": "639c421f",
   "metadata": {},
   "source": [
    "Create Data Folder for years 2020-2022"
   ]
  },
  {
   "cell_type": "code",
   "execution_count": 54,
   "id": "7df77262",
   "metadata": {},
   "outputs": [],
   "source": [
    "#save current basics2 dataframe to file.\n",
    "basics2.to_csv(\"Data/title_basics2.csv.gz\",compression='gzip',index=False)"
   ]
  },
  {
   "cell_type": "code",
   "execution_count": 55,
   "id": "d34480ff",
   "metadata": {},
   "outputs": [
    {
     "data": {
      "text/html": [
       "<div>\n",
       "<style scoped>\n",
       "    .dataframe tbody tr th:only-of-type {\n",
       "        vertical-align: middle;\n",
       "    }\n",
       "\n",
       "    .dataframe tbody tr th {\n",
       "        vertical-align: top;\n",
       "    }\n",
       "\n",
       "    .dataframe thead th {\n",
       "        text-align: right;\n",
       "    }\n",
       "</style>\n",
       "<table border=\"1\" class=\"dataframe\">\n",
       "  <thead>\n",
       "    <tr style=\"text-align: right;\">\n",
       "      <th></th>\n",
       "      <th>tconst</th>\n",
       "      <th>titleType</th>\n",
       "      <th>primaryTitle</th>\n",
       "      <th>originalTitle</th>\n",
       "      <th>isAdult</th>\n",
       "      <th>startYear</th>\n",
       "      <th>endYear</th>\n",
       "      <th>runtimeMinutes</th>\n",
       "      <th>genres</th>\n",
       "    </tr>\n",
       "  </thead>\n",
       "  <tbody>\n",
       "    <tr>\n",
       "      <th>0</th>\n",
       "      <td>tt0062336</td>\n",
       "      <td>movie</td>\n",
       "      <td>The Tango of the Widower and Its Distorting Mi...</td>\n",
       "      <td>El Tango del Viudo y Su Espejo Deformante</td>\n",
       "      <td>0</td>\n",
       "      <td>2020.0</td>\n",
       "      <td>NaN</td>\n",
       "      <td>70</td>\n",
       "      <td>Drama</td>\n",
       "    </tr>\n",
       "    <tr>\n",
       "      <th>1</th>\n",
       "      <td>tt0120589</td>\n",
       "      <td>movie</td>\n",
       "      <td>A Dangerous Practice</td>\n",
       "      <td>A Dangerous Practice</td>\n",
       "      <td>0</td>\n",
       "      <td>2022.0</td>\n",
       "      <td>NaN</td>\n",
       "      <td>108</td>\n",
       "      <td>Drama</td>\n",
       "    </tr>\n",
       "    <tr>\n",
       "      <th>2</th>\n",
       "      <td>tt0141390</td>\n",
       "      <td>movie</td>\n",
       "      <td>Ira's Ordeal</td>\n",
       "      <td>Ira's Ordeal</td>\n",
       "      <td>1</td>\n",
       "      <td>NaN</td>\n",
       "      <td>NaN</td>\n",
       "      <td>60</td>\n",
       "      <td>Adult</td>\n",
       "    </tr>\n",
       "    <tr>\n",
       "      <th>3</th>\n",
       "      <td>tt0153198</td>\n",
       "      <td>movie</td>\n",
       "      <td>Tortured Present</td>\n",
       "      <td>Tortured Present</td>\n",
       "      <td>1</td>\n",
       "      <td>NaN</td>\n",
       "      <td>NaN</td>\n",
       "      <td>60</td>\n",
       "      <td>Adult</td>\n",
       "    </tr>\n",
       "    <tr>\n",
       "      <th>4</th>\n",
       "      <td>tt0178965</td>\n",
       "      <td>movie</td>\n",
       "      <td>Vampires</td>\n",
       "      <td>Vampires</td>\n",
       "      <td>0</td>\n",
       "      <td>NaN</td>\n",
       "      <td>NaN</td>\n",
       "      <td>80</td>\n",
       "      <td>Horror</td>\n",
       "    </tr>\n",
       "  </tbody>\n",
       "</table>\n",
       "</div>"
      ],
      "text/plain": [
       "      tconst titleType                                       primaryTitle  \\\n",
       "0  tt0062336     movie  The Tango of the Widower and Its Distorting Mi...   \n",
       "1  tt0120589     movie                               A Dangerous Practice   \n",
       "2  tt0141390     movie                                       Ira's Ordeal   \n",
       "3  tt0153198     movie                                   Tortured Present   \n",
       "4  tt0178965     movie                                           Vampires   \n",
       "\n",
       "                               originalTitle  isAdult  startYear  endYear  \\\n",
       "0  El Tango del Viudo y Su Espejo Deformante        0     2020.0      NaN   \n",
       "1                       A Dangerous Practice        0     2022.0      NaN   \n",
       "2                               Ira's Ordeal        1        NaN      NaN   \n",
       "3                           Tortured Present        1        NaN      NaN   \n",
       "4                                   Vampires        0        NaN      NaN   \n",
       "\n",
       "   runtimeMinutes  genres  \n",
       "0              70   Drama  \n",
       "1             108   Drama  \n",
       "2              60   Adult  \n",
       "3              60   Adult  \n",
       "4              80  Horror  "
      ]
     },
     "execution_count": 55,
     "metadata": {},
     "output_type": "execute_result"
    }
   ],
   "source": [
    "#open saved file and preview again\n",
    "basics2 = pd.read_csv(\"Data/title_basics2.csv.gz\", low_memory = False)\n",
    "basics2.head()"
   ]
  },
  {
   "cell_type": "code",
   "execution_count": 56,
   "id": "00c25724",
   "metadata": {},
   "outputs": [],
   "source": [
    "#save current ratings dataframe to file.\n",
    "ratings2.to_csv(\"Data/title_ratings2.csv.gz\",compression='gzip',index=False)"
   ]
  },
  {
   "cell_type": "code",
   "execution_count": 57,
   "id": "2fe8b3ac",
   "metadata": {},
   "outputs": [
    {
     "data": {
      "text/html": [
       "<div>\n",
       "<style scoped>\n",
       "    .dataframe tbody tr th:only-of-type {\n",
       "        vertical-align: middle;\n",
       "    }\n",
       "\n",
       "    .dataframe tbody tr th {\n",
       "        vertical-align: top;\n",
       "    }\n",
       "\n",
       "    .dataframe thead th {\n",
       "        text-align: right;\n",
       "    }\n",
       "</style>\n",
       "<table border=\"1\" class=\"dataframe\">\n",
       "  <thead>\n",
       "    <tr style=\"text-align: right;\">\n",
       "      <th></th>\n",
       "      <th>tconst</th>\n",
       "      <th>averageRating</th>\n",
       "      <th>numVotes</th>\n",
       "    </tr>\n",
       "  </thead>\n",
       "  <tbody>\n",
       "    <tr>\n",
       "      <th>0</th>\n",
       "      <td>tt0000001</td>\n",
       "      <td>5.7</td>\n",
       "      <td>1910</td>\n",
       "    </tr>\n",
       "    <tr>\n",
       "      <th>1</th>\n",
       "      <td>tt0000002</td>\n",
       "      <td>5.8</td>\n",
       "      <td>256</td>\n",
       "    </tr>\n",
       "    <tr>\n",
       "      <th>2</th>\n",
       "      <td>tt0000003</td>\n",
       "      <td>6.5</td>\n",
       "      <td>1712</td>\n",
       "    </tr>\n",
       "    <tr>\n",
       "      <th>3</th>\n",
       "      <td>tt0000004</td>\n",
       "      <td>5.6</td>\n",
       "      <td>169</td>\n",
       "    </tr>\n",
       "    <tr>\n",
       "      <th>4</th>\n",
       "      <td>tt0000005</td>\n",
       "      <td>6.2</td>\n",
       "      <td>2527</td>\n",
       "    </tr>\n",
       "  </tbody>\n",
       "</table>\n",
       "</div>"
      ],
      "text/plain": [
       "      tconst  averageRating  numVotes\n",
       "0  tt0000001            5.7      1910\n",
       "1  tt0000002            5.8       256\n",
       "2  tt0000003            6.5      1712\n",
       "3  tt0000004            5.6       169\n",
       "4  tt0000005            6.2      2527"
      ]
     },
     "execution_count": 57,
     "metadata": {},
     "output_type": "execute_result"
    }
   ],
   "source": [
    "#open saved file and preview again\n",
    "ratings2 = pd.read_csv(\"Data/title_ratings2.csv.gz\", low_memory = False)\n",
    "ratings2.head()"
   ]
  },
  {
   "cell_type": "code",
   "execution_count": 58,
   "id": "acda3083",
   "metadata": {},
   "outputs": [],
   "source": [
    "#save current akas2 dataframe to file.\n",
    "akas2.to_csv(\"Data/title_akas2.csv.gz\",compression='gzip',index=False)"
   ]
  },
  {
   "cell_type": "code",
   "execution_count": 59,
   "id": "86512ce9",
   "metadata": {
    "scrolled": true
   },
   "outputs": [
    {
     "data": {
      "text/html": [
       "<div>\n",
       "<style scoped>\n",
       "    .dataframe tbody tr th:only-of-type {\n",
       "        vertical-align: middle;\n",
       "    }\n",
       "\n",
       "    .dataframe tbody tr th {\n",
       "        vertical-align: top;\n",
       "    }\n",
       "\n",
       "    .dataframe thead th {\n",
       "        text-align: right;\n",
       "    }\n",
       "</style>\n",
       "<table border=\"1\" class=\"dataframe\">\n",
       "  <thead>\n",
       "    <tr style=\"text-align: right;\">\n",
       "      <th></th>\n",
       "      <th>titleId</th>\n",
       "      <th>ordering</th>\n",
       "      <th>title</th>\n",
       "      <th>region</th>\n",
       "      <th>language</th>\n",
       "      <th>types</th>\n",
       "      <th>attributes</th>\n",
       "      <th>isOriginalTitle</th>\n",
       "    </tr>\n",
       "  </thead>\n",
       "  <tbody>\n",
       "    <tr>\n",
       "      <th>0</th>\n",
       "      <td>tt0000001</td>\n",
       "      <td>6</td>\n",
       "      <td>Carmencita</td>\n",
       "      <td>US</td>\n",
       "      <td>NaN</td>\n",
       "      <td>imdbDisplay</td>\n",
       "      <td>NaN</td>\n",
       "      <td>0.0</td>\n",
       "    </tr>\n",
       "    <tr>\n",
       "      <th>1</th>\n",
       "      <td>tt0000002</td>\n",
       "      <td>7</td>\n",
       "      <td>The Clown and His Dogs</td>\n",
       "      <td>US</td>\n",
       "      <td>NaN</td>\n",
       "      <td>NaN</td>\n",
       "      <td>literal English title</td>\n",
       "      <td>0.0</td>\n",
       "    </tr>\n",
       "    <tr>\n",
       "      <th>2</th>\n",
       "      <td>tt0000005</td>\n",
       "      <td>10</td>\n",
       "      <td>Blacksmith Scene</td>\n",
       "      <td>US</td>\n",
       "      <td>NaN</td>\n",
       "      <td>imdbDisplay</td>\n",
       "      <td>NaN</td>\n",
       "      <td>0.0</td>\n",
       "    </tr>\n",
       "    <tr>\n",
       "      <th>3</th>\n",
       "      <td>tt0000005</td>\n",
       "      <td>1</td>\n",
       "      <td>Blacksmithing Scene</td>\n",
       "      <td>US</td>\n",
       "      <td>NaN</td>\n",
       "      <td>alternative</td>\n",
       "      <td>NaN</td>\n",
       "      <td>0.0</td>\n",
       "    </tr>\n",
       "    <tr>\n",
       "      <th>4</th>\n",
       "      <td>tt0000005</td>\n",
       "      <td>6</td>\n",
       "      <td>Blacksmith Scene #1</td>\n",
       "      <td>US</td>\n",
       "      <td>NaN</td>\n",
       "      <td>alternative</td>\n",
       "      <td>NaN</td>\n",
       "      <td>0.0</td>\n",
       "    </tr>\n",
       "  </tbody>\n",
       "</table>\n",
       "</div>"
      ],
      "text/plain": [
       "     titleId  ordering                   title region language        types  \\\n",
       "0  tt0000001         6              Carmencita     US      NaN  imdbDisplay   \n",
       "1  tt0000002         7  The Clown and His Dogs     US      NaN          NaN   \n",
       "2  tt0000005        10        Blacksmith Scene     US      NaN  imdbDisplay   \n",
       "3  tt0000005         1     Blacksmithing Scene     US      NaN  alternative   \n",
       "4  tt0000005         6     Blacksmith Scene #1     US      NaN  alternative   \n",
       "\n",
       "              attributes  isOriginalTitle  \n",
       "0                    NaN              0.0  \n",
       "1  literal English title              0.0  \n",
       "2                    NaN              0.0  \n",
       "3                    NaN              0.0  \n",
       "4                    NaN              0.0  "
      ]
     },
     "execution_count": 59,
     "metadata": {},
     "output_type": "execute_result"
    }
   ],
   "source": [
    "#open saved file and preview again\n",
    "akas2 = pd.read_csv(\"Data/title_akas2.csv.gz\", low_memory = False)\n",
    "akas2.head()"
   ]
  },
  {
   "cell_type": "code",
   "execution_count": 84,
   "id": "e9cb9a6d",
   "metadata": {},
   "outputs": [
    {
     "data": {
      "text/plain": [
       "{'adult': False,\n",
       " 'backdrop_path': '/9ns9463dwOeo1CK1JU2wirL5Yi1.jpg',\n",
       " 'belongs_to_collection': None,\n",
       " 'budget': 50000000,\n",
       " 'genres': [{'id': 35, 'name': 'Comedy'},\n",
       "  {'id': 10751, 'name': 'Family'},\n",
       "  {'id': 16, 'name': 'Animation'}],\n",
       " 'homepage': 'https://www.tomandjerrymovie.com',\n",
       " 'id': 587807,\n",
       " 'imdb_id': 'tt1361336',\n",
       " 'original_language': 'en',\n",
       " 'original_title': 'Tom & Jerry',\n",
       " 'overview': 'Tom the cat and Jerry the mouse get kicked out of their home and relocate to a fancy New York hotel, where a scrappy employee named Kayla will lose her job if she can’t evict Jerry before a high-class wedding at the hotel. Her solution? Hiring Tom to get rid of the pesky mouse.',\n",
       " 'popularity': 127.167,\n",
       " 'poster_path': '/8XZI9QZ7Pm3fVkigWJPbrXCMzjq.jpg',\n",
       " 'production_companies': [{'id': 174,\n",
       "   'logo_path': '/IuAlhI9eVC9Z8UQWOIDdWRKSEJ.png',\n",
       "   'name': 'Warner Bros. Pictures',\n",
       "   'origin_country': 'US'},\n",
       "  {'id': 8922,\n",
       "   'logo_path': '/yZWehAyjfKi4KvKeg1bkJ1bm5H8.png',\n",
       "   'name': 'Turner Entertainment',\n",
       "   'origin_country': 'US'},\n",
       "  {'id': 25120,\n",
       "   'logo_path': '/lqUpBvDLQYG3QaKNpe2lxfpgh36.png',\n",
       "   'name': 'Warner Animation Group',\n",
       "   'origin_country': 'US'},\n",
       "  {'id': 77061,\n",
       "   'logo_path': None,\n",
       "   'name': 'The Story Company',\n",
       "   'origin_country': ''}],\n",
       " 'production_countries': [{'iso_3166_1': 'US',\n",
       "   'name': 'United States of America'}],\n",
       " 'release_date': '2021-02-10',\n",
       " 'revenue': 132000000,\n",
       " 'runtime': 101,\n",
       " 'spoken_languages': [{'english_name': 'English',\n",
       "   'iso_639_1': 'en',\n",
       "   'name': 'English'}],\n",
       " 'status': 'Released',\n",
       " 'tagline': 'Best of enemies. Worst of friends.',\n",
       " 'title': 'Tom & Jerry',\n",
       " 'video': False,\n",
       " 'vote_average': 6.97,\n",
       " 'vote_count': 2074}"
      ]
     },
     "execution_count": 84,
     "metadata": {},
     "output_type": "execute_result"
    }
   ],
   "source": [
    "#check info for movie example\n",
    "info = movie.info()\n",
    "info\n",
    "\n",
    "#budget and revenue included in movie info but not certification"
   ]
  },
  {
   "cell_type": "code",
   "execution_count": 85,
   "id": "b0a0f0af",
   "metadata": {},
   "outputs": [
    {
     "data": {
      "text/plain": [
       "50000000"
      ]
     },
     "execution_count": 85,
     "metadata": {},
     "output_type": "execute_result"
    }
   ],
   "source": [
    "#can search with IMDB_ID\n",
    "#example with budget of Tom and Jerry\n",
    "movie = tmdb.Movies('tt1361336')\n",
    "info = movie.info()\n",
    "info['budget']"
   ]
  },
  {
   "cell_type": "code",
   "execution_count": 86,
   "id": "c593c881",
   "metadata": {},
   "outputs": [
    {
     "name": "stdout",
     "output_type": "stream",
     "text": [
      "PG\n",
      "PG\n",
      "PG\n"
     ]
    }
   ],
   "source": [
    "#how to get certification rating example if movie is in the US\n",
    "\n",
    "response = movie.releases()\n",
    "for c in movie.countries:\n",
    "    if c['iso_3166_1'] == 'US':\n",
    "        print(c['certification'])"
   ]
  },
  {
   "cell_type": "code",
   "execution_count": 87,
   "id": "60f9aee5",
   "metadata": {},
   "outputs": [],
   "source": [
    "# Get the movie object for the current id\n",
    "movie = tmdb.Movies('tt1361336')\n",
    "# save the .info .releases dictionaries\n",
    "info = movie.info()\n",
    "releases = movie.releases()\n",
    "# Loop through countries in releases\n",
    "for c in releases['countries']:\n",
    "    # if the country abbreviation==US\n",
    "    if c['iso_3166_1' ] =='US':\n",
    "        ## save a \"certification\" key in the info dict with the certification\n",
    "       info['certification'] = c['certification']"
   ]
  },
  {
   "cell_type": "code",
   "execution_count": 88,
   "id": "4c8f1051",
   "metadata": {},
   "outputs": [],
   "source": [
    "#create a function that adds certification to dictionary results for movie.info()\n",
    "\n",
    "def get_movie_with_rating(movie_id):\n",
    "    #get movie and release dates\n",
    "    movie = tmdb.Movies(movie_id)\n",
    "    #construct output dict\n",
    "    movie_info = movie.info()\n",
    "    releases = movie.releases()\n",
    "    for c in releases['countries']:\n",
    "        if c['iso_3166_1'] =='US':\n",
    "            movie_info['certification'] = c['certification']\n",
    "    return movie_info"
   ]
  },
  {
   "cell_type": "code",
   "execution_count": 89,
   "id": "0cc309e0",
   "metadata": {},
   "outputs": [
    {
     "data": {
      "text/plain": [
       "{'adult': False,\n",
       " 'backdrop_path': '/9BBTo63ANSmhC4e6r62OJFuK2GL.jpg',\n",
       " 'belongs_to_collection': {'id': 86311,\n",
       "  'name': 'The Avengers Collection',\n",
       "  'poster_path': '/yFSIUVTCvgYrpalUktulvk3Gi5Y.jpg',\n",
       "  'backdrop_path': '/zuW6fOiusv4X9nnW3paHGfXcSll.jpg'},\n",
       " 'budget': 220000000,\n",
       " 'genres': [{'id': 878, 'name': 'Science Fiction'},\n",
       "  {'id': 28, 'name': 'Action'},\n",
       "  {'id': 12, 'name': 'Adventure'}],\n",
       " 'homepage': 'https://www.marvel.com/movies/the-avengers',\n",
       " 'id': 24428,\n",
       " 'imdb_id': 'tt0848228',\n",
       " 'original_language': 'en',\n",
       " 'original_title': 'The Avengers',\n",
       " 'overview': 'When an unexpected enemy emerges and threatens global safety and security, Nick Fury, director of the international peacekeeping agency known as S.H.I.E.L.D., finds himself in need of a team to pull the world back from the brink of disaster. Spanning the globe, a daring recruitment effort begins!',\n",
       " 'popularity': 195.506,\n",
       " 'poster_path': '/RYMX2wcKCBAr24UyPD7xwmjaTn.jpg',\n",
       " 'production_companies': [{'id': 420,\n",
       "   'logo_path': '/hUzeosd33nzE5MCNsZxCGEKTXaQ.png',\n",
       "   'name': 'Marvel Studios',\n",
       "   'origin_country': 'US'}],\n",
       " 'production_countries': [{'iso_3166_1': 'US',\n",
       "   'name': 'United States of America'}],\n",
       " 'release_date': '2012-04-25',\n",
       " 'revenue': 1518815515,\n",
       " 'runtime': 143,\n",
       " 'spoken_languages': [{'english_name': 'English',\n",
       "   'iso_639_1': 'en',\n",
       "   'name': 'English'},\n",
       "  {'english_name': 'Hindi', 'iso_639_1': 'hi', 'name': 'हिन्दी'},\n",
       "  {'english_name': 'Russian', 'iso_639_1': 'ru', 'name': 'Pусский'}],\n",
       " 'status': 'Released',\n",
       " 'tagline': 'Some assembly required.',\n",
       " 'title': 'The Avengers',\n",
       " 'video': False,\n",
       " 'vote_average': 7.706,\n",
       " 'vote_count': 27466,\n",
       " 'certification': 'PG-13'}"
      ]
     },
     "execution_count": 89,
     "metadata": {},
     "output_type": "execute_result"
    }
   ],
   "source": [
    "#test function with The Avengers\n",
    "test = get_movie_with_rating(\"tt0848228\")\n",
    "test\n",
    "\n",
    "#has budget, revenue, and certification info"
   ]
  },
  {
   "cell_type": "markdown",
   "id": "61371430",
   "metadata": {},
   "source": [
    "Create JSON file for Covid Years 2020, 2021, 2022"
   ]
  },
  {
   "cell_type": "code",
   "execution_count": 90,
   "id": "79af2e4f",
   "metadata": {},
   "outputs": [
    {
     "data": {
      "text/plain": [
       "['final_tmdb_data_2000.csv.gz',\n",
       " 'final_tmdb_data_2001.csv.gz',\n",
       " 'final_tmdb_data_2020.csv.gz',\n",
       " 'final_tmdb_data_2021.csv.gz',\n",
       " 'final_tmdb_data_2022.csv.gz',\n",
       " 'title_akas.csv.gz',\n",
       " 'title_akas2.csv.gz',\n",
       " 'title_basics.csv.gz',\n",
       " 'title_basics2.csv.gz',\n",
       " 'title_ratings.csv.gz',\n",
       " 'title_ratings2.csv.gz',\n",
       " 'tmdb_api_results_2000.json',\n",
       " 'tmdb_api_results_2001.json',\n",
       " 'tmdb_api_results_2020.json',\n",
       " 'tmdb_api_results_2021.json',\n",
       " 'tmdb_api_results_2022.json',\n",
       " 'tmdb_results_combined.csv.gz']"
      ]
     },
     "execution_count": 90,
     "metadata": {},
     "output_type": "execute_result"
    }
   ],
   "source": [
    "import os, time,json\n",
    "import tmdbsimple as tmdb \n",
    "FOLDER = \"Data/\"\n",
    "os.makedirs(FOLDER, exist_ok=True)\n",
    "os.listdir(FOLDER)"
   ]
  },
  {
   "cell_type": "code",
   "execution_count": 91,
   "id": "b2cab48d",
   "metadata": {},
   "outputs": [],
   "source": [
    "#define years 2020-2020\n",
    "COVID_YEARS = [2020, 2021, 2022]"
   ]
  },
  {
   "cell_type": "code",
   "execution_count": 92,
   "id": "c8eeb6e7",
   "metadata": {},
   "outputs": [],
   "source": [
    "#function to append new results to the existing JSON file\n",
    "def write_json(new_data, filename): \n",
    "    \"\"\"Adapted from: https://www.geeksforgeeks.org/append-to-json-file-using-python/\"\"\"    \n",
    "    \n",
    "    with open(filename,'r+') as file:\n",
    "        # First we load existing data into a dict.\n",
    "        file_data = json.load(file)\n",
    "        ## Choose extend or append\n",
    "        if (type(new_data) == list) & (type(file_data) == list):\n",
    "            file_data.extend(new_data)\n",
    "        else:\n",
    "             file_data.append(new_data)\n",
    "        # Sets file's current position at offset.\n",
    "        file.seek(0)\n",
    "        # convert back to json.\n",
    "        json.dump(file_data, file)"
   ]
  },
  {
   "cell_type": "code",
   "execution_count": 93,
   "id": "dca01374",
   "metadata": {},
   "outputs": [
    {
     "data": {
      "application/vnd.jupyter.widget-view+json": {
       "model_id": "b2642b72714049bda306fd84169c63fc",
       "version_major": 2,
       "version_minor": 0
      },
      "text/plain": [
       "YEAR:   0%|          | 0/3 [00:00<?, ?it/s]"
      ]
     },
     "metadata": {},
     "output_type": "display_data"
    },
    {
     "data": {
      "application/vnd.jupyter.widget-view+json": {
       "model_id": "245383372ce14bdf8f9be2bbc2c8eb14",
       "version_major": 2,
       "version_minor": 0
      },
      "text/plain": [
       "Movies from 2020:   0%|          | 0/4867 [00:00<?, ?it/s]"
      ]
     },
     "metadata": {},
     "output_type": "display_data"
    },
    {
     "data": {
      "application/vnd.jupyter.widget-view+json": {
       "model_id": "f5df18695e29481b95ca2c0893c15ea2",
       "version_major": 2,
       "version_minor": 0
      },
      "text/plain": [
       "Movies from 2021:   0%|          | 0/4839 [00:00<?, ?it/s]"
      ]
     },
     "metadata": {},
     "output_type": "display_data"
    },
    {
     "data": {
      "application/vnd.jupyter.widget-view+json": {
       "model_id": "43eebd266f3b4f3285f2db48ecd078fa",
       "version_major": 2,
       "version_minor": 0
      },
      "text/plain": [
       "Movies from 2022:   0%|          | 0/2811 [00:00<?, ?it/s]"
      ]
     },
     "metadata": {},
     "output_type": "display_data"
    }
   ],
   "source": [
    "from tqdm.notebook import tqdm_notebook\n",
    "\n",
    "#set up progress bar to keep track of work\n",
    "for YEAR in tqdm_notebook (COVID_YEARS,desc='YEAR',position=0):\n",
    "    #define JSON file to store results for year\n",
    "    JSON_FILE = f'{FOLDER}tmdb_api_results_{YEAR}.json'\n",
    "    #Check if file exists\n",
    "    file_exists = os.path.isfile(JSON_FILE)\n",
    "    \n",
    "    #create file and save empty dictionary with imdb_id\n",
    "    #If it does not exist: create it\n",
    "    if file_exists == False:\n",
    "    #save an empty dict with just \"imdb_id\" to the new json file.\n",
    "        with open(JSON_FILE,'w') as f:\n",
    "            json.dump([{'imdb_id':0}],f)\n",
    "    \n",
    "    df2 = basics2.loc[basics2['startYear']==YEAR].copy()\n",
    "    movie_ids = df2['tconst'].copy()\n",
    "    #Load existing data from json into a dataframe called \"previous_df\"\n",
    "    previous_df2 = pd.read_json(JSON_FILE)\n",
    "    # filter out any ids that are already in the JSON_FILE\n",
    "    #movie_ids_to_get variable\n",
    "    movie_ids_to_get = movie_ids[~movie_ids.isin(previous_df2['imdb_id'])]\n",
    "    \n",
    "    for movie_id in tqdm_notebook(movie_ids_to_get, desc=f'Movies from {YEAR}', position=1, leave=True):\n",
    "        try:\n",
    "            temp = get_movie_with_rating(movie_id)  #This uses your pre-made function\n",
    "            #Append/extend results to existing file using a pre-made function\n",
    "            write_json(temp,JSON_FILE)\n",
    "            #Short 20 ms sleep to prevent overwhelming server\n",
    "            time.sleep(0.02)\n",
    "        #If it fails,  make a dict with just the id and None for certification.\n",
    "        except Exception as e:\n",
    "            continue\n",
    "            \n",
    "    #Save the year's results as csv.gz file\n",
    "    covid_year_df = pd.read_json(JSON_FILE)\n",
    "    covid_year_df.to_csv(f\"{FOLDER}final_tmdb_data_{YEAR}.csv.gz\", compression=\"gzip\", index=False)"
   ]
  },
  {
   "cell_type": "code",
   "execution_count": 94,
   "id": "aa4aef08",
   "metadata": {},
   "outputs": [
    {
     "data": {
      "text/html": [
       "<div>\n",
       "<style scoped>\n",
       "    .dataframe tbody tr th:only-of-type {\n",
       "        vertical-align: middle;\n",
       "    }\n",
       "\n",
       "    .dataframe tbody tr th {\n",
       "        vertical-align: top;\n",
       "    }\n",
       "\n",
       "    .dataframe thead th {\n",
       "        text-align: right;\n",
       "    }\n",
       "</style>\n",
       "<table border=\"1\" class=\"dataframe\">\n",
       "  <thead>\n",
       "    <tr style=\"text-align: right;\">\n",
       "      <th></th>\n",
       "      <th>imdb_id</th>\n",
       "      <th>adult</th>\n",
       "      <th>backdrop_path</th>\n",
       "      <th>belongs_to_collection</th>\n",
       "      <th>budget</th>\n",
       "      <th>genres</th>\n",
       "      <th>homepage</th>\n",
       "      <th>id</th>\n",
       "      <th>original_language</th>\n",
       "      <th>original_title</th>\n",
       "      <th>...</th>\n",
       "      <th>revenue</th>\n",
       "      <th>runtime</th>\n",
       "      <th>spoken_languages</th>\n",
       "      <th>status</th>\n",
       "      <th>tagline</th>\n",
       "      <th>title</th>\n",
       "      <th>video</th>\n",
       "      <th>vote_average</th>\n",
       "      <th>vote_count</th>\n",
       "      <th>certification</th>\n",
       "    </tr>\n",
       "  </thead>\n",
       "  <tbody>\n",
       "    <tr>\n",
       "      <th>0</th>\n",
       "      <td>0</td>\n",
       "      <td>NaN</td>\n",
       "      <td>NaN</td>\n",
       "      <td>NaN</td>\n",
       "      <td>NaN</td>\n",
       "      <td>NaN</td>\n",
       "      <td>NaN</td>\n",
       "      <td>NaN</td>\n",
       "      <td>NaN</td>\n",
       "      <td>NaN</td>\n",
       "      <td>...</td>\n",
       "      <td>NaN</td>\n",
       "      <td>NaN</td>\n",
       "      <td>NaN</td>\n",
       "      <td>NaN</td>\n",
       "      <td>NaN</td>\n",
       "      <td>NaN</td>\n",
       "      <td>NaN</td>\n",
       "      <td>NaN</td>\n",
       "      <td>NaN</td>\n",
       "      <td>NaN</td>\n",
       "    </tr>\n",
       "    <tr>\n",
       "      <th>1</th>\n",
       "      <td>tt0120589</td>\n",
       "      <td>0.0</td>\n",
       "      <td>/japrW22Wq46UXhYLE2XLh0o9g7U.jpg</td>\n",
       "      <td>None</td>\n",
       "      <td>0.0</td>\n",
       "      <td>[{'id': 18, 'name': 'Drama'}]</td>\n",
       "      <td></td>\n",
       "      <td>649985.0</td>\n",
       "      <td>pt</td>\n",
       "      <td>Predestinado: Arigó e o Espírito do Dr. Fritz</td>\n",
       "      <td>...</td>\n",
       "      <td>0.0</td>\n",
       "      <td>0.0</td>\n",
       "      <td>[{'english_name': 'Portuguese', 'iso_639_1': '...</td>\n",
       "      <td>Released</td>\n",
       "      <td></td>\n",
       "      <td>Predestinado: Arigó e o Espírito do Dr. Fritz</td>\n",
       "      <td>0.0</td>\n",
       "      <td>8.5</td>\n",
       "      <td>2.0</td>\n",
       "      <td>NaN</td>\n",
       "    </tr>\n",
       "    <tr>\n",
       "      <th>2</th>\n",
       "      <td>tt0200940</td>\n",
       "      <td>0.0</td>\n",
       "      <td>None</td>\n",
       "      <td>None</td>\n",
       "      <td>0.0</td>\n",
       "      <td>[{'id': 878, 'name': 'Science Fiction'}, {'id'...</td>\n",
       "      <td></td>\n",
       "      <td>68240.0</td>\n",
       "      <td>en</td>\n",
       "      <td>Over-sexed Rugsuckers from Mars</td>\n",
       "      <td>...</td>\n",
       "      <td>0.0</td>\n",
       "      <td>87.0</td>\n",
       "      <td>[{'english_name': 'English', 'iso_639_1': 'en'...</td>\n",
       "      <td>Released</td>\n",
       "      <td>You'll never trust your vacuum cleaner again!</td>\n",
       "      <td>Over-sexed Rugsuckers from Mars</td>\n",
       "      <td>0.0</td>\n",
       "      <td>3.3</td>\n",
       "      <td>3.0</td>\n",
       "      <td>NaN</td>\n",
       "    </tr>\n",
       "    <tr>\n",
       "      <th>3</th>\n",
       "      <td>tt0265705</td>\n",
       "      <td>0.0</td>\n",
       "      <td>None</td>\n",
       "      <td>None</td>\n",
       "      <td>0.0</td>\n",
       "      <td>[{'id': 878, 'name': 'Science Fiction'}, {'id'...</td>\n",
       "      <td></td>\n",
       "      <td>312394.0</td>\n",
       "      <td>en</td>\n",
       "      <td>Saurians</td>\n",
       "      <td>...</td>\n",
       "      <td>0.0</td>\n",
       "      <td>83.0</td>\n",
       "      <td>[{'english_name': 'English', 'iso_639_1': 'en'...</td>\n",
       "      <td>Released</td>\n",
       "      <td>The Age of The Dinosaurs is Reborn!</td>\n",
       "      <td>Saurians</td>\n",
       "      <td>0.0</td>\n",
       "      <td>9.0</td>\n",
       "      <td>1.0</td>\n",
       "      <td></td>\n",
       "    </tr>\n",
       "    <tr>\n",
       "      <th>4</th>\n",
       "      <td>tt0326716</td>\n",
       "      <td>0.0</td>\n",
       "      <td>/oLyQu5QAR1w7e8roeveNiZXS5kN.jpg</td>\n",
       "      <td>None</td>\n",
       "      <td>0.0</td>\n",
       "      <td>[{'id': 18, 'name': 'Drama'}, {'id': 35, 'name...</td>\n",
       "      <td>http://5-25-77themovie.com</td>\n",
       "      <td>199734.0</td>\n",
       "      <td>en</td>\n",
       "      <td>5-25-77</td>\n",
       "      <td>...</td>\n",
       "      <td>0.0</td>\n",
       "      <td>135.0</td>\n",
       "      <td>[{'english_name': 'English', 'iso_639_1': 'en'...</td>\n",
       "      <td>Released</td>\n",
       "      <td>Some days are just better than others.</td>\n",
       "      <td>5-25-77</td>\n",
       "      <td>0.0</td>\n",
       "      <td>5.0</td>\n",
       "      <td>5.0</td>\n",
       "      <td>NR</td>\n",
       "    </tr>\n",
       "  </tbody>\n",
       "</table>\n",
       "<p>5 rows × 26 columns</p>\n",
       "</div>"
      ],
      "text/plain": [
       "     imdb_id  adult                     backdrop_path belongs_to_collection  \\\n",
       "0          0    NaN                               NaN                   NaN   \n",
       "1  tt0120589    0.0  /japrW22Wq46UXhYLE2XLh0o9g7U.jpg                  None   \n",
       "2  tt0200940    0.0                              None                  None   \n",
       "3  tt0265705    0.0                              None                  None   \n",
       "4  tt0326716    0.0  /oLyQu5QAR1w7e8roeveNiZXS5kN.jpg                  None   \n",
       "\n",
       "   budget                                             genres  \\\n",
       "0     NaN                                                NaN   \n",
       "1     0.0                      [{'id': 18, 'name': 'Drama'}]   \n",
       "2     0.0  [{'id': 878, 'name': 'Science Fiction'}, {'id'...   \n",
       "3     0.0  [{'id': 878, 'name': 'Science Fiction'}, {'id'...   \n",
       "4     0.0  [{'id': 18, 'name': 'Drama'}, {'id': 35, 'name...   \n",
       "\n",
       "                     homepage        id original_language  \\\n",
       "0                         NaN       NaN               NaN   \n",
       "1                              649985.0                pt   \n",
       "2                               68240.0                en   \n",
       "3                              312394.0                en   \n",
       "4  http://5-25-77themovie.com  199734.0                en   \n",
       "\n",
       "                                  original_title  ... revenue  runtime  \\\n",
       "0                                            NaN  ...     NaN      NaN   \n",
       "1  Predestinado: Arigó e o Espírito do Dr. Fritz  ...     0.0      0.0   \n",
       "2                Over-sexed Rugsuckers from Mars  ...     0.0     87.0   \n",
       "3                                       Saurians  ...     0.0     83.0   \n",
       "4                                        5-25-77  ...     0.0    135.0   \n",
       "\n",
       "                                    spoken_languages    status  \\\n",
       "0                                                NaN       NaN   \n",
       "1  [{'english_name': 'Portuguese', 'iso_639_1': '...  Released   \n",
       "2  [{'english_name': 'English', 'iso_639_1': 'en'...  Released   \n",
       "3  [{'english_name': 'English', 'iso_639_1': 'en'...  Released   \n",
       "4  [{'english_name': 'English', 'iso_639_1': 'en'...  Released   \n",
       "\n",
       "                                         tagline  \\\n",
       "0                                            NaN   \n",
       "1                                                  \n",
       "2  You'll never trust your vacuum cleaner again!   \n",
       "3            The Age of The Dinosaurs is Reborn!   \n",
       "4         Some days are just better than others.   \n",
       "\n",
       "                                           title  video  vote_average  \\\n",
       "0                                            NaN    NaN           NaN   \n",
       "1  Predestinado: Arigó e o Espírito do Dr. Fritz    0.0           8.5   \n",
       "2                Over-sexed Rugsuckers from Mars    0.0           3.3   \n",
       "3                                       Saurians    0.0           9.0   \n",
       "4                                        5-25-77    0.0           5.0   \n",
       "\n",
       "  vote_count certification  \n",
       "0        NaN           NaN  \n",
       "1        2.0           NaN  \n",
       "2        3.0           NaN  \n",
       "3        1.0                \n",
       "4        5.0            NR  \n",
       "\n",
       "[5 rows x 26 columns]"
      ]
     },
     "execution_count": 94,
     "metadata": {},
     "output_type": "execute_result"
    }
   ],
   "source": [
    "#check data uploaded correctly\n",
    "covid_year_df.head()"
   ]
  },
  {
   "cell_type": "code",
   "execution_count": 170,
   "id": "7677e02e",
   "metadata": {},
   "outputs": [
    {
     "data": {
      "text/plain": [
       "['Data\\\\final_tmdb_data_2020.csv.gz',\n",
       " 'Data\\\\final_tmdb_data_2021.csv.gz',\n",
       " 'Data\\\\final_tmdb_data_2022.csv.gz']"
      ]
     },
     "execution_count": 170,
     "metadata": {},
     "output_type": "execute_result"
    }
   ],
   "source": [
    "#import glob\n",
    "q = \"Data/final_tmdb_data_202*.csv.gz\"\n",
    "chunked_files = glob.glob(q)\n",
    "# Showing the first 5\n",
    "chunked_files[:5]"
   ]
  },
  {
   "cell_type": "code",
   "execution_count": 374,
   "id": "c1134141",
   "metadata": {},
   "outputs": [
    {
     "data": {
      "text/html": [
       "<div>\n",
       "<style scoped>\n",
       "    .dataframe tbody tr th:only-of-type {\n",
       "        vertical-align: middle;\n",
       "    }\n",
       "\n",
       "    .dataframe tbody tr th {\n",
       "        vertical-align: top;\n",
       "    }\n",
       "\n",
       "    .dataframe thead th {\n",
       "        text-align: right;\n",
       "    }\n",
       "</style>\n",
       "<table border=\"1\" class=\"dataframe\">\n",
       "  <thead>\n",
       "    <tr style=\"text-align: right;\">\n",
       "      <th></th>\n",
       "      <th>adult</th>\n",
       "      <th>backdrop_path</th>\n",
       "      <th>belongs_to_collection</th>\n",
       "      <th>budget</th>\n",
       "      <th>genres</th>\n",
       "      <th>homepage</th>\n",
       "      <th>id</th>\n",
       "      <th>original_language</th>\n",
       "      <th>original_title</th>\n",
       "      <th>overview</th>\n",
       "      <th>...</th>\n",
       "      <th>revenue</th>\n",
       "      <th>runtime</th>\n",
       "      <th>spoken_languages</th>\n",
       "      <th>status</th>\n",
       "      <th>tagline</th>\n",
       "      <th>title</th>\n",
       "      <th>video</th>\n",
       "      <th>vote_average</th>\n",
       "      <th>vote_count</th>\n",
       "      <th>certification</th>\n",
       "    </tr>\n",
       "    <tr>\n",
       "      <th>imdb_id</th>\n",
       "      <th></th>\n",
       "      <th></th>\n",
       "      <th></th>\n",
       "      <th></th>\n",
       "      <th></th>\n",
       "      <th></th>\n",
       "      <th></th>\n",
       "      <th></th>\n",
       "      <th></th>\n",
       "      <th></th>\n",
       "      <th></th>\n",
       "      <th></th>\n",
       "      <th></th>\n",
       "      <th></th>\n",
       "      <th></th>\n",
       "      <th></th>\n",
       "      <th></th>\n",
       "      <th></th>\n",
       "      <th></th>\n",
       "      <th></th>\n",
       "      <th></th>\n",
       "    </tr>\n",
       "  </thead>\n",
       "  <tbody>\n",
       "    <tr>\n",
       "      <th>0</th>\n",
       "      <td>NaN</td>\n",
       "      <td>NaN</td>\n",
       "      <td>NaN</td>\n",
       "      <td>NaN</td>\n",
       "      <td>NaN</td>\n",
       "      <td>NaN</td>\n",
       "      <td>NaN</td>\n",
       "      <td>NaN</td>\n",
       "      <td>NaN</td>\n",
       "      <td>NaN</td>\n",
       "      <td>...</td>\n",
       "      <td>NaN</td>\n",
       "      <td>NaN</td>\n",
       "      <td>NaN</td>\n",
       "      <td>NaN</td>\n",
       "      <td>NaN</td>\n",
       "      <td>NaN</td>\n",
       "      <td>NaN</td>\n",
       "      <td>NaN</td>\n",
       "      <td>NaN</td>\n",
       "      <td>NaN</td>\n",
       "    </tr>\n",
       "    <tr>\n",
       "      <th>tt0062336</th>\n",
       "      <td>0.0</td>\n",
       "      <td>/fw5tsNib4QZBEw18xmebpVe3WZ8.jpg</td>\n",
       "      <td>NaN</td>\n",
       "      <td>0.0</td>\n",
       "      <td>[{'id': 18, 'name': 'Drama'}, {'id': 14, 'name...</td>\n",
       "      <td>http://poetastros.com/el-tango-del-viudo/</td>\n",
       "      <td>602986.0</td>\n",
       "      <td>es</td>\n",
       "      <td>El tango del viudo y su espejo deformante</td>\n",
       "      <td>A man whose wife has committed suicide,  appea...</td>\n",
       "      <td>...</td>\n",
       "      <td>0.0</td>\n",
       "      <td>63.0</td>\n",
       "      <td>[{'english_name': 'Spanish', 'iso_639_1': 'es'...</td>\n",
       "      <td>Released</td>\n",
       "      <td>NaN</td>\n",
       "      <td>The Tango of the Widower and Its Distorting Mi...</td>\n",
       "      <td>0.0</td>\n",
       "      <td>5.300</td>\n",
       "      <td>3.0</td>\n",
       "      <td>NaN</td>\n",
       "    </tr>\n",
       "    <tr>\n",
       "      <th>tt0805647</th>\n",
       "      <td>0.0</td>\n",
       "      <td>/8rIoyM6zYXJNjzGseT3MRusMPWl.jpg</td>\n",
       "      <td>NaN</td>\n",
       "      <td>0.0</td>\n",
       "      <td>[{'id': 12, 'name': 'Adventure'}, {'id': 14, '...</td>\n",
       "      <td>https://www.thewitchesmovie.net/</td>\n",
       "      <td>531219.0</td>\n",
       "      <td>en</td>\n",
       "      <td>Roald Dahl's The Witches</td>\n",
       "      <td>In late 1967, a young orphaned boy goes to liv...</td>\n",
       "      <td>...</td>\n",
       "      <td>26900000.0</td>\n",
       "      <td>106.0</td>\n",
       "      <td>[{'english_name': 'English', 'iso_639_1': 'en'...</td>\n",
       "      <td>Released</td>\n",
       "      <td>They're real!</td>\n",
       "      <td>Roald Dahl's The Witches</td>\n",
       "      <td>0.0</td>\n",
       "      <td>6.437</td>\n",
       "      <td>2305.0</td>\n",
       "      <td>PG</td>\n",
       "    </tr>\n",
       "    <tr>\n",
       "      <th>tt0920462</th>\n",
       "      <td>0.0</td>\n",
       "      <td>/mwXmcrvjOJwzsJSuNEupjisXUt6.jpg</td>\n",
       "      <td>NaN</td>\n",
       "      <td>0.0</td>\n",
       "      <td>[{'id': 18, 'name': 'Drama'}]</td>\n",
       "      <td>https://www.lostgirlslovehotels.film</td>\n",
       "      <td>479259.0</td>\n",
       "      <td>en</td>\n",
       "      <td>Lost Girls &amp; Love Hotels</td>\n",
       "      <td>Searching for escape in Tokyo's back alleys, a...</td>\n",
       "      <td>...</td>\n",
       "      <td>106045.0</td>\n",
       "      <td>97.0</td>\n",
       "      <td>[{'english_name': 'English', 'iso_639_1': 'en'...</td>\n",
       "      <td>Released</td>\n",
       "      <td>NaN</td>\n",
       "      <td>Lost Girls &amp; Love Hotels</td>\n",
       "      <td>0.0</td>\n",
       "      <td>5.200</td>\n",
       "      <td>120.0</td>\n",
       "      <td>R</td>\n",
       "    </tr>\n",
       "    <tr>\n",
       "      <th>tt0926132</th>\n",
       "      <td>0.0</td>\n",
       "      <td>/op14w44FvLUqH7TWyT1ijzrSfXV.jpg</td>\n",
       "      <td>NaN</td>\n",
       "      <td>0.0</td>\n",
       "      <td>[{'id': 27, 'name': 'Horror'}]</td>\n",
       "      <td>http://www.roadtored.com</td>\n",
       "      <td>651448.0</td>\n",
       "      <td>en</td>\n",
       "      <td>Darkslide</td>\n",
       "      <td>High in the Sierra Nevada Mountains of Califor...</td>\n",
       "      <td>...</td>\n",
       "      <td>0.0</td>\n",
       "      <td>121.0</td>\n",
       "      <td>[{'english_name': 'English', 'iso_639_1': 'en'...</td>\n",
       "      <td>Released</td>\n",
       "      <td>Keep Moving or Die</td>\n",
       "      <td>Darkslide</td>\n",
       "      <td>0.0</td>\n",
       "      <td>6.500</td>\n",
       "      <td>2.0</td>\n",
       "      <td>NaN</td>\n",
       "    </tr>\n",
       "    <tr>\n",
       "      <th>...</th>\n",
       "      <td>...</td>\n",
       "      <td>...</td>\n",
       "      <td>...</td>\n",
       "      <td>...</td>\n",
       "      <td>...</td>\n",
       "      <td>...</td>\n",
       "      <td>...</td>\n",
       "      <td>...</td>\n",
       "      <td>...</td>\n",
       "      <td>...</td>\n",
       "      <td>...</td>\n",
       "      <td>...</td>\n",
       "      <td>...</td>\n",
       "      <td>...</td>\n",
       "      <td>...</td>\n",
       "      <td>...</td>\n",
       "      <td>...</td>\n",
       "      <td>...</td>\n",
       "      <td>...</td>\n",
       "      <td>...</td>\n",
       "      <td>...</td>\n",
       "    </tr>\n",
       "    <tr>\n",
       "      <th>tt9854058</th>\n",
       "      <td>0.0</td>\n",
       "      <td>NaN</td>\n",
       "      <td>NaN</td>\n",
       "      <td>0.0</td>\n",
       "      <td>[{'id': 80, 'name': 'Crime'}]</td>\n",
       "      <td>NaN</td>\n",
       "      <td>969840.0</td>\n",
       "      <td>en</td>\n",
       "      <td>Shadows</td>\n",
       "      <td>A young low-level drug dealer is reunited with...</td>\n",
       "      <td>...</td>\n",
       "      <td>0.0</td>\n",
       "      <td>101.0</td>\n",
       "      <td>[]</td>\n",
       "      <td>Released</td>\n",
       "      <td>Family Is The Last Line Of Defense</td>\n",
       "      <td>Shadows</td>\n",
       "      <td>0.0</td>\n",
       "      <td>0.000</td>\n",
       "      <td>0.0</td>\n",
       "      <td>NaN</td>\n",
       "    </tr>\n",
       "    <tr>\n",
       "      <th>tt9863642</th>\n",
       "      <td>0.0</td>\n",
       "      <td>/61tkYBhLElKr4YLncl5n5NQnyBR.jpg</td>\n",
       "      <td>NaN</td>\n",
       "      <td>0.0</td>\n",
       "      <td>[{'id': 53, 'name': 'Thriller'}]</td>\n",
       "      <td>https://www.maverickentertainment.cc/movies/de...</td>\n",
       "      <td>1018644.0</td>\n",
       "      <td>en</td>\n",
       "      <td>Deceitful Tendencies</td>\n",
       "      <td>Successful, happily-married Devin, stumbles up...</td>\n",
       "      <td>...</td>\n",
       "      <td>0.0</td>\n",
       "      <td>84.0</td>\n",
       "      <td>[{'english_name': 'English', 'iso_639_1': 'en'...</td>\n",
       "      <td>Released</td>\n",
       "      <td>Trapped in a web of deception.</td>\n",
       "      <td>Deceitful Tendencies</td>\n",
       "      <td>0.0</td>\n",
       "      <td>0.000</td>\n",
       "      <td>0.0</td>\n",
       "      <td>NaN</td>\n",
       "    </tr>\n",
       "    <tr>\n",
       "      <th>tt9893158</th>\n",
       "      <td>0.0</td>\n",
       "      <td>NaN</td>\n",
       "      <td>NaN</td>\n",
       "      <td>0.0</td>\n",
       "      <td>[{'id': 80, 'name': 'Crime'}, {'id': 10749, 'n...</td>\n",
       "      <td>NaN</td>\n",
       "      <td>796955.0</td>\n",
       "      <td>en</td>\n",
       "      <td>Clowning</td>\n",
       "      <td>With his girlfriend pregnant, Dante, a pacifis...</td>\n",
       "      <td>...</td>\n",
       "      <td>0.0</td>\n",
       "      <td>96.0</td>\n",
       "      <td>[{'english_name': 'English', 'iso_639_1': 'en'...</td>\n",
       "      <td>Released</td>\n",
       "      <td>Warm nights... Feels like death in the sand du...</td>\n",
       "      <td>Clowning</td>\n",
       "      <td>0.0</td>\n",
       "      <td>8.000</td>\n",
       "      <td>1.0</td>\n",
       "      <td>NaN</td>\n",
       "    </tr>\n",
       "    <tr>\n",
       "      <th>tt9893160</th>\n",
       "      <td>0.0</td>\n",
       "      <td>/jX5XGqJUTzvpta2RjcX6pMZqxk5.jpg</td>\n",
       "      <td>NaN</td>\n",
       "      <td>0.0</td>\n",
       "      <td>[{'id': 53, 'name': 'Thriller'}, {'id': 80, 'n...</td>\n",
       "      <td>NaN</td>\n",
       "      <td>606303.0</td>\n",
       "      <td>en</td>\n",
       "      <td>No Way Out</td>\n",
       "      <td>Nick, a talented photographer who is new to Lo...</td>\n",
       "      <td>...</td>\n",
       "      <td>0.0</td>\n",
       "      <td>89.0</td>\n",
       "      <td>[{'english_name': 'English', 'iso_639_1': 'en'...</td>\n",
       "      <td>Released</td>\n",
       "      <td>Find what you love and let it kill you.</td>\n",
       "      <td>No Way Out</td>\n",
       "      <td>0.0</td>\n",
       "      <td>4.250</td>\n",
       "      <td>4.0</td>\n",
       "      <td>NaN</td>\n",
       "    </tr>\n",
       "    <tr>\n",
       "      <th>tt9904648</th>\n",
       "      <td>0.0</td>\n",
       "      <td>/ibWj2ARVrAabIWDq5vSXoJRZfVV.jpg</td>\n",
       "      <td>NaN</td>\n",
       "      <td>0.0</td>\n",
       "      <td>[{'id': 35, 'name': 'Comedy'}, {'id': 10749, '...</td>\n",
       "      <td>https://contrastmovie.com/</td>\n",
       "      <td>933557.0</td>\n",
       "      <td>en</td>\n",
       "      <td>The Contrast</td>\n",
       "      <td>On the day before her wedding to a hipster pla...</td>\n",
       "      <td>...</td>\n",
       "      <td>0.0</td>\n",
       "      <td>82.0</td>\n",
       "      <td>[{'english_name': 'English', 'iso_639_1': 'en'...</td>\n",
       "      <td>Released</td>\n",
       "      <td>Everybody loves... somebody else.</td>\n",
       "      <td>The Contrast</td>\n",
       "      <td>0.0</td>\n",
       "      <td>3.000</td>\n",
       "      <td>1.0</td>\n",
       "      <td>NaN</td>\n",
       "    </tr>\n",
       "  </tbody>\n",
       "</table>\n",
       "<p>9355 rows × 25 columns</p>\n",
       "</div>"
      ],
      "text/plain": [
       "           adult                     backdrop_path belongs_to_collection  \\\n",
       "imdb_id                                                                    \n",
       "0            NaN                               NaN                   NaN   \n",
       "tt0062336    0.0  /fw5tsNib4QZBEw18xmebpVe3WZ8.jpg                   NaN   \n",
       "tt0805647    0.0  /8rIoyM6zYXJNjzGseT3MRusMPWl.jpg                   NaN   \n",
       "tt0920462    0.0  /mwXmcrvjOJwzsJSuNEupjisXUt6.jpg                   NaN   \n",
       "tt0926132    0.0  /op14w44FvLUqH7TWyT1ijzrSfXV.jpg                   NaN   \n",
       "...          ...                               ...                   ...   \n",
       "tt9854058    0.0                               NaN                   NaN   \n",
       "tt9863642    0.0  /61tkYBhLElKr4YLncl5n5NQnyBR.jpg                   NaN   \n",
       "tt9893158    0.0                               NaN                   NaN   \n",
       "tt9893160    0.0  /jX5XGqJUTzvpta2RjcX6pMZqxk5.jpg                   NaN   \n",
       "tt9904648    0.0  /ibWj2ARVrAabIWDq5vSXoJRZfVV.jpg                   NaN   \n",
       "\n",
       "           budget                                             genres  \\\n",
       "imdb_id                                                                \n",
       "0             NaN                                                NaN   \n",
       "tt0062336     0.0  [{'id': 18, 'name': 'Drama'}, {'id': 14, 'name...   \n",
       "tt0805647     0.0  [{'id': 12, 'name': 'Adventure'}, {'id': 14, '...   \n",
       "tt0920462     0.0                      [{'id': 18, 'name': 'Drama'}]   \n",
       "tt0926132     0.0                     [{'id': 27, 'name': 'Horror'}]   \n",
       "...           ...                                                ...   \n",
       "tt9854058     0.0                      [{'id': 80, 'name': 'Crime'}]   \n",
       "tt9863642     0.0                   [{'id': 53, 'name': 'Thriller'}]   \n",
       "tt9893158     0.0  [{'id': 80, 'name': 'Crime'}, {'id': 10749, 'n...   \n",
       "tt9893160     0.0  [{'id': 53, 'name': 'Thriller'}, {'id': 80, 'n...   \n",
       "tt9904648     0.0  [{'id': 35, 'name': 'Comedy'}, {'id': 10749, '...   \n",
       "\n",
       "                                                    homepage         id  \\\n",
       "imdb_id                                                                   \n",
       "0                                                        NaN        NaN   \n",
       "tt0062336          http://poetastros.com/el-tango-del-viudo/   602986.0   \n",
       "tt0805647                   https://www.thewitchesmovie.net/   531219.0   \n",
       "tt0920462               https://www.lostgirlslovehotels.film   479259.0   \n",
       "tt0926132                           http://www.roadtored.com   651448.0   \n",
       "...                                                      ...        ...   \n",
       "tt9854058                                                NaN   969840.0   \n",
       "tt9863642  https://www.maverickentertainment.cc/movies/de...  1018644.0   \n",
       "tt9893158                                                NaN   796955.0   \n",
       "tt9893160                                                NaN   606303.0   \n",
       "tt9904648                         https://contrastmovie.com/   933557.0   \n",
       "\n",
       "          original_language                             original_title  \\\n",
       "imdb_id                                                                  \n",
       "0                       NaN                                        NaN   \n",
       "tt0062336                es  El tango del viudo y su espejo deformante   \n",
       "tt0805647                en                   Roald Dahl's The Witches   \n",
       "tt0920462                en                   Lost Girls & Love Hotels   \n",
       "tt0926132                en                                  Darkslide   \n",
       "...                     ...                                        ...   \n",
       "tt9854058                en                                    Shadows   \n",
       "tt9863642                en                       Deceitful Tendencies   \n",
       "tt9893158                en                                   Clowning   \n",
       "tt9893160                en                                 No Way Out   \n",
       "tt9904648                en                               The Contrast   \n",
       "\n",
       "                                                    overview  ...     revenue  \\\n",
       "imdb_id                                                       ...               \n",
       "0                                                        NaN  ...         NaN   \n",
       "tt0062336  A man whose wife has committed suicide,  appea...  ...         0.0   \n",
       "tt0805647  In late 1967, a young orphaned boy goes to liv...  ...  26900000.0   \n",
       "tt0920462  Searching for escape in Tokyo's back alleys, a...  ...    106045.0   \n",
       "tt0926132  High in the Sierra Nevada Mountains of Califor...  ...         0.0   \n",
       "...                                                      ...  ...         ...   \n",
       "tt9854058  A young low-level drug dealer is reunited with...  ...         0.0   \n",
       "tt9863642  Successful, happily-married Devin, stumbles up...  ...         0.0   \n",
       "tt9893158  With his girlfriend pregnant, Dante, a pacifis...  ...         0.0   \n",
       "tt9893160  Nick, a talented photographer who is new to Lo...  ...         0.0   \n",
       "tt9904648  On the day before her wedding to a hipster pla...  ...         0.0   \n",
       "\n",
       "          runtime                                   spoken_languages  \\\n",
       "imdb_id                                                                \n",
       "0             NaN                                                NaN   \n",
       "tt0062336    63.0  [{'english_name': 'Spanish', 'iso_639_1': 'es'...   \n",
       "tt0805647   106.0  [{'english_name': 'English', 'iso_639_1': 'en'...   \n",
       "tt0920462    97.0  [{'english_name': 'English', 'iso_639_1': 'en'...   \n",
       "tt0926132   121.0  [{'english_name': 'English', 'iso_639_1': 'en'...   \n",
       "...           ...                                                ...   \n",
       "tt9854058   101.0                                                 []   \n",
       "tt9863642    84.0  [{'english_name': 'English', 'iso_639_1': 'en'...   \n",
       "tt9893158    96.0  [{'english_name': 'English', 'iso_639_1': 'en'...   \n",
       "tt9893160    89.0  [{'english_name': 'English', 'iso_639_1': 'en'...   \n",
       "tt9904648    82.0  [{'english_name': 'English', 'iso_639_1': 'en'...   \n",
       "\n",
       "             status                                            tagline  \\\n",
       "imdb_id                                                                  \n",
       "0               NaN                                                NaN   \n",
       "tt0062336  Released                                                NaN   \n",
       "tt0805647  Released                                      They're real!   \n",
       "tt0920462  Released                                                NaN   \n",
       "tt0926132  Released                                 Keep Moving or Die   \n",
       "...             ...                                                ...   \n",
       "tt9854058  Released                 Family Is The Last Line Of Defense   \n",
       "tt9863642  Released                     Trapped in a web of deception.   \n",
       "tt9893158  Released  Warm nights... Feels like death in the sand du...   \n",
       "tt9893160  Released            Find what you love and let it kill you.   \n",
       "tt9904648  Released                  Everybody loves... somebody else.   \n",
       "\n",
       "                                                       title  video  \\\n",
       "imdb_id                                                               \n",
       "0                                                        NaN    NaN   \n",
       "tt0062336  The Tango of the Widower and Its Distorting Mi...    0.0   \n",
       "tt0805647                           Roald Dahl's The Witches    0.0   \n",
       "tt0920462                           Lost Girls & Love Hotels    0.0   \n",
       "tt0926132                                          Darkslide    0.0   \n",
       "...                                                      ...    ...   \n",
       "tt9854058                                            Shadows    0.0   \n",
       "tt9863642                               Deceitful Tendencies    0.0   \n",
       "tt9893158                                           Clowning    0.0   \n",
       "tt9893160                                         No Way Out    0.0   \n",
       "tt9904648                                       The Contrast    0.0   \n",
       "\n",
       "          vote_average vote_count certification  \n",
       "imdb_id                                          \n",
       "0                  NaN        NaN           NaN  \n",
       "tt0062336        5.300        3.0           NaN  \n",
       "tt0805647        6.437     2305.0            PG  \n",
       "tt0920462        5.200      120.0             R  \n",
       "tt0926132        6.500        2.0           NaN  \n",
       "...                ...        ...           ...  \n",
       "tt9854058        0.000        0.0           NaN  \n",
       "tt9863642        0.000        0.0           NaN  \n",
       "tt9893158        8.000        1.0           NaN  \n",
       "tt9893160        4.250        4.0           NaN  \n",
       "tt9904648        3.000        1.0           NaN  \n",
       "\n",
       "[9355 rows x 25 columns]"
      ]
     },
     "execution_count": 374,
     "metadata": {},
     "output_type": "execute_result"
    }
   ],
   "source": [
    "#loading and Concatenating the list of dfs with 1 line\n",
    "df_combined = pd.concat([pd.read_csv(file, index_col=0) for file in chunked_files])\n",
    "df_combined"
   ]
  },
  {
   "cell_type": "code",
   "execution_count": 375,
   "id": "0fdb159f",
   "metadata": {},
   "outputs": [],
   "source": [
    "#saving the final combined dataframe\n",
    "final_fname ='Data/title_basics_combined.csv.gz'\n",
    "df_combined.to_csv(final_fname, compression='gzip', index=False)"
   ]
  },
  {
   "cell_type": "code",
   "execution_count": 376,
   "id": "846d979c",
   "metadata": {},
   "outputs": [],
   "source": [
    "df_combined = pd.read_csv(final_fname)"
   ]
  },
  {
   "cell_type": "code",
   "execution_count": 377,
   "id": "2b585026",
   "metadata": {},
   "outputs": [
    {
     "name": "stdout",
     "output_type": "stream",
     "text": [
      "<class 'pandas.core.frame.DataFrame'>\n",
      "RangeIndex: 9355 entries, 0 to 9354\n",
      "Data columns (total 25 columns):\n",
      " #   Column                 Non-Null Count  Dtype  \n",
      "---  ------                 --------------  -----  \n",
      " 0   adult                  9352 non-null   float64\n",
      " 1   backdrop_path          6918 non-null   object \n",
      " 2   belongs_to_collection  473 non-null    object \n",
      " 3   budget                 9352 non-null   float64\n",
      " 4   genres                 9352 non-null   object \n",
      " 5   homepage               2765 non-null   object \n",
      " 6   id                     9352 non-null   float64\n",
      " 7   original_language      9352 non-null   object \n",
      " 8   original_title         9352 non-null   object \n",
      " 9   overview               9197 non-null   object \n",
      " 10  popularity             9352 non-null   float64\n",
      " 11  poster_path            9072 non-null   object \n",
      " 12  production_companies   9352 non-null   object \n",
      " 13  production_countries   9352 non-null   object \n",
      " 14  release_date           9042 non-null   object \n",
      " 15  revenue                9352 non-null   float64\n",
      " 16  runtime                9352 non-null   float64\n",
      " 17  spoken_languages       9352 non-null   object \n",
      " 18  status                 9352 non-null   object \n",
      " 19  tagline                3476 non-null   object \n",
      " 20  title                  9352 non-null   object \n",
      " 21  video                  9352 non-null   float64\n",
      " 22  vote_average           9352 non-null   float64\n",
      " 23  vote_count             9352 non-null   float64\n",
      " 24  certification          1852 non-null   object \n",
      "dtypes: float64(9), object(16)\n",
      "memory usage: 1.8+ MB\n"
     ]
    }
   ],
   "source": [
    "df_combined.info()"
   ]
  },
  {
   "cell_type": "code",
   "execution_count": 378,
   "id": "52afcf66",
   "metadata": {},
   "outputs": [
    {
     "data": {
      "text/plain": [
       "2021-02-12    46\n",
       "2020-10-22    46\n",
       "2021-08-27    45\n",
       "2021-11-19    44\n",
       "2021-12-03    44\n",
       "              ..\n",
       "2019-06-27     1\n",
       "2018-07-27     1\n",
       "2019-06-30     1\n",
       "2022-07-26     1\n",
       "2022-08-30     1\n",
       "Name: release_date, Length: 1164, dtype: int64"
      ]
     },
     "execution_count": 378,
     "metadata": {},
     "output_type": "execute_result"
    }
   ],
   "source": [
    "df_combined['release_date'].value_counts()"
   ]
  },
  {
   "cell_type": "code",
   "execution_count": 379,
   "id": "7777b311",
   "metadata": {},
   "outputs": [
    {
     "data": {
      "text/plain": [
       "2"
      ]
     },
     "execution_count": 379,
     "metadata": {},
     "output_type": "execute_result"
    }
   ],
   "source": [
    "#check for duplicates\n",
    "df_combined.duplicated().sum()"
   ]
  },
  {
   "cell_type": "code",
   "execution_count": 380,
   "id": "93e818c2",
   "metadata": {},
   "outputs": [
    {
     "data": {
      "text/plain": [
       "0"
      ]
     },
     "execution_count": 380,
     "metadata": {},
     "output_type": "execute_result"
    }
   ],
   "source": [
    "#drop duplicate\n",
    "df_combined.drop_duplicates(inplace=True)\n",
    "#confirm duplicates dropped\n",
    "df_combined.duplicated().sum()"
   ]
  },
  {
   "cell_type": "markdown",
   "id": "e591b369",
   "metadata": {},
   "source": [
    "Upload data from years 2001 and 2002 for 1st hypothesis test (saved as tmdb_results). 1st question using data from years 2001 and 2002. Second and third questions uses data from df_combined."
   ]
  },
  {
   "cell_type": "code",
   "execution_count": 381,
   "id": "e3f467a6",
   "metadata": {},
   "outputs": [],
   "source": [
    "#upload saved files and preview\n",
    "df_2000 = pd.read_csv(\"Data/final_tmdb_data_2000.csv.gz\", low_memory = False)\n",
    "df_2001 = pd.read_csv(\"Data/final_tmdb_data_2001.csv.gz\", low_memory = False)"
   ]
  },
  {
   "cell_type": "code",
   "execution_count": 382,
   "id": "e24e1f31",
   "metadata": {},
   "outputs": [],
   "source": [
    "#combine/concat dfs into one\n",
    "#source: https://pandas.pydata.org/docs/user_guide/merging.html\n",
    "frames = [df_2000, df_2001]\n",
    "\n",
    "tmdb_results = pd.concat(frames)"
   ]
  },
  {
   "cell_type": "code",
   "execution_count": 383,
   "id": "a923a014",
   "metadata": {},
   "outputs": [
    {
     "data": {
      "text/html": [
       "<div>\n",
       "<style scoped>\n",
       "    .dataframe tbody tr th:only-of-type {\n",
       "        vertical-align: middle;\n",
       "    }\n",
       "\n",
       "    .dataframe tbody tr th {\n",
       "        vertical-align: top;\n",
       "    }\n",
       "\n",
       "    .dataframe thead th {\n",
       "        text-align: right;\n",
       "    }\n",
       "</style>\n",
       "<table border=\"1\" class=\"dataframe\">\n",
       "  <thead>\n",
       "    <tr style=\"text-align: right;\">\n",
       "      <th></th>\n",
       "      <th>imdb_id</th>\n",
       "      <th>adult</th>\n",
       "      <th>backdrop_path</th>\n",
       "      <th>belongs_to_collection</th>\n",
       "      <th>budget</th>\n",
       "      <th>genres</th>\n",
       "      <th>homepage</th>\n",
       "      <th>id</th>\n",
       "      <th>original_language</th>\n",
       "      <th>original_title</th>\n",
       "      <th>...</th>\n",
       "      <th>revenue</th>\n",
       "      <th>runtime</th>\n",
       "      <th>spoken_languages</th>\n",
       "      <th>status</th>\n",
       "      <th>tagline</th>\n",
       "      <th>title</th>\n",
       "      <th>video</th>\n",
       "      <th>vote_average</th>\n",
       "      <th>vote_count</th>\n",
       "      <th>certification</th>\n",
       "    </tr>\n",
       "  </thead>\n",
       "  <tbody>\n",
       "    <tr>\n",
       "      <th>0</th>\n",
       "      <td>0</td>\n",
       "      <td>NaN</td>\n",
       "      <td>NaN</td>\n",
       "      <td>NaN</td>\n",
       "      <td>NaN</td>\n",
       "      <td>NaN</td>\n",
       "      <td>NaN</td>\n",
       "      <td>NaN</td>\n",
       "      <td>NaN</td>\n",
       "      <td>NaN</td>\n",
       "      <td>...</td>\n",
       "      <td>NaN</td>\n",
       "      <td>NaN</td>\n",
       "      <td>NaN</td>\n",
       "      <td>NaN</td>\n",
       "      <td>NaN</td>\n",
       "      <td>NaN</td>\n",
       "      <td>NaN</td>\n",
       "      <td>NaN</td>\n",
       "      <td>NaN</td>\n",
       "      <td>NaN</td>\n",
       "    </tr>\n",
       "    <tr>\n",
       "      <th>1</th>\n",
       "      <td>tt0113026</td>\n",
       "      <td>0.0</td>\n",
       "      <td>/vMFs7nw6P0bIV1jDsQpxAieAVnH.jpg</td>\n",
       "      <td>NaN</td>\n",
       "      <td>10000000.0</td>\n",
       "      <td>[{'id': 35, 'name': 'Comedy'}, {'id': 10402, '...</td>\n",
       "      <td>NaN</td>\n",
       "      <td>62127.0</td>\n",
       "      <td>en</td>\n",
       "      <td>The Fantasticks</td>\n",
       "      <td>...</td>\n",
       "      <td>0.0</td>\n",
       "      <td>86.0</td>\n",
       "      <td>[{'english_name': 'English', 'iso_639_1': 'en'...</td>\n",
       "      <td>Released</td>\n",
       "      <td>Try to remember the first time magic happened</td>\n",
       "      <td>The Fantasticks</td>\n",
       "      <td>0.0</td>\n",
       "      <td>5.500</td>\n",
       "      <td>22.0</td>\n",
       "      <td>NaN</td>\n",
       "    </tr>\n",
       "    <tr>\n",
       "      <th>2</th>\n",
       "      <td>tt0113092</td>\n",
       "      <td>0.0</td>\n",
       "      <td>NaN</td>\n",
       "      <td>NaN</td>\n",
       "      <td>0.0</td>\n",
       "      <td>[{'id': 878, 'name': 'Science Fiction'}]</td>\n",
       "      <td>NaN</td>\n",
       "      <td>110977.0</td>\n",
       "      <td>en</td>\n",
       "      <td>For the Cause</td>\n",
       "      <td>...</td>\n",
       "      <td>0.0</td>\n",
       "      <td>100.0</td>\n",
       "      <td>[{'english_name': 'English', 'iso_639_1': 'en'...</td>\n",
       "      <td>Released</td>\n",
       "      <td>The ultimate showdown on a forbidden planet.</td>\n",
       "      <td>For the Cause</td>\n",
       "      <td>0.0</td>\n",
       "      <td>5.100</td>\n",
       "      <td>8.0</td>\n",
       "      <td>NaN</td>\n",
       "    </tr>\n",
       "    <tr>\n",
       "      <th>3</th>\n",
       "      <td>tt0116391</td>\n",
       "      <td>0.0</td>\n",
       "      <td>NaN</td>\n",
       "      <td>NaN</td>\n",
       "      <td>0.0</td>\n",
       "      <td>[{'id': 18, 'name': 'Drama'}, {'id': 28, 'name...</td>\n",
       "      <td>NaN</td>\n",
       "      <td>442869.0</td>\n",
       "      <td>hi</td>\n",
       "      <td>Gang</td>\n",
       "      <td>...</td>\n",
       "      <td>0.0</td>\n",
       "      <td>152.0</td>\n",
       "      <td>[{'english_name': 'Hindi', 'iso_639_1': 'hi', ...</td>\n",
       "      <td>Released</td>\n",
       "      <td>NaN</td>\n",
       "      <td>Gang</td>\n",
       "      <td>0.0</td>\n",
       "      <td>0.000</td>\n",
       "      <td>0.0</td>\n",
       "      <td>NaN</td>\n",
       "    </tr>\n",
       "    <tr>\n",
       "      <th>4</th>\n",
       "      <td>tt0118694</td>\n",
       "      <td>0.0</td>\n",
       "      <td>/n4GJFGzsc7NinI1VeGDXIcQjtU2.jpg</td>\n",
       "      <td>NaN</td>\n",
       "      <td>150000.0</td>\n",
       "      <td>[{'id': 18, 'name': 'Drama'}, {'id': 10749, 'n...</td>\n",
       "      <td>http://www.wkw-inthemoodforlove.com/</td>\n",
       "      <td>843.0</td>\n",
       "      <td>cn</td>\n",
       "      <td>花樣年華</td>\n",
       "      <td>...</td>\n",
       "      <td>12854953.0</td>\n",
       "      <td>99.0</td>\n",
       "      <td>[{'english_name': 'Cantonese', 'iso_639_1': 'c...</td>\n",
       "      <td>Released</td>\n",
       "      <td>Feel the heat, keep the feeling burning, let t...</td>\n",
       "      <td>In the Mood for Love</td>\n",
       "      <td>0.0</td>\n",
       "      <td>8.108</td>\n",
       "      <td>1956.0</td>\n",
       "      <td>PG</td>\n",
       "    </tr>\n",
       "  </tbody>\n",
       "</table>\n",
       "<p>5 rows × 26 columns</p>\n",
       "</div>"
      ],
      "text/plain": [
       "     imdb_id  adult                     backdrop_path belongs_to_collection  \\\n",
       "0          0    NaN                               NaN                   NaN   \n",
       "1  tt0113026    0.0  /vMFs7nw6P0bIV1jDsQpxAieAVnH.jpg                   NaN   \n",
       "2  tt0113092    0.0                               NaN                   NaN   \n",
       "3  tt0116391    0.0                               NaN                   NaN   \n",
       "4  tt0118694    0.0  /n4GJFGzsc7NinI1VeGDXIcQjtU2.jpg                   NaN   \n",
       "\n",
       "       budget                                             genres  \\\n",
       "0         NaN                                                NaN   \n",
       "1  10000000.0  [{'id': 35, 'name': 'Comedy'}, {'id': 10402, '...   \n",
       "2         0.0           [{'id': 878, 'name': 'Science Fiction'}]   \n",
       "3         0.0  [{'id': 18, 'name': 'Drama'}, {'id': 28, 'name...   \n",
       "4    150000.0  [{'id': 18, 'name': 'Drama'}, {'id': 10749, 'n...   \n",
       "\n",
       "                               homepage        id original_language  \\\n",
       "0                                   NaN       NaN               NaN   \n",
       "1                                   NaN   62127.0                en   \n",
       "2                                   NaN  110977.0                en   \n",
       "3                                   NaN  442869.0                hi   \n",
       "4  http://www.wkw-inthemoodforlove.com/     843.0                cn   \n",
       "\n",
       "    original_title  ...     revenue  runtime  \\\n",
       "0              NaN  ...         NaN      NaN   \n",
       "1  The Fantasticks  ...         0.0     86.0   \n",
       "2    For the Cause  ...         0.0    100.0   \n",
       "3             Gang  ...         0.0    152.0   \n",
       "4             花樣年華  ...  12854953.0     99.0   \n",
       "\n",
       "                                    spoken_languages    status  \\\n",
       "0                                                NaN       NaN   \n",
       "1  [{'english_name': 'English', 'iso_639_1': 'en'...  Released   \n",
       "2  [{'english_name': 'English', 'iso_639_1': 'en'...  Released   \n",
       "3  [{'english_name': 'Hindi', 'iso_639_1': 'hi', ...  Released   \n",
       "4  [{'english_name': 'Cantonese', 'iso_639_1': 'c...  Released   \n",
       "\n",
       "                                             tagline                 title  \\\n",
       "0                                                NaN                   NaN   \n",
       "1      Try to remember the first time magic happened       The Fantasticks   \n",
       "2       The ultimate showdown on a forbidden planet.         For the Cause   \n",
       "3                                                NaN                  Gang   \n",
       "4  Feel the heat, keep the feeling burning, let t...  In the Mood for Love   \n",
       "\n",
       "   video  vote_average vote_count certification  \n",
       "0    NaN           NaN        NaN           NaN  \n",
       "1    0.0         5.500       22.0           NaN  \n",
       "2    0.0         5.100        8.0           NaN  \n",
       "3    0.0         0.000        0.0           NaN  \n",
       "4    0.0         8.108     1956.0            PG  \n",
       "\n",
       "[5 rows x 26 columns]"
      ]
     },
     "execution_count": 383,
     "metadata": {},
     "output_type": "execute_result"
    }
   ],
   "source": [
    "#review files merged\n",
    "tmdb_results.head()"
   ]
  },
  {
   "cell_type": "code",
   "execution_count": 384,
   "id": "2ede07f5",
   "metadata": {},
   "outputs": [],
   "source": [
    "tmdb_results.to_csv('Data/tmdb_results_combined.csv.gz', compression='gzip',index=False)"
   ]
  },
  {
   "cell_type": "code",
   "execution_count": 385,
   "id": "c62669f7",
   "metadata": {},
   "outputs": [
    {
     "name": "stdout",
     "output_type": "stream",
     "text": [
      "<class 'pandas.core.frame.DataFrame'>\n",
      "Int64Index: 3442 entries, 0 to 2236\n",
      "Data columns (total 26 columns):\n",
      " #   Column                 Non-Null Count  Dtype  \n",
      "---  ------                 --------------  -----  \n",
      " 0   imdb_id                3442 non-null   object \n",
      " 1   adult                  3440 non-null   float64\n",
      " 2   backdrop_path          1804 non-null   object \n",
      " 3   belongs_to_collection  256 non-null    object \n",
      " 4   budget                 3440 non-null   float64\n",
      " 5   genres                 3440 non-null   object \n",
      " 6   homepage               258 non-null    object \n",
      " 7   id                     3440 non-null   float64\n",
      " 8   original_language      3440 non-null   object \n",
      " 9   original_title         3440 non-null   object \n",
      " 10  overview               3366 non-null   object \n",
      " 11  popularity             3440 non-null   float64\n",
      " 12  poster_path            3052 non-null   object \n",
      " 13  production_companies   3440 non-null   object \n",
      " 14  production_countries   3440 non-null   object \n",
      " 15  release_date           3417 non-null   object \n",
      " 16  revenue                3440 non-null   float64\n",
      " 17  runtime                3440 non-null   float64\n",
      " 18  spoken_languages       3440 non-null   object \n",
      " 19  status                 3440 non-null   object \n",
      " 20  tagline                1495 non-null   object \n",
      " 21  title                  3440 non-null   object \n",
      " 22  video                  3440 non-null   float64\n",
      " 23  vote_average           3440 non-null   float64\n",
      " 24  vote_count             3440 non-null   float64\n",
      " 25  certification          1167 non-null   object \n",
      "dtypes: float64(9), object(17)\n",
      "memory usage: 726.0+ KB\n"
     ]
    }
   ],
   "source": [
    "#check df info\n",
    "tmdb_results.info()"
   ]
  },
  {
   "cell_type": "code",
   "execution_count": 386,
   "id": "15742654",
   "metadata": {},
   "outputs": [
    {
     "data": {
      "text/plain": [
       "0.0            2790\n",
       "10000000.0        4\n",
       "1.0               3\n",
       "12000000.0        3\n",
       "14010832.0        2\n",
       "               ... \n",
       "30915.0           1\n",
       "104155843.0       1\n",
       "39723096.0        1\n",
       "19412993.0        1\n",
       "123021750.0       1\n",
       "Name: revenue, Length: 429, dtype: int64"
      ]
     },
     "execution_count": 386,
     "metadata": {},
     "output_type": "execute_result"
    }
   ],
   "source": [
    "#looking certification and revenue columns- clean to prepare for hypothesis testing for 1st question\n",
    "\n",
    "#check revenue column subtypes to confirm numeric\n",
    "tmdb_results['revenue'].value_counts()"
   ]
  },
  {
   "cell_type": "code",
   "execution_count": 387,
   "id": "a8694ed0",
   "metadata": {},
   "outputs": [
    {
     "data": {
      "text/plain": [
       "array([nan, 'PG', 'R', 'G', 'NR', 'PG-13', 'NC-17', 'Unrated', '-'],\n",
       "      dtype=object)"
      ]
     },
     "execution_count": 387,
     "metadata": {},
     "output_type": "execute_result"
    }
   ],
   "source": [
    "#check certification column subtypes for ratings\n",
    "tmdb_results['certification'].unique()\n",
    "\n",
    "#need to remove nan/null and '-'"
   ]
  },
  {
   "cell_type": "code",
   "execution_count": 388,
   "id": "26e640b7",
   "metadata": {},
   "outputs": [
    {
     "data": {
      "text/plain": [
       "R          674\n",
       "PG-13      272\n",
       "PG          92\n",
       "NR          88\n",
       "G           32\n",
       "NC-17        6\n",
       "-            2\n",
       "Unrated      1\n",
       "Name: certification, dtype: int64"
      ]
     },
     "execution_count": 388,
     "metadata": {},
     "output_type": "execute_result"
    }
   ],
   "source": [
    "tmdb_results['certification'].value_counts()"
   ]
  },
  {
   "cell_type": "code",
   "execution_count": 389,
   "id": "01cb2cbe",
   "metadata": {},
   "outputs": [],
   "source": [
    "#Replace '-' with np.nan\n",
    "tmdb_results.replace({'-':np.nan}, inplace=True)"
   ]
  },
  {
   "cell_type": "code",
   "execution_count": 390,
   "id": "6c97fc5f",
   "metadata": {},
   "outputs": [],
   "source": [
    "#Replace \"Unrated\" with NR for not rated\n",
    "tmdb_results.replace({'Unrated':'NR'}, inplace=True)"
   ]
  },
  {
   "cell_type": "code",
   "execution_count": 391,
   "id": "230ed91f",
   "metadata": {},
   "outputs": [
    {
     "name": "stdout",
     "output_type": "stream",
     "text": [
      "2277\n"
     ]
    }
   ],
   "source": [
    "#check how many null values\n",
    "print(tmdb_results['certification'].isna().sum())"
   ]
  },
  {
   "cell_type": "code",
   "execution_count": 392,
   "id": "2893f2b2",
   "metadata": {},
   "outputs": [],
   "source": [
    "#Eliminate movies that are missing for certification\n",
    "tmdb_results = tmdb_results.dropna(axis=0, subset=['certification'])"
   ]
  },
  {
   "cell_type": "code",
   "execution_count": 393,
   "id": "7eaaa540",
   "metadata": {},
   "outputs": [
    {
     "name": "stdout",
     "output_type": "stream",
     "text": [
      "0\n"
     ]
    }
   ],
   "source": [
    "#confirm no missing/null values\n",
    "print(tmdb_results['certification'].isna().sum())"
   ]
  },
  {
   "cell_type": "code",
   "execution_count": 394,
   "id": "e6e4677a",
   "metadata": {},
   "outputs": [
    {
     "data": {
      "text/html": [
       "<div>\n",
       "<style scoped>\n",
       "    .dataframe tbody tr th:only-of-type {\n",
       "        vertical-align: middle;\n",
       "    }\n",
       "\n",
       "    .dataframe tbody tr th {\n",
       "        vertical-align: top;\n",
       "    }\n",
       "\n",
       "    .dataframe thead th {\n",
       "        text-align: right;\n",
       "    }\n",
       "</style>\n",
       "<table border=\"1\" class=\"dataframe\">\n",
       "  <thead>\n",
       "    <tr style=\"text-align: right;\">\n",
       "      <th></th>\n",
       "      <th>imdb_id</th>\n",
       "      <th>adult</th>\n",
       "      <th>backdrop_path</th>\n",
       "      <th>belongs_to_collection</th>\n",
       "      <th>budget</th>\n",
       "      <th>genres</th>\n",
       "      <th>homepage</th>\n",
       "      <th>id</th>\n",
       "      <th>original_language</th>\n",
       "      <th>original_title</th>\n",
       "      <th>...</th>\n",
       "      <th>revenue</th>\n",
       "      <th>runtime</th>\n",
       "      <th>spoken_languages</th>\n",
       "      <th>status</th>\n",
       "      <th>tagline</th>\n",
       "      <th>title</th>\n",
       "      <th>video</th>\n",
       "      <th>vote_average</th>\n",
       "      <th>vote_count</th>\n",
       "      <th>certification</th>\n",
       "    </tr>\n",
       "  </thead>\n",
       "  <tbody>\n",
       "  </tbody>\n",
       "</table>\n",
       "<p>0 rows × 26 columns</p>\n",
       "</div>"
      ],
      "text/plain": [
       "Empty DataFrame\n",
       "Columns: [imdb_id, adult, backdrop_path, belongs_to_collection, budget, genres, homepage, id, original_language, original_title, overview, popularity, poster_path, production_companies, production_countries, release_date, revenue, runtime, spoken_languages, status, tagline, title, video, vote_average, vote_count, certification]\n",
       "Index: []\n",
       "\n",
       "[0 rows x 26 columns]"
      ]
     },
     "execution_count": 394,
     "metadata": {},
     "output_type": "execute_result"
    }
   ],
   "source": [
    "#df of missing/nan values in revenue column\n",
    "tmdb_results[tmdb_results['revenue'].isnull()]"
   ]
  },
  {
   "cell_type": "code",
   "execution_count": 395,
   "id": "c2d7558a",
   "metadata": {},
   "outputs": [
    {
     "data": {
      "text/plain": [
       "0.0            638\n",
       "1.0              3\n",
       "67631903.0       2\n",
       "12881605.0       2\n",
       "147934180.0      2\n",
       "              ... \n",
       "268117.0         1\n",
       "19748009.0       1\n",
       "22844291.0       1\n",
       "90449929.0       1\n",
       "4035192.0        1\n",
       "Name: revenue, Length: 344, dtype: int64"
      ]
     },
     "execution_count": 395,
     "metadata": {},
     "output_type": "execute_result"
    }
   ],
   "source": [
    "tmdb_results['revenue'].value_counts()"
   ]
  },
  {
   "cell_type": "code",
   "execution_count": 396,
   "id": "4b99203e",
   "metadata": {},
   "outputs": [
    {
     "data": {
      "text/html": [
       "<div>\n",
       "<style scoped>\n",
       "    .dataframe tbody tr th:only-of-type {\n",
       "        vertical-align: middle;\n",
       "    }\n",
       "\n",
       "    .dataframe tbody tr th {\n",
       "        vertical-align: top;\n",
       "    }\n",
       "\n",
       "    .dataframe thead th {\n",
       "        text-align: right;\n",
       "    }\n",
       "</style>\n",
       "<table border=\"1\" class=\"dataframe\">\n",
       "  <thead>\n",
       "    <tr style=\"text-align: right;\">\n",
       "      <th></th>\n",
       "      <th>imdb_id</th>\n",
       "      <th>adult</th>\n",
       "      <th>backdrop_path</th>\n",
       "      <th>belongs_to_collection</th>\n",
       "      <th>budget</th>\n",
       "      <th>genres</th>\n",
       "      <th>homepage</th>\n",
       "      <th>id</th>\n",
       "      <th>original_language</th>\n",
       "      <th>original_title</th>\n",
       "      <th>...</th>\n",
       "      <th>revenue</th>\n",
       "      <th>runtime</th>\n",
       "      <th>spoken_languages</th>\n",
       "      <th>status</th>\n",
       "      <th>tagline</th>\n",
       "      <th>title</th>\n",
       "      <th>video</th>\n",
       "      <th>vote_average</th>\n",
       "      <th>vote_count</th>\n",
       "      <th>certification</th>\n",
       "    </tr>\n",
       "  </thead>\n",
       "  <tbody>\n",
       "  </tbody>\n",
       "</table>\n",
       "<p>0 rows × 26 columns</p>\n",
       "</div>"
      ],
      "text/plain": [
       "Empty DataFrame\n",
       "Columns: [imdb_id, adult, backdrop_path, belongs_to_collection, budget, genres, homepage, id, original_language, original_title, overview, popularity, poster_path, production_companies, production_countries, release_date, revenue, runtime, spoken_languages, status, tagline, title, video, vote_average, vote_count, certification]\n",
       "Index: []\n",
       "\n",
       "[0 rows x 26 columns]"
      ]
     },
     "execution_count": 396,
     "metadata": {},
     "output_type": "execute_result"
    }
   ],
   "source": [
    "#Eliminate movies that are missing for certification\n",
    "tmdb_results = tmdb_results.dropna(axis=0, subset=['revenue'])\n",
    "#confirm check by checking for missing/nan values in revenue column\n",
    "tmdb_results[tmdb_results['revenue'].isnull()]"
   ]
  },
  {
   "cell_type": "markdown",
   "id": "036641d9",
   "metadata": {},
   "source": [
    "**Question 1: does the MPAA rating of a movie (G/PG/PG-13/R) affect how much revenue the movie generates?**\n",
    "\n",
    "\n",
    "*Null Hypothesis:* The MPAA movie rating does not have an affect in how revenue a movie generates.\n",
    "\n",
    "*Alternative Hypothesis:* There is a significant difference in MPAA movie rating and how much in revenue a movie generates.\n",
    "\n",
    "Alpha = 0.05"
   ]
  },
  {
   "cell_type": "code",
   "execution_count": 397,
   "id": "5f136113",
   "metadata": {},
   "outputs": [
    {
     "data": {
      "text/plain": [
       "dict_keys(['PG', 'R', 'G', 'NR', 'PG-13', 'NC-17'])"
      ]
     },
     "execution_count": 397,
     "metadata": {},
     "output_type": "execute_result"
    }
   ],
   "source": [
    "#create groups dictionary.\n",
    "groups = {}\n",
    "## Loop through all unique categories\n",
    "for i in tmdb_results['certification'].unique():\n",
    "    ## Get series for group and rename\n",
    "    data = tmdb_results.loc[tmdb_results['certification']==i,'revenue'].copy()\n",
    "    \n",
    "    # save into the dictionary\n",
    "    groups[i] = data\n",
    "groups.keys()"
   ]
  },
  {
   "cell_type": "code",
   "execution_count": 398,
   "id": "6d3a91a8",
   "metadata": {},
   "outputs": [
    {
     "name": "stdout",
     "output_type": "stream",
     "text": [
      "there were 2 outliers in the PG group\n",
      "there were 17 outliers in the R group\n",
      "there were 2 outliers in the G group\n",
      "there were 4 outliers in the NR group\n",
      "there were 3 outliers in the PG-13 group\n",
      "there were 0 outliers in the NC-17 group\n"
     ]
    }
   ],
   "source": [
    "#remove outliers\n",
    "for certification, data in groups.items():\n",
    "    outliers = np.abs(stats.zscore(data)) > 3\n",
    "    print(f\"there were {outliers.sum()} outliers in the {certification} group\")\n",
    "    data = data.loc[~outliers]\n",
    "    groups[certification] = data"
   ]
  },
  {
   "cell_type": "code",
   "execution_count": 399,
   "id": "b780ca7b",
   "metadata": {},
   "outputs": [
    {
     "data": {
      "text/html": [
       "<div>\n",
       "<style scoped>\n",
       "    .dataframe tbody tr th:only-of-type {\n",
       "        vertical-align: middle;\n",
       "    }\n",
       "\n",
       "    .dataframe tbody tr th {\n",
       "        vertical-align: top;\n",
       "    }\n",
       "\n",
       "    .dataframe thead th {\n",
       "        text-align: right;\n",
       "    }\n",
       "</style>\n",
       "<table border=\"1\" class=\"dataframe\">\n",
       "  <thead>\n",
       "    <tr style=\"text-align: right;\">\n",
       "      <th></th>\n",
       "      <th>n</th>\n",
       "      <th>p</th>\n",
       "      <th>test stat</th>\n",
       "      <th>sig</th>\n",
       "    </tr>\n",
       "  </thead>\n",
       "  <tbody>\n",
       "    <tr>\n",
       "      <th>2017</th>\n",
       "      <td>31.0</td>\n",
       "      <td>2.802724e-88</td>\n",
       "      <td>403.193793</td>\n",
       "      <td>True</td>\n",
       "    </tr>\n",
       "    <tr>\n",
       "      <th>2018</th>\n",
       "      <td>28.0</td>\n",
       "      <td>1.568850e-15</td>\n",
       "      <td>68.176868</td>\n",
       "      <td>True</td>\n",
       "    </tr>\n",
       "    <tr>\n",
       "      <th>2019</th>\n",
       "      <td>58.0</td>\n",
       "      <td>5.557139e-91</td>\n",
       "      <td>415.640320</td>\n",
       "      <td>True</td>\n",
       "    </tr>\n",
       "    <tr>\n",
       "      <th>2020</th>\n",
       "      <td>3214.0</td>\n",
       "      <td>0.000000e+00</td>\n",
       "      <td>6375.306655</td>\n",
       "      <td>True</td>\n",
       "    </tr>\n",
       "    <tr>\n",
       "      <th>2021</th>\n",
       "      <td>3663.0</td>\n",
       "      <td>0.000000e+00</td>\n",
       "      <td>6003.085601</td>\n",
       "      <td>True</td>\n",
       "    </tr>\n",
       "    <tr>\n",
       "      <th>2022</th>\n",
       "      <td>1957.0</td>\n",
       "      <td>0.000000e+00</td>\n",
       "      <td>3161.272060</td>\n",
       "      <td>True</td>\n",
       "    </tr>\n",
       "  </tbody>\n",
       "</table>\n",
       "</div>"
      ],
      "text/plain": [
       "           n             p    test stat   sig\n",
       "2017    31.0  2.802724e-88   403.193793  True\n",
       "2018    28.0  1.568850e-15    68.176868  True\n",
       "2019    58.0  5.557139e-91   415.640320  True\n",
       "2020  3214.0  0.000000e+00  6375.306655  True\n",
       "2021  3663.0  0.000000e+00  6003.085601  True\n",
       "2022  1957.0  0.000000e+00  3161.272060  True"
      ]
     },
     "execution_count": 399,
     "metadata": {},
     "output_type": "execute_result"
    }
   ],
   "source": [
    "#test assumptions of normality and equal variance\n",
    "\n",
    "    #review normality and checking sig with pandas \n",
    "norm_results_df['sig'] = norm_results_df['p'] < .05 \n",
    "norm_results_df\n",
    "\n",
    "#did not met assumption for normality- each group does not have a normal distribution"
   ]
  },
  {
   "cell_type": "code",
   "execution_count": 400,
   "id": "30bce857",
   "metadata": {},
   "outputs": [
    {
     "data": {
      "text/plain": [
       "LeveneResult(statistic=35.862875052531734, pvalue=3.760950879126054e-34)"
      ]
     },
     "execution_count": 400,
     "metadata": {},
     "output_type": "execute_result"
    }
   ],
   "source": [
    "#test for equal variance\n",
    "\n",
    "# with the * operator \n",
    "stats.levene(*groups.values())\n",
    "\n",
    "#did not met assumption for equal variance- the variance are not the same across samples"
   ]
  },
  {
   "cell_type": "code",
   "execution_count": 402,
   "id": "7a777371",
   "metadata": {},
   "outputs": [
    {
     "name": "stdout",
     "output_type": "stream",
     "text": [
      "0.0\n"
     ]
    },
    {
     "data": {
      "text/plain": [
       "True"
      ]
     },
     "execution_count": 402,
     "metadata": {},
     "output_type": "execute_result"
    }
   ],
   "source": [
    "# What was our p-value?\n",
    "print(p)\n",
    "p<.05"
   ]
  },
  {
   "cell_type": "markdown",
   "id": "8eafe5ce",
   "metadata": {},
   "source": [
    "The null hypothesis must be rejected as the p-value is less than 0.05 shows that there is significance in the data."
   ]
  },
  {
   "cell_type": "code",
   "execution_count": 403,
   "id": "f47109d6",
   "metadata": {},
   "outputs": [
    {
     "data": {
      "text/plain": [
       "F_onewayResult(statistic=34.264146846978456, pvalue=1.1291653564158729e-32)"
      ]
     },
     "execution_count": 403,
     "metadata": {},
     "output_type": "execute_result"
    }
   ],
   "source": [
    "#test\n",
    "#ANOVA\n",
    "\n",
    "#hypothesis test\n",
    "result = stats.f_oneway( *groups.values())\n",
    "result"
   ]
  },
  {
   "cell_type": "code",
   "execution_count": 404,
   "id": "29301086",
   "metadata": {},
   "outputs": [],
   "source": [
    "from statsmodels.stats.multicomp import pairwise_tukeyhsd\n",
    "## save the values as revenue and the labels to the certification/movie rating\n",
    "values = tmdb_results['revenue']\n",
    "labels = tmdb_results['certification']"
   ]
  },
  {
   "cell_type": "code",
   "execution_count": 405,
   "id": "f7ea4f94",
   "metadata": {},
   "outputs": [
    {
     "data": {
      "text/html": [
       "<table class=\"simpletable\">\n",
       "<caption>Multiple Comparison of Means - Tukey HSD, FWER=0.05</caption>\n",
       "<tr>\n",
       "  <th>group1</th> <th>group2</th>    <th>meandiff</th>     <th>p-adj</th>      <th>lower</th>           <th>upper</th>     <th>reject</th>\n",
       "</tr>\n",
       "<tr>\n",
       "     <td>G</td>    <td>NC-17</td> <td>-81909202.9062</td> <td>0.3082</td> <td>-195298858.7455</td>  <td>31480452.933</td>   <td>False</td>\n",
       "</tr>\n",
       "<tr>\n",
       "     <td>G</td>     <td>NR</td>   <td>-79522657.1647</td> <td>0.0002</td> <td>-132058408.2801</td> <td>-26986906.0493</td>  <td>True</td> \n",
       "</tr>\n",
       "<tr>\n",
       "     <td>G</td>     <td>PG</td>   <td>-11425584.2867</td> <td>0.9893</td> <td>-63734316.3302</td>   <td>40883147.7568</td>  <td>False</td>\n",
       "</tr>\n",
       "<tr>\n",
       "     <td>G</td>    <td>PG-13</td>  <td>-9348400.9393</td> <td>0.9935</td> <td>-56981583.9813</td>   <td>38284782.1026</td>  <td>False</td>\n",
       "</tr>\n",
       "<tr>\n",
       "     <td>G</td>      <td>R</td>   <td>-64460155.8766</td>  <td>0.001</td> <td>-110573823.6398</td> <td>-18346488.1133</td>  <td>True</td> \n",
       "</tr>\n",
       "<tr>\n",
       "   <td>NC-17</td>   <td>NR</td>    <td>2386545.7416</td>    <td>1.0</td>  <td>-105117158.0936</td> <td>109890249.5767</td>  <td>False</td>\n",
       "</tr>\n",
       "<tr>\n",
       "   <td>NC-17</td>   <td>PG</td>    <td>70483618.6196</td> <td>0.4191</td> <td>-36909326.4048</td>   <td>177876563.644</td>  <td>False</td>\n",
       "</tr>\n",
       "<tr>\n",
       "   <td>NC-17</td>  <td>PG-13</td>  <td>72560801.9669</td> <td>0.3609</td> <td>-32634071.1008</td>  <td>177755675.0346</td>  <td>False</td>\n",
       "</tr>\n",
       "<tr>\n",
       "   <td>NC-17</td>    <td>R</td>    <td>17449047.0297</td>  <td>0.997</td> <td>-87066557.2962</td>  <td>121964651.3555</td>  <td>False</td>\n",
       "</tr>\n",
       "<tr>\n",
       "    <td>NR</td>     <td>PG</td>    <td>68097072.878</td>    <td>0.0</td>   <td>30202010.7334</td>  <td>105992135.0225</td>  <td>True</td> \n",
       "</tr>\n",
       "<tr>\n",
       "    <td>NR</td>    <td>PG-13</td>  <td>70174256.2253</td>   <td>0.0</td>   <td>39049468.4566</td>  <td>101299043.9941</td>  <td>True</td> \n",
       "</tr>\n",
       "<tr>\n",
       "    <td>NR</td>      <td>R</td>    <td>15062501.2881</td> <td>0.6671</td> <td>-13682979.0788</td>   <td>43807981.655</td>   <td>False</td>\n",
       "</tr>\n",
       "<tr>\n",
       "    <td>PG</td>    <td>PG-13</td>  <td>2077183.3473</td>    <td>1.0</td>   <td>-28662867.342</td>   <td>32817234.0367</td>  <td>False</td>\n",
       "</tr>\n",
       "<tr>\n",
       "    <td>PG</td>      <td>R</td>   <td>-53034571.5899</td>   <td>0.0</td>  <td>-81363019.2046</td>  <td>-24706123.9752</td>  <td>True</td> \n",
       "</tr>\n",
       "<tr>\n",
       "   <td>PG-13</td>    <td>R</td>   <td>-55111754.9372</td>   <td>0.0</td>  <td>-73420704.1962</td>  <td>-36802805.6783</td>  <td>True</td> \n",
       "</tr>\n",
       "</table>"
      ],
      "text/plain": [
       "<class 'statsmodels.iolib.table.SimpleTable'>"
      ]
     },
     "execution_count": 405,
     "metadata": {},
     "output_type": "execute_result"
    }
   ],
   "source": [
    "#perform tukey's multiple comparison test and display the summary\n",
    "tukeys_results = pairwise_tukeyhsd(values,labels)\n",
    "tukeys_results.summary()"
   ]
  },
  {
   "cell_type": "markdown",
   "id": "6b99dc78",
   "metadata": {},
   "source": [
    "The null hypothesis must be rejected as the p-value being far less than 0.05 shows that there is significance in the data and that the movie rating does have an affect on the movie's revenue. Tukey's comparison chart shows are signficant difference in revenue between movie ratings; G and NR, G and R, NR and PG, NR and PG-13, PG and R, and PG-13 and R. "
   ]
  },
  {
   "cell_type": "code",
   "execution_count": 471,
   "id": "eb6c9c7c",
   "metadata": {},
   "outputs": [
    {
     "data": {
      "image/png": "[encoded data removed]",
      "text/plain": [
       "<Figure size 720x432 with 1 Axes>"
      ]
     },
     "metadata": {
      "needs_background": "light"
     },
     "output_type": "display_data"
    }
   ],
   "source": [
    "#visualization barplot of regions\n",
    "plt.figure(figsize=(10,6))\n",
    "sns.barplot(data=tmdb_results, x='certification',y='revenue');"
   ]
  },
  {
   "cell_type": "markdown",
   "id": "50ebf62f",
   "metadata": {},
   "source": [
    "**Question 2: Does the release year of a movie during the Covid-19 pandemic affect how much revenue a movie generated based on the year?**\n",
    "\n",
    "\n",
    "*Null Hypothesis:* The release year of a movie, during the Covid-19 pandemic, has no significant affect on movie revenue based on the year.\n",
    "\n",
    "*Alternative Hypothesis:* The release year of a movie, during the Covid-19 pandemic, has a significant affect on movie revenue based on the year.\n",
    "\n",
    "Alpha = 0.05\n",
    "*Covid-19 pandemic years = 2020, 2021, 2022*"
   ]
  },
  {
   "cell_type": "code",
   "execution_count": 454,
   "id": "072d6225",
   "metadata": {},
   "outputs": [
    {
     "data": {
      "text/plain": [
       "array([nan, '2020-02-21', '2020-10-25', ..., '2022-10-17', '2019-08-31',\n",
       "       '2022-08-30'], dtype=object)"
      ]
     },
     "execution_count": 454,
     "metadata": {},
     "output_type": "execute_result"
    }
   ],
   "source": [
    "#reviewing how release date values are arranged\n",
    "df_combined['release_date'].unique()"
   ]
  },
  {
   "cell_type": "code",
   "execution_count": 455,
   "id": "89cbbcf4",
   "metadata": {},
   "outputs": [
    {
     "data": {
      "text/html": [
       "<div>\n",
       "<style scoped>\n",
       "    .dataframe tbody tr th:only-of-type {\n",
       "        vertical-align: middle;\n",
       "    }\n",
       "\n",
       "    .dataframe tbody tr th {\n",
       "        vertical-align: top;\n",
       "    }\n",
       "\n",
       "    .dataframe thead th {\n",
       "        text-align: right;\n",
       "    }\n",
       "</style>\n",
       "<table border=\"1\" class=\"dataframe\">\n",
       "  <thead>\n",
       "    <tr style=\"text-align: right;\">\n",
       "      <th></th>\n",
       "      <th>adult</th>\n",
       "      <th>backdrop_path</th>\n",
       "      <th>belongs_to_collection</th>\n",
       "      <th>budget</th>\n",
       "      <th>genres</th>\n",
       "      <th>homepage</th>\n",
       "      <th>id</th>\n",
       "      <th>original_language</th>\n",
       "      <th>original_title</th>\n",
       "      <th>overview</th>\n",
       "      <th>...</th>\n",
       "      <th>status</th>\n",
       "      <th>tagline</th>\n",
       "      <th>title</th>\n",
       "      <th>video</th>\n",
       "      <th>vote_average</th>\n",
       "      <th>vote_count</th>\n",
       "      <th>certification</th>\n",
       "      <th>Year</th>\n",
       "      <th>Month</th>\n",
       "      <th>Day</th>\n",
       "    </tr>\n",
       "  </thead>\n",
       "  <tbody>\n",
       "    <tr>\n",
       "      <th>0</th>\n",
       "      <td>NaN</td>\n",
       "      <td>NaN</td>\n",
       "      <td>NaN</td>\n",
       "      <td>NaN</td>\n",
       "      <td>NaN</td>\n",
       "      <td>NaN</td>\n",
       "      <td>NaN</td>\n",
       "      <td>NaN</td>\n",
       "      <td>NaN</td>\n",
       "      <td>NaN</td>\n",
       "      <td>...</td>\n",
       "      <td>NaN</td>\n",
       "      <td>NaN</td>\n",
       "      <td>NaN</td>\n",
       "      <td>NaN</td>\n",
       "      <td>NaN</td>\n",
       "      <td>NaN</td>\n",
       "      <td>NaN</td>\n",
       "      <td>NaN</td>\n",
       "      <td>NaN</td>\n",
       "      <td>NaN</td>\n",
       "    </tr>\n",
       "    <tr>\n",
       "      <th>1</th>\n",
       "      <td>0.0</td>\n",
       "      <td>/fw5tsNib4QZBEw18xmebpVe3WZ8.jpg</td>\n",
       "      <td>NaN</td>\n",
       "      <td>0.0</td>\n",
       "      <td>[{'id': 18, 'name': 'Drama'}, {'id': 14, 'name...</td>\n",
       "      <td>http://poetastros.com/el-tango-del-viudo/</td>\n",
       "      <td>602986.0</td>\n",
       "      <td>es</td>\n",
       "      <td>El tango del viudo y su espejo deformante</td>\n",
       "      <td>A man whose wife has committed suicide,  appea...</td>\n",
       "      <td>...</td>\n",
       "      <td>Released</td>\n",
       "      <td>NaN</td>\n",
       "      <td>The Tango of the Widower and Its Distorting Mi...</td>\n",
       "      <td>0.0</td>\n",
       "      <td>5.300</td>\n",
       "      <td>3.0</td>\n",
       "      <td>NaN</td>\n",
       "      <td>2020</td>\n",
       "      <td>02</td>\n",
       "      <td>21</td>\n",
       "    </tr>\n",
       "    <tr>\n",
       "      <th>2</th>\n",
       "      <td>0.0</td>\n",
       "      <td>/8rIoyM6zYXJNjzGseT3MRusMPWl.jpg</td>\n",
       "      <td>NaN</td>\n",
       "      <td>0.0</td>\n",
       "      <td>[{'id': 12, 'name': 'Adventure'}, {'id': 14, '...</td>\n",
       "      <td>https://www.thewitchesmovie.net/</td>\n",
       "      <td>531219.0</td>\n",
       "      <td>en</td>\n",
       "      <td>Roald Dahl's The Witches</td>\n",
       "      <td>In late 1967, a young orphaned boy goes to liv...</td>\n",
       "      <td>...</td>\n",
       "      <td>Released</td>\n",
       "      <td>They're real!</td>\n",
       "      <td>Roald Dahl's The Witches</td>\n",
       "      <td>0.0</td>\n",
       "      <td>6.437</td>\n",
       "      <td>2305.0</td>\n",
       "      <td>PG</td>\n",
       "      <td>2020</td>\n",
       "      <td>10</td>\n",
       "      <td>25</td>\n",
       "    </tr>\n",
       "    <tr>\n",
       "      <th>3</th>\n",
       "      <td>0.0</td>\n",
       "      <td>/mwXmcrvjOJwzsJSuNEupjisXUt6.jpg</td>\n",
       "      <td>NaN</td>\n",
       "      <td>0.0</td>\n",
       "      <td>[{'id': 18, 'name': 'Drama'}]</td>\n",
       "      <td>https://www.lostgirlslovehotels.film</td>\n",
       "      <td>479259.0</td>\n",
       "      <td>en</td>\n",
       "      <td>Lost Girls &amp; Love Hotels</td>\n",
       "      <td>Searching for escape in Tokyo's back alleys, a...</td>\n",
       "      <td>...</td>\n",
       "      <td>Released</td>\n",
       "      <td>NaN</td>\n",
       "      <td>Lost Girls &amp; Love Hotels</td>\n",
       "      <td>0.0</td>\n",
       "      <td>5.200</td>\n",
       "      <td>120.0</td>\n",
       "      <td>R</td>\n",
       "      <td>2020</td>\n",
       "      <td>09</td>\n",
       "      <td>18</td>\n",
       "    </tr>\n",
       "    <tr>\n",
       "      <th>4</th>\n",
       "      <td>0.0</td>\n",
       "      <td>/op14w44FvLUqH7TWyT1ijzrSfXV.jpg</td>\n",
       "      <td>NaN</td>\n",
       "      <td>0.0</td>\n",
       "      <td>[{'id': 27, 'name': 'Horror'}]</td>\n",
       "      <td>http://www.roadtored.com</td>\n",
       "      <td>651448.0</td>\n",
       "      <td>en</td>\n",
       "      <td>Darkslide</td>\n",
       "      <td>High in the Sierra Nevada Mountains of Califor...</td>\n",
       "      <td>...</td>\n",
       "      <td>Released</td>\n",
       "      <td>Keep Moving or Die</td>\n",
       "      <td>Darkslide</td>\n",
       "      <td>0.0</td>\n",
       "      <td>6.500</td>\n",
       "      <td>2.0</td>\n",
       "      <td>NaN</td>\n",
       "      <td>2016</td>\n",
       "      <td>11</td>\n",
       "      <td>17</td>\n",
       "    </tr>\n",
       "  </tbody>\n",
       "</table>\n",
       "<p>5 rows × 28 columns</p>\n",
       "</div>"
      ],
      "text/plain": [
       "   adult                     backdrop_path belongs_to_collection  budget  \\\n",
       "0    NaN                               NaN                   NaN     NaN   \n",
       "1    0.0  /fw5tsNib4QZBEw18xmebpVe3WZ8.jpg                   NaN     0.0   \n",
       "2    0.0  /8rIoyM6zYXJNjzGseT3MRusMPWl.jpg                   NaN     0.0   \n",
       "3    0.0  /mwXmcrvjOJwzsJSuNEupjisXUt6.jpg                   NaN     0.0   \n",
       "4    0.0  /op14w44FvLUqH7TWyT1ijzrSfXV.jpg                   NaN     0.0   \n",
       "\n",
       "                                              genres  \\\n",
       "0                                                NaN   \n",
       "1  [{'id': 18, 'name': 'Drama'}, {'id': 14, 'name...   \n",
       "2  [{'id': 12, 'name': 'Adventure'}, {'id': 14, '...   \n",
       "3                      [{'id': 18, 'name': 'Drama'}]   \n",
       "4                     [{'id': 27, 'name': 'Horror'}]   \n",
       "\n",
       "                                    homepage        id original_language  \\\n",
       "0                                        NaN       NaN               NaN   \n",
       "1  http://poetastros.com/el-tango-del-viudo/  602986.0                es   \n",
       "2           https://www.thewitchesmovie.net/  531219.0                en   \n",
       "3       https://www.lostgirlslovehotels.film  479259.0                en   \n",
       "4                   http://www.roadtored.com  651448.0                en   \n",
       "\n",
       "                              original_title  \\\n",
       "0                                        NaN   \n",
       "1  El tango del viudo y su espejo deformante   \n",
       "2                   Roald Dahl's The Witches   \n",
       "3                   Lost Girls & Love Hotels   \n",
       "4                                  Darkslide   \n",
       "\n",
       "                                            overview  ...    status  \\\n",
       "0                                                NaN  ...       NaN   \n",
       "1  A man whose wife has committed suicide,  appea...  ...  Released   \n",
       "2  In late 1967, a young orphaned boy goes to liv...  ...  Released   \n",
       "3  Searching for escape in Tokyo's back alleys, a...  ...  Released   \n",
       "4  High in the Sierra Nevada Mountains of Califor...  ...  Released   \n",
       "\n",
       "              tagline                                              title  \\\n",
       "0                 NaN                                                NaN   \n",
       "1                 NaN  The Tango of the Widower and Its Distorting Mi...   \n",
       "2       They're real!                           Roald Dahl's The Witches   \n",
       "3                 NaN                           Lost Girls & Love Hotels   \n",
       "4  Keep Moving or Die                                          Darkslide   \n",
       "\n",
       "  video vote_average  vote_count  certification  Year Month  Day  \n",
       "0   NaN          NaN         NaN            NaN   NaN   NaN  NaN  \n",
       "1   0.0        5.300         3.0            NaN  2020    02   21  \n",
       "2   0.0        6.437      2305.0             PG  2020    10   25  \n",
       "3   0.0        5.200       120.0              R  2020    09   18  \n",
       "4   0.0        6.500         2.0            NaN  2016    11   17  \n",
       "\n",
       "[5 rows x 28 columns]"
      ]
     },
     "execution_count": 455,
     "metadata": {},
     "output_type": "execute_result"
    }
   ],
   "source": [
    "#split release_date columns into year, month, day- will use year for hypothesis testing\n",
    "df_combined[[\"Year\", \"Month\", \"Day\"]] = df_combined[\"release_date\"].str.split(\"-\", expand = True)\n",
    "df_combined.head(5)"
   ]
  },
  {
   "cell_type": "code",
   "execution_count": 456,
   "id": "88c59ae7",
   "metadata": {},
   "outputs": [
    {
     "data": {
      "text/plain": [
       "array([nan, '2020', '2016', '2021', '2019', '2022', '2018', '2017',\n",
       "       '2013', '2012', '2015', '2014', '1999', '2008', '1989', '1994',\n",
       "       '2023'], dtype=object)"
      ]
     },
     "execution_count": 456,
     "metadata": {},
     "output_type": "execute_result"
    }
   ],
   "source": [
    "#review year subtypes\n",
    "df_combined['Year'].unique()"
   ]
  },
  {
   "cell_type": "code",
   "execution_count": 457,
   "id": "e727edac",
   "metadata": {},
   "outputs": [],
   "source": [
    "year1 = df_combined.loc[df_combined['Year']== '2020'] \n",
    "year2 = df_combined.loc[df_combined['Year']== '2021']\n",
    "year3 = df_combined.loc[df_combined['Year']== '2022']"
   ]
  },
  {
   "cell_type": "code",
   "execution_count": 459,
   "id": "2f7ca36f",
   "metadata": {},
   "outputs": [
    {
     "data": {
      "text/html": [
       "<div>\n",
       "<style scoped>\n",
       "    .dataframe tbody tr th:only-of-type {\n",
       "        vertical-align: middle;\n",
       "    }\n",
       "\n",
       "    .dataframe tbody tr th {\n",
       "        vertical-align: top;\n",
       "    }\n",
       "\n",
       "    .dataframe thead th {\n",
       "        text-align: right;\n",
       "    }\n",
       "</style>\n",
       "<table border=\"1\" class=\"dataframe\">\n",
       "  <thead>\n",
       "    <tr style=\"text-align: right;\">\n",
       "      <th></th>\n",
       "      <th>adult</th>\n",
       "      <th>backdrop_path</th>\n",
       "      <th>belongs_to_collection</th>\n",
       "      <th>budget</th>\n",
       "      <th>genres</th>\n",
       "      <th>homepage</th>\n",
       "      <th>id</th>\n",
       "      <th>original_language</th>\n",
       "      <th>original_title</th>\n",
       "      <th>overview</th>\n",
       "      <th>...</th>\n",
       "      <th>status</th>\n",
       "      <th>tagline</th>\n",
       "      <th>title</th>\n",
       "      <th>video</th>\n",
       "      <th>vote_average</th>\n",
       "      <th>vote_count</th>\n",
       "      <th>certification</th>\n",
       "      <th>Year</th>\n",
       "      <th>Month</th>\n",
       "      <th>Day</th>\n",
       "    </tr>\n",
       "  </thead>\n",
       "  <tbody>\n",
       "    <tr>\n",
       "      <th>1</th>\n",
       "      <td>0.0</td>\n",
       "      <td>/fw5tsNib4QZBEw18xmebpVe3WZ8.jpg</td>\n",
       "      <td>NaN</td>\n",
       "      <td>0.0</td>\n",
       "      <td>[{'id': 18, 'name': 'Drama'}, {'id': 14, 'name...</td>\n",
       "      <td>http://poetastros.com/el-tango-del-viudo/</td>\n",
       "      <td>602986.0</td>\n",
       "      <td>es</td>\n",
       "      <td>El tango del viudo y su espejo deformante</td>\n",
       "      <td>A man whose wife has committed suicide,  appea...</td>\n",
       "      <td>...</td>\n",
       "      <td>Released</td>\n",
       "      <td>NaN</td>\n",
       "      <td>The Tango of the Widower and Its Distorting Mi...</td>\n",
       "      <td>0.0</td>\n",
       "      <td>5.300</td>\n",
       "      <td>3.0</td>\n",
       "      <td>NaN</td>\n",
       "      <td>2020</td>\n",
       "      <td>02</td>\n",
       "      <td>21</td>\n",
       "    </tr>\n",
       "    <tr>\n",
       "      <th>2</th>\n",
       "      <td>0.0</td>\n",
       "      <td>/8rIoyM6zYXJNjzGseT3MRusMPWl.jpg</td>\n",
       "      <td>NaN</td>\n",
       "      <td>0.0</td>\n",
       "      <td>[{'id': 12, 'name': 'Adventure'}, {'id': 14, '...</td>\n",
       "      <td>https://www.thewitchesmovie.net/</td>\n",
       "      <td>531219.0</td>\n",
       "      <td>en</td>\n",
       "      <td>Roald Dahl's The Witches</td>\n",
       "      <td>In late 1967, a young orphaned boy goes to liv...</td>\n",
       "      <td>...</td>\n",
       "      <td>Released</td>\n",
       "      <td>They're real!</td>\n",
       "      <td>Roald Dahl's The Witches</td>\n",
       "      <td>0.0</td>\n",
       "      <td>6.437</td>\n",
       "      <td>2305.0</td>\n",
       "      <td>PG</td>\n",
       "      <td>2020</td>\n",
       "      <td>10</td>\n",
       "      <td>25</td>\n",
       "    </tr>\n",
       "    <tr>\n",
       "      <th>3</th>\n",
       "      <td>0.0</td>\n",
       "      <td>/mwXmcrvjOJwzsJSuNEupjisXUt6.jpg</td>\n",
       "      <td>NaN</td>\n",
       "      <td>0.0</td>\n",
       "      <td>[{'id': 18, 'name': 'Drama'}]</td>\n",
       "      <td>https://www.lostgirlslovehotels.film</td>\n",
       "      <td>479259.0</td>\n",
       "      <td>en</td>\n",
       "      <td>Lost Girls &amp; Love Hotels</td>\n",
       "      <td>Searching for escape in Tokyo's back alleys, a...</td>\n",
       "      <td>...</td>\n",
       "      <td>Released</td>\n",
       "      <td>NaN</td>\n",
       "      <td>Lost Girls &amp; Love Hotels</td>\n",
       "      <td>0.0</td>\n",
       "      <td>5.200</td>\n",
       "      <td>120.0</td>\n",
       "      <td>R</td>\n",
       "      <td>2020</td>\n",
       "      <td>09</td>\n",
       "      <td>18</td>\n",
       "    </tr>\n",
       "    <tr>\n",
       "      <th>5</th>\n",
       "      <td>0.0</td>\n",
       "      <td>/dzfiE2VHY362dGI62XfZ2iI87CT.jpg</td>\n",
       "      <td>NaN</td>\n",
       "      <td>7000000.0</td>\n",
       "      <td>[{'id': 27, 'name': 'Horror'}, {'id': 14, 'nam...</td>\n",
       "      <td>http://www.fantasyisland.movie/</td>\n",
       "      <td>539537.0</td>\n",
       "      <td>en</td>\n",
       "      <td>Fantasy Island</td>\n",
       "      <td>A group of contest winners arrive at an island...</td>\n",
       "      <td>...</td>\n",
       "      <td>Released</td>\n",
       "      <td>Never coming home</td>\n",
       "      <td>Fantasy Island</td>\n",
       "      <td>0.0</td>\n",
       "      <td>5.927</td>\n",
       "      <td>1995.0</td>\n",
       "      <td>PG-13</td>\n",
       "      <td>2020</td>\n",
       "      <td>02</td>\n",
       "      <td>12</td>\n",
       "    </tr>\n",
       "  </tbody>\n",
       "</table>\n",
       "<p>4 rows × 28 columns</p>\n",
       "</div>"
      ],
      "text/plain": [
       "   adult                     backdrop_path belongs_to_collection     budget  \\\n",
       "1    0.0  /fw5tsNib4QZBEw18xmebpVe3WZ8.jpg                   NaN        0.0   \n",
       "2    0.0  /8rIoyM6zYXJNjzGseT3MRusMPWl.jpg                   NaN        0.0   \n",
       "3    0.0  /mwXmcrvjOJwzsJSuNEupjisXUt6.jpg                   NaN        0.0   \n",
       "5    0.0  /dzfiE2VHY362dGI62XfZ2iI87CT.jpg                   NaN  7000000.0   \n",
       "\n",
       "                                              genres  \\\n",
       "1  [{'id': 18, 'name': 'Drama'}, {'id': 14, 'name...   \n",
       "2  [{'id': 12, 'name': 'Adventure'}, {'id': 14, '...   \n",
       "3                      [{'id': 18, 'name': 'Drama'}]   \n",
       "5  [{'id': 27, 'name': 'Horror'}, {'id': 14, 'nam...   \n",
       "\n",
       "                                    homepage        id original_language  \\\n",
       "1  http://poetastros.com/el-tango-del-viudo/  602986.0                es   \n",
       "2           https://www.thewitchesmovie.net/  531219.0                en   \n",
       "3       https://www.lostgirlslovehotels.film  479259.0                en   \n",
       "5            http://www.fantasyisland.movie/  539537.0                en   \n",
       "\n",
       "                              original_title  \\\n",
       "1  El tango del viudo y su espejo deformante   \n",
       "2                   Roald Dahl's The Witches   \n",
       "3                   Lost Girls & Love Hotels   \n",
       "5                             Fantasy Island   \n",
       "\n",
       "                                            overview  ...    status  \\\n",
       "1  A man whose wife has committed suicide,  appea...  ...  Released   \n",
       "2  In late 1967, a young orphaned boy goes to liv...  ...  Released   \n",
       "3  Searching for escape in Tokyo's back alleys, a...  ...  Released   \n",
       "5  A group of contest winners arrive at an island...  ...  Released   \n",
       "\n",
       "             tagline                                              title video  \\\n",
       "1                NaN  The Tango of the Widower and Its Distorting Mi...   0.0   \n",
       "2      They're real!                           Roald Dahl's The Witches   0.0   \n",
       "3                NaN                           Lost Girls & Love Hotels   0.0   \n",
       "5  Never coming home                                     Fantasy Island   0.0   \n",
       "\n",
       "  vote_average  vote_count  certification  Year Month Day  \n",
       "1        5.300         3.0            NaN  2020    02  21  \n",
       "2        6.437      2305.0             PG  2020    10  25  \n",
       "3        5.200       120.0              R  2020    09  18  \n",
       "5        5.927      1995.0          PG-13  2020    02  12  \n",
       "\n",
       "[4 rows x 28 columns]"
      ]
     },
     "execution_count": 459,
     "metadata": {},
     "output_type": "execute_result"
    }
   ],
   "source": [
    "#concat years into a single df\n",
    "frames = [year1, year2, year3]\n",
    "covid_years = pd.concat(frames)\n",
    "covid_years.head(4)"
   ]
  },
  {
   "cell_type": "code",
   "execution_count": 460,
   "id": "c5112b4e",
   "metadata": {},
   "outputs": [
    {
     "data": {
      "text/plain": [
       "dict_keys(['2020', '2021', '2022'])"
      ]
     },
     "execution_count": 460,
     "metadata": {},
     "output_type": "execute_result"
    }
   ],
   "source": [
    "#create groups dictionary.\n",
    "groups = {}\n",
    "## Loop through all unique categories\n",
    "for i in covid_years['Year'].unique():\n",
    "    ## Get series for group and rename\n",
    "    data = covid_years.loc[covid_years['Year']==i,'revenue'].copy()\n",
    "    \n",
    "    # save into the dictionary\n",
    "    groups[i] = data\n",
    "groups.keys()"
   ]
  },
  {
   "cell_type": "code",
   "execution_count": 461,
   "id": "be903195",
   "metadata": {},
   "outputs": [
    {
     "name": "stdout",
     "output_type": "stream",
     "text": [
      "there were 9 outliers in the 2020 group\n",
      "there were 27 outliers in the 2021 group\n",
      "there were 11 outliers in the 2022 group\n"
     ]
    }
   ],
   "source": [
    "#remove outliers\n",
    "for year, data in groups.items():\n",
    "    outliers = np.abs(stats.zscore(data)) > 3\n",
    "    print(f\"there were {outliers.sum()} outliers in the {year} group\")\n",
    "    data = data.loc[~outliers]\n",
    "    groups[year] = data"
   ]
  },
  {
   "cell_type": "code",
   "execution_count": 462,
   "id": "86f4ad84",
   "metadata": {},
   "outputs": [
    {
     "data": {
      "text/html": [
       "<div>\n",
       "<style scoped>\n",
       "    .dataframe tbody tr th:only-of-type {\n",
       "        vertical-align: middle;\n",
       "    }\n",
       "\n",
       "    .dataframe tbody tr th {\n",
       "        vertical-align: top;\n",
       "    }\n",
       "\n",
       "    .dataframe thead th {\n",
       "        text-align: right;\n",
       "    }\n",
       "</style>\n",
       "<table border=\"1\" class=\"dataframe\">\n",
       "  <thead>\n",
       "    <tr style=\"text-align: right;\">\n",
       "      <th></th>\n",
       "      <th>n</th>\n",
       "      <th>p</th>\n",
       "      <th>test stat</th>\n",
       "    </tr>\n",
       "  </thead>\n",
       "  <tbody>\n",
       "    <tr>\n",
       "      <th>2020</th>\n",
       "      <td>3214.0</td>\n",
       "      <td>0.0</td>\n",
       "      <td>6375.306655</td>\n",
       "    </tr>\n",
       "    <tr>\n",
       "      <th>2021</th>\n",
       "      <td>3663.0</td>\n",
       "      <td>0.0</td>\n",
       "      <td>6003.085601</td>\n",
       "    </tr>\n",
       "    <tr>\n",
       "      <th>2022</th>\n",
       "      <td>1957.0</td>\n",
       "      <td>0.0</td>\n",
       "      <td>3161.272060</td>\n",
       "    </tr>\n",
       "  </tbody>\n",
       "</table>\n",
       "</div>"
      ],
      "text/plain": [
       "           n    p    test stat\n",
       "2020  3214.0  0.0  6375.306655\n",
       "2021  3663.0  0.0  6003.085601\n",
       "2022  1957.0  0.0  3161.272060"
      ]
     },
     "execution_count": 462,
     "metadata": {},
     "output_type": "execute_result"
    }
   ],
   "source": [
    "#test assumptions of normality and equal variance\n",
    "\n",
    "#test normality\n",
    "norm_results = {}\n",
    "for i, data in groups.items():\n",
    "    stat, p = stats.normaltest(data)\n",
    "    ## save the p val, test statistic, and the size of the group\n",
    "    norm_results[i] = {'n': len(data),\n",
    "                             'p':p,\n",
    "                             'test stat':stat,}\n",
    "## convert to a dataframe\n",
    "norm_results_df = pd.DataFrame(norm_results).T\n",
    "norm_results_df"
   ]
  },
  {
   "cell_type": "code",
   "execution_count": 463,
   "id": "bd076723",
   "metadata": {},
   "outputs": [
    {
     "data": {
      "text/html": [
       "<div>\n",
       "<style scoped>\n",
       "    .dataframe tbody tr th:only-of-type {\n",
       "        vertical-align: middle;\n",
       "    }\n",
       "\n",
       "    .dataframe tbody tr th {\n",
       "        vertical-align: top;\n",
       "    }\n",
       "\n",
       "    .dataframe thead th {\n",
       "        text-align: right;\n",
       "    }\n",
       "</style>\n",
       "<table border=\"1\" class=\"dataframe\">\n",
       "  <thead>\n",
       "    <tr style=\"text-align: right;\">\n",
       "      <th></th>\n",
       "      <th>n</th>\n",
       "      <th>p</th>\n",
       "      <th>test stat</th>\n",
       "      <th>sig</th>\n",
       "    </tr>\n",
       "  </thead>\n",
       "  <tbody>\n",
       "    <tr>\n",
       "      <th>2020</th>\n",
       "      <td>3214.0</td>\n",
       "      <td>0.0</td>\n",
       "      <td>6375.306655</td>\n",
       "      <td>True</td>\n",
       "    </tr>\n",
       "    <tr>\n",
       "      <th>2021</th>\n",
       "      <td>3663.0</td>\n",
       "      <td>0.0</td>\n",
       "      <td>6003.085601</td>\n",
       "      <td>True</td>\n",
       "    </tr>\n",
       "    <tr>\n",
       "      <th>2022</th>\n",
       "      <td>1957.0</td>\n",
       "      <td>0.0</td>\n",
       "      <td>3161.272060</td>\n",
       "      <td>True</td>\n",
       "    </tr>\n",
       "  </tbody>\n",
       "</table>\n",
       "</div>"
      ],
      "text/plain": [
       "           n    p    test stat   sig\n",
       "2020  3214.0  0.0  6375.306655  True\n",
       "2021  3663.0  0.0  6003.085601  True\n",
       "2022  1957.0  0.0  3161.272060  True"
      ]
     },
     "execution_count": 463,
     "metadata": {},
     "output_type": "execute_result"
    }
   ],
   "source": [
    "#review normality again using pandas\n",
    "### checking sig with pandas \n",
    "norm_results_df['sig'] = norm_results_df['p'] < .05 \n",
    "norm_results_df\n",
    "\n",
    "#each group does not have a normal distribution"
   ]
  },
  {
   "cell_type": "code",
   "execution_count": 464,
   "id": "fd96fd95",
   "metadata": {},
   "outputs": [
    {
     "data": {
      "text/plain": [
       "KruskalResult(statistic=9.980917054079605, pvalue=0.006802544626363126)"
      ]
     },
     "execution_count": 464,
     "metadata": {},
     "output_type": "execute_result"
    }
   ],
   "source": [
    "#test for equal variance\n",
    "\n",
    "# with the * operator \n",
    "result = stats.kruskal(*groups.values())\n",
    "result\n",
    "\n",
    "#did not met assumption for equal variance"
   ]
  },
  {
   "cell_type": "markdown",
   "id": "5764cd23",
   "metadata": {},
   "source": [
    "The null hypothesis must be rejected. P-value is less than 0.05 shows that there is significance in the data."
   ]
  },
  {
   "cell_type": "code",
   "execution_count": 465,
   "id": "510d58ea",
   "metadata": {},
   "outputs": [
    {
     "data": {
      "text/plain": [
       "F_onewayResult(statistic=8.023233224909719, pvalue=0.00033015355597775485)"
      ]
     },
     "execution_count": 465,
     "metadata": {},
     "output_type": "execute_result"
    }
   ],
   "source": [
    "#test\n",
    "#ANOVA\n",
    "\n",
    "#hypothesis test\n",
    "result = stats.f_oneway( *groups.values())\n",
    "result"
   ]
  },
  {
   "cell_type": "code",
   "execution_count": 466,
   "id": "6950c45f",
   "metadata": {},
   "outputs": [
    {
     "name": "stdout",
     "output_type": "stream",
     "text": [
      "p-value=0.0003301536\n",
      "Significant: True\n"
     ]
    }
   ],
   "source": [
    "#interpret p-value and reject/fail to reject null hypothesis\n",
    "\n",
    "print(f\"p-value={result.pvalue:.10f}\")\n",
    "print(f\"Significant: {result.pvalue <.05}\")"
   ]
  },
  {
   "cell_type": "markdown",
   "id": "b7c11942",
   "metadata": {},
   "source": [
    "The null hypothesis must be rejected as the p-value is greater than 0.05 which shows that there is significance in the data. The release year of a movie, during the Covid-19 pandemic or prior, had a significant affect on how much revenue a movie generated."
   ]
  },
  {
   "cell_type": "code",
   "execution_count": 470,
   "id": "b1a2d72a",
   "metadata": {},
   "outputs": [
    {
     "data": {
      "application/vnd.plotly.v1+json": {
       "config": {
        "plotlyServerURL": "https://plot.ly"
       },
       "data": [
        {
         "hole": 0.3,
         "labels": [
          "2021",
          "2020",
          "2022"
         ],
         "type": "pie",
         "values": [
          3690,
          3223,
          1968
         ]
        }
       ],
       "layout": {
        "template": {
         "data": {
          "bar": [
           {
            "error_x": {
             "color": "#2a3f5f"
            },
            "error_y": {
             "color": "#2a3f5f"
            },
            "marker": {
             "line": {
              "color": "#E5ECF6",
              "width": 0.5
             },
             "pattern": {
              "fillmode": "overlay",
              "size": 10,
              "solidity": 0.2
             }
            },
            "type": "bar"
           }
          ],
          "barpolar": [
           {
            "marker": {
             "line": {
              "color": "#E5ECF6",
              "width": 0.5
             },
             "pattern": {
              "fillmode": "overlay",
              "size": 10,
              "solidity": 0.2
             }
            },
            "type": "barpolar"
           }
          ],
          "carpet": [
           {
            "aaxis": {
             "endlinecolor": "#2a3f5f",
             "gridcolor": "white",
             "linecolor": "white",
             "minorgridcolor": "white",
             "startlinecolor": "#2a3f5f"
            },
            "baxis": {
             "endlinecolor": "#2a3f5f",
             "gridcolor": "white",
             "linecolor": "white",
             "minorgridcolor": "white",
             "startlinecolor": "#2a3f5f"
            },
            "type": "carpet"
           }
          ],
          "choropleth": [
           {
            "colorbar": {
             "outlinewidth": 0,
             "ticks": ""
            },
            "type": "choropleth"
           }
          ],
          "contour": [
           {
            "colorbar": {
             "outlinewidth": 0,
             "ticks": ""
            },
            "colorscale": [
             [
              0,
              "#0d0887"
             ],
             [
              0.1111111111111111,
              "#46039f"
             ],
             [
              0.2222222222222222,
              "#7201a8"
             ],
             [
              0.3333333333333333,
              "#9c179e"
             ],
             [
              0.4444444444444444,
              "#bd3786"
             ],
             [
              0.5555555555555556,
              "#d8576b"
             ],
             [
              0.6666666666666666,
              "#ed7953"
             ],
             [
              0.7777777777777778,
              "#fb9f3a"
             ],
             [
              0.8888888888888888,
              "#fdca26"
             ],
             [
              1,
              "#f0f921"
             ]
            ],
            "type": "contour"
           }
          ],
          "contourcarpet": [
           {
            "colorbar": {
             "outlinewidth": 0,
             "ticks": ""
            },
            "type": "contourcarpet"
           }
          ],
          "heatmap": [
           {
            "colorbar": {
             "outlinewidth": 0,
             "ticks": ""
            },
            "colorscale": [
             [
              0,
              "#0d0887"
             ],
             [
              0.1111111111111111,
              "#46039f"
             ],
             [
              0.2222222222222222,
              "#7201a8"
             ],
             [
              0.3333333333333333,
              "#9c179e"
             ],
             [
              0.4444444444444444,
              "#bd3786"
             ],
             [
              0.5555555555555556,
              "#d8576b"
             ],
             [
              0.6666666666666666,
              "#ed7953"
             ],
             [
              0.7777777777777778,
              "#fb9f3a"
             ],
             [
              0.8888888888888888,
              "#fdca26"
             ],
             [
              1,
              "#f0f921"
             ]
            ],
            "type": "heatmap"
           }
          ],
          "heatmapgl": [
           {
            "colorbar": {
             "outlinewidth": 0,
             "ticks": ""
            },
            "colorscale": [
             [
              0,
              "#0d0887"
             ],
             [
              0.1111111111111111,
              "#46039f"
             ],
             [
              0.2222222222222222,
              "#7201a8"
             ],
             [
              0.3333333333333333,
              "#9c179e"
             ],
             [
              0.4444444444444444,
              "#bd3786"
             ],
             [
              0.5555555555555556,
              "#d8576b"
             ],
             [
              0.6666666666666666,
              "#ed7953"
             ],
             [
              0.7777777777777778,
              "#fb9f3a"
             ],
             [
              0.8888888888888888,
              "#fdca26"
             ],
             [
              1,
              "#f0f921"
             ]
            ],
            "type": "heatmapgl"
           }
          ],
          "histogram": [
           {
            "marker": {
             "pattern": {
              "fillmode": "overlay",
              "size": 10,
              "solidity": 0.2
             }
            },
            "type": "histogram"
           }
          ],
          "histogram2d": [
           {
            "colorbar": {
             "outlinewidth": 0,
             "ticks": ""
            },
            "colorscale": [
             [
              0,
              "#0d0887"
             ],
             [
              0.1111111111111111,
              "#46039f"
             ],
             [
              0.2222222222222222,
              "#7201a8"
             ],
             [
              0.3333333333333333,
              "#9c179e"
             ],
             [
              0.4444444444444444,
              "#bd3786"
             ],
             [
              0.5555555555555556,
              "#d8576b"
             ],
             [
              0.6666666666666666,
              "#ed7953"
             ],
             [
              0.7777777777777778,
              "#fb9f3a"
             ],
             [
              0.8888888888888888,
              "#fdca26"
             ],
             [
              1,
              "#f0f921"
             ]
            ],
            "type": "histogram2d"
           }
          ],
          "histogram2dcontour": [
           {
            "colorbar": {
             "outlinewidth": 0,
             "ticks": ""
            },
            "colorscale": [
             [
              0,
              "#0d0887"
             ],
             [
              0.1111111111111111,
              "#46039f"
             ],
             [
              0.2222222222222222,
              "#7201a8"
             ],
             [
              0.3333333333333333,
              "#9c179e"
             ],
             [
              0.4444444444444444,
              "#bd3786"
             ],
             [
              0.5555555555555556,
              "#d8576b"
             ],
             [
              0.6666666666666666,
              "#ed7953"
             ],
             [
              0.7777777777777778,
              "#fb9f3a"
             ],
             [
              0.8888888888888888,
              "#fdca26"
             ],
             [
              1,
              "#f0f921"
             ]
            ],
            "type": "histogram2dcontour"
           }
          ],
          "mesh3d": [
           {
            "colorbar": {
             "outlinewidth": 0,
             "ticks": ""
            },
            "type": "mesh3d"
           }
          ],
          "parcoords": [
           {
            "line": {
             "colorbar": {
              "outlinewidth": 0,
              "ticks": ""
             }
            },
            "type": "parcoords"
           }
          ],
          "pie": [
           {
            "automargin": true,
            "type": "pie"
           }
          ],
          "scatter": [
           {
            "fillpattern": {
             "fillmode": "overlay",
             "size": 10,
             "solidity": 0.2
            },
            "type": "scatter"
           }
          ],
          "scatter3d": [
           {
            "line": {
             "colorbar": {
              "outlinewidth": 0,
              "ticks": ""
             }
            },
            "marker": {
             "colorbar": {
              "outlinewidth": 0,
              "ticks": ""
             }
            },
            "type": "scatter3d"
           }
          ],
          "scattercarpet": [
           {
            "marker": {
             "colorbar": {
              "outlinewidth": 0,
              "ticks": ""
             }
            },
            "type": "scattercarpet"
           }
          ],
          "scattergeo": [
           {
            "marker": {
             "colorbar": {
              "outlinewidth": 0,
              "ticks": ""
             }
            },
            "type": "scattergeo"
           }
          ],
          "scattergl": [
           {
            "marker": {
             "colorbar": {
              "outlinewidth": 0,
              "ticks": ""
             }
            },
            "type": "scattergl"
           }
          ],
          "scattermapbox": [
           {
            "marker": {
             "colorbar": {
              "outlinewidth": 0,
              "ticks": ""
             }
            },
            "type": "scattermapbox"
           }
          ],
          "scatterpolar": [
           {
            "marker": {
             "colorbar": {
              "outlinewidth": 0,
              "ticks": ""
             }
            },
            "type": "scatterpolar"
           }
          ],
          "scatterpolargl": [
           {
            "marker": {
             "colorbar": {
              "outlinewidth": 0,
              "ticks": ""
             }
            },
            "type": "scatterpolargl"
           }
          ],
          "scatterternary": [
           {
            "marker": {
             "colorbar": {
              "outlinewidth": 0,
              "ticks": ""
             }
            },
            "type": "scatterternary"
           }
          ],
          "surface": [
           {
            "colorbar": {
             "outlinewidth": 0,
             "ticks": ""
            },
            "colorscale": [
             [
              0,
              "#0d0887"
             ],
             [
              0.1111111111111111,
              "#46039f"
             ],
             [
              0.2222222222222222,
              "#7201a8"
             ],
             [
              0.3333333333333333,
              "#9c179e"
             ],
             [
              0.4444444444444444,
              "#bd3786"
             ],
             [
              0.5555555555555556,
              "#d8576b"
             ],
             [
              0.6666666666666666,
              "#ed7953"
             ],
             [
              0.7777777777777778,
              "#fb9f3a"
             ],
             [
              0.8888888888888888,
              "#fdca26"
             ],
             [
              1,
              "#f0f921"
             ]
            ],
            "type": "surface"
           }
          ],
          "table": [
           {
            "cells": {
             "fill": {
              "color": "#EBF0F8"
             },
             "line": {
              "color": "white"
             }
            },
            "header": {
             "fill": {
              "color": "#C8D4E3"
             },
             "line": {
              "color": "white"
             }
            },
            "type": "table"
           }
          ]
         },
         "layout": {
          "annotationdefaults": {
           "arrowcolor": "#2a3f5f",
           "arrowhead": 0,
           "arrowwidth": 1
          },
          "autotypenumbers": "strict",
          "coloraxis": {
           "colorbar": {
            "outlinewidth": 0,
            "ticks": ""
           }
          },
          "colorscale": {
           "diverging": [
            [
             0,
             "#8e0152"
            ],
            [
             0.1,
             "#c51b7d"
            ],
            [
             0.2,
             "#de77ae"
            ],
            [
             0.3,
             "#f1b6da"
            ],
            [
             0.4,
             "#fde0ef"
            ],
            [
             0.5,
             "#f7f7f7"
            ],
            [
             0.6,
             "#e6f5d0"
            ],
            [
             0.7,
             "#b8e186"
            ],
            [
             0.8,
             "#7fbc41"
            ],
            [
             0.9,
             "#4d9221"
            ],
            [
             1,
             "#276419"
            ]
           ],
           "sequential": [
            [
             0,
             "#0d0887"
            ],
            [
             0.1111111111111111,
             "#46039f"
            ],
            [
             0.2222222222222222,
             "#7201a8"
            ],
            [
             0.3333333333333333,
             "#9c179e"
            ],
            [
             0.4444444444444444,
             "#bd3786"
            ],
            [
             0.5555555555555556,
             "#d8576b"
            ],
            [
             0.6666666666666666,
             "#ed7953"
            ],
            [
             0.7777777777777778,
             "#fb9f3a"
            ],
            [
             0.8888888888888888,
             "#fdca26"
            ],
            [
             1,
             "#f0f921"
            ]
           ],
           "sequentialminus": [
            [
             0,
             "#0d0887"
            ],
            [
             0.1111111111111111,
             "#46039f"
            ],
            [
             0.2222222222222222,
             "#7201a8"
            ],
            [
             0.3333333333333333,
             "#9c179e"
            ],
            [
             0.4444444444444444,
             "#bd3786"
            ],
            [
             0.5555555555555556,
             "#d8576b"
            ],
            [
             0.6666666666666666,
             "#ed7953"
            ],
            [
             0.7777777777777778,
             "#fb9f3a"
            ],
            [
             0.8888888888888888,
             "#fdca26"
            ],
            [
             1,
             "#f0f921"
            ]
           ]
          },
          "colorway": [
           "#636efa",
           "#EF553B",
           "#00cc96",
           "#ab63fa",
           "#FFA15A",
           "#19d3f3",
           "#FF6692",
           "#B6E880",
           "#FF97FF",
           "#FECB52"
          ],
          "font": {
           "color": "#2a3f5f"
          },
          "geo": {
           "bgcolor": "white",
           "lakecolor": "white",
           "landcolor": "#E5ECF6",
           "showlakes": true,
           "showland": true,
           "subunitcolor": "white"
          },
          "hoverlabel": {
           "align": "left"
          },
          "hovermode": "closest",
          "mapbox": {
           "style": "light"
          },
          "paper_bgcolor": "white",
          "plot_bgcolor": "#E5ECF6",
          "polar": {
           "angularaxis": {
            "gridcolor": "white",
            "linecolor": "white",
            "ticks": ""
           },
           "bgcolor": "#E5ECF6",
           "radialaxis": {
            "gridcolor": "white",
            "linecolor": "white",
            "ticks": ""
           }
          },
          "scene": {
           "xaxis": {
            "backgroundcolor": "#E5ECF6",
            "gridcolor": "white",
            "gridwidth": 2,
            "linecolor": "white",
            "showbackground": true,
            "ticks": "",
            "zerolinecolor": "white"
           },
           "yaxis": {
            "backgroundcolor": "#E5ECF6",
            "gridcolor": "white",
            "gridwidth": 2,
            "linecolor": "white",
            "showbackground": true,
            "ticks": "",
            "zerolinecolor": "white"
           },
           "zaxis": {
            "backgroundcolor": "#E5ECF6",
            "gridcolor": "white",
            "gridwidth": 2,
            "linecolor": "white",
            "showbackground": true,
            "ticks": "",
            "zerolinecolor": "white"
           }
          },
          "shapedefaults": {
           "line": {
            "color": "#2a3f5f"
           }
          },
          "ternary": {
           "aaxis": {
            "gridcolor": "white",
            "linecolor": "white",
            "ticks": ""
           },
           "baxis": {
            "gridcolor": "white",
            "linecolor": "white",
            "ticks": ""
           },
           "bgcolor": "#E5ECF6",
           "caxis": {
            "gridcolor": "white",
            "linecolor": "white",
            "ticks": ""
           }
          },
          "title": {
           "x": 0.05
          },
          "xaxis": {
           "automargin": true,
           "gridcolor": "white",
           "linecolor": "white",
           "ticks": "",
           "title": {
            "standoff": 15
           },
           "zerolinecolor": "white",
           "zerolinewidth": 2
          },
          "yaxis": {
           "automargin": true,
           "gridcolor": "white",
           "linecolor": "white",
           "ticks": "",
           "title": {
            "standoff": 15
           },
           "zerolinecolor": "white",
           "zerolinewidth": 2
          }
         }
        },
        "title": {
         "text": "Percentage of Movies Released Per Year"
        }
       }
      },
      "text/html": [
       "<div>                            <div id=\"037dea35-97ed-4c4d-bb38-3eb8349909ae\" class=\"plotly-graph-div\" style=\"height:525px; width:100%;\"></div>            <script type=\"text/javascript\">                require([\"plotly\"], function(Plotly) {                    window.PLOTLYENV=window.PLOTLYENV || {};                                    if (document.getElementById(\"037dea35-97ed-4c4d-bb38-3eb8349909ae\")) {                    Plotly.newPlot(                        \"037dea35-97ed-4c4d-bb38-3eb8349909ae\",                        [{\"hole\":0.3,\"labels\":[\"2021\",\"2020\",\"2022\"],\"values\":[3690,3223,1968],\"type\":\"pie\"}],                        {\"template\":{\"data\":{\"histogram2dcontour\":[{\"type\":\"histogram2dcontour\",\"colorbar\":{\"outlinewidth\":0,\"ticks\":\"\"},\"colorscale\":[[0.0,\"#0d0887\"],[0.1111111111111111,\"#46039f\"],[0.2222222222222222,\"#7201a8\"],[0.3333333333333333,\"#9c179e\"],[0.4444444444444444,\"#bd3786\"],[0.5555555555555556,\"#d8576b\"],[0.6666666666666666,\"#ed7953\"],[0.7777777777777778,\"#fb9f3a\"],[0.8888888888888888,\"#fdca26\"],[1.0,\"#f0f921\"]]}],\"choropleth\":[{\"type\":\"choropleth\",\"colorbar\":{\"outlinewidth\":0,\"ticks\":\"\"}}],\"histogram2d\":[{\"type\":\"histogram2d\",\"colorbar\":{\"outlinewidth\":0,\"ticks\":\"\"},\"colorscale\":[[0.0,\"#0d0887\"],[0.1111111111111111,\"#46039f\"],[0.2222222222222222,\"#7201a8\"],[0.3333333333333333,\"#9c179e\"],[0.4444444444444444,\"#bd3786\"],[0.5555555555555556,\"#d8576b\"],[0.6666666666666666,\"#ed7953\"],[0.7777777777777778,\"#fb9f3a\"],[0.8888888888888888,\"#fdca26\"],[1.0,\"#f0f921\"]]}],\"heatmap\":[{\"type\":\"heatmap\",\"colorbar\":{\"outlinewidth\":0,\"ticks\":\"\"},\"colorscale\":[[0.0,\"#0d0887\"],[0.1111111111111111,\"#46039f\"],[0.2222222222222222,\"#7201a8\"],[0.3333333333333333,\"#9c179e\"],[0.4444444444444444,\"#bd3786\"],[0.5555555555555556,\"#d8576b\"],[0.6666666666666666,\"#ed7953\"],[0.7777777777777778,\"#fb9f3a\"],[0.8888888888888888,\"#fdca26\"],[1.0,\"#f0f921\"]]}],\"heatmapgl\":[{\"type\":\"heatmapgl\",\"colorbar\":{\"outlinewidth\":0,\"ticks\":\"\"},\"colorscale\":[[0.0,\"#0d0887\"],[0.1111111111111111,\"#46039f\"],[0.2222222222222222,\"#7201a8\"],[0.3333333333333333,\"#9c179e\"],[0.4444444444444444,\"#bd3786\"],[0.5555555555555556,\"#d8576b\"],[0.6666666666666666,\"#ed7953\"],[0.7777777777777778,\"#fb9f3a\"],[0.8888888888888888,\"#fdca26\"],[1.0,\"#f0f921\"]]}],\"contourcarpet\":[{\"type\":\"contourcarpet\",\"colorbar\":{\"outlinewidth\":0,\"ticks\":\"\"}}],\"contour\":[{\"type\":\"contour\",\"colorbar\":{\"outlinewidth\":0,\"ticks\":\"\"},\"colorscale\":[[0.0,\"#0d0887\"],[0.1111111111111111,\"#46039f\"],[0.2222222222222222,\"#7201a8\"],[0.3333333333333333,\"#9c179e\"],[0.4444444444444444,\"#bd3786\"],[0.5555555555555556,\"#d8576b\"],[0.6666666666666666,\"#ed7953\"],[0.7777777777777778,\"#fb9f3a\"],[0.8888888888888888,\"#fdca26\"],[1.0,\"#f0f921\"]]}],\"surface\":[{\"type\":\"surface\",\"colorbar\":{\"outlinewidth\":0,\"ticks\":\"\"},\"colorscale\":[[0.0,\"#0d0887\"],[0.1111111111111111,\"#46039f\"],[0.2222222222222222,\"#7201a8\"],[0.3333333333333333,\"#9c179e\"],[0.4444444444444444,\"#bd3786\"],[0.5555555555555556,\"#d8576b\"],[0.6666666666666666,\"#ed7953\"],[0.7777777777777778,\"#fb9f3a\"],[0.8888888888888888,\"#fdca26\"],[1.0,\"#f0f921\"]]}],\"mesh3d\":[{\"type\":\"mesh3d\",\"colorbar\":{\"outlinewidth\":0,\"ticks\":\"\"}}],\"scatter\":[{\"fillpattern\":{\"fillmode\":\"overlay\",\"size\":10,\"solidity\":0.2},\"type\":\"scatter\"}],\"parcoords\":[{\"type\":\"parcoords\",\"line\":{\"colorbar\":{\"outlinewidth\":0,\"ticks\":\"\"}}}],\"scatterpolargl\":[{\"type\":\"scatterpolargl\",\"marker\":{\"colorbar\":{\"outlinewidth\":0,\"ticks\":\"\"}}}],\"bar\":[{\"error_x\":{\"color\":\"#2a3f5f\"},\"error_y\":{\"color\":\"#2a3f5f\"},\"marker\":{\"line\":{\"color\":\"#E5ECF6\",\"width\":0.5},\"pattern\":{\"fillmode\":\"overlay\",\"size\":10,\"solidity\":0.2}},\"type\":\"bar\"}],\"scattergeo\":[{\"type\":\"scattergeo\",\"marker\":{\"colorbar\":{\"outlinewidth\":0,\"ticks\":\"\"}}}],\"scatterpolar\":[{\"type\":\"scatterpolar\",\"marker\":{\"colorbar\":{\"outlinewidth\":0,\"ticks\":\"\"}}}],\"histogram\":[{\"marker\":{\"pattern\":{\"fillmode\":\"overlay\",\"size\":10,\"solidity\":0.2}},\"type\":\"histogram\"}],\"scattergl\":[{\"type\":\"scattergl\",\"marker\":{\"colorbar\":{\"outlinewidth\":0,\"ticks\":\"\"}}}],\"scatter3d\":[{\"type\":\"scatter3d\",\"line\":{\"colorbar\":{\"outlinewidth\":0,\"ticks\":\"\"}},\"marker\":{\"colorbar\":{\"outlinewidth\":0,\"ticks\":\"\"}}}],\"scattermapbox\":[{\"type\":\"scattermapbox\",\"marker\":{\"colorbar\":{\"outlinewidth\":0,\"ticks\":\"\"}}}],\"scatterternary\":[{\"type\":\"scatterternary\",\"marker\":{\"colorbar\":{\"outlinewidth\":0,\"ticks\":\"\"}}}],\"scattercarpet\":[{\"type\":\"scattercarpet\",\"marker\":{\"colorbar\":{\"outlinewidth\":0,\"ticks\":\"\"}}}],\"carpet\":[{\"aaxis\":{\"endlinecolor\":\"#2a3f5f\",\"gridcolor\":\"white\",\"linecolor\":\"white\",\"minorgridcolor\":\"white\",\"startlinecolor\":\"#2a3f5f\"},\"baxis\":{\"endlinecolor\":\"#2a3f5f\",\"gridcolor\":\"white\",\"linecolor\":\"white\",\"minorgridcolor\":\"white\",\"startlinecolor\":\"#2a3f5f\"},\"type\":\"carpet\"}],\"table\":[{\"cells\":{\"fill\":{\"color\":\"#EBF0F8\"},\"line\":{\"color\":\"white\"}},\"header\":{\"fill\":{\"color\":\"#C8D4E3\"},\"line\":{\"color\":\"white\"}},\"type\":\"table\"}],\"barpolar\":[{\"marker\":{\"line\":{\"color\":\"#E5ECF6\",\"width\":0.5},\"pattern\":{\"fillmode\":\"overlay\",\"size\":10,\"solidity\":0.2}},\"type\":\"barpolar\"}],\"pie\":[{\"automargin\":true,\"type\":\"pie\"}]},\"layout\":{\"autotypenumbers\":\"strict\",\"colorway\":[\"#636efa\",\"#EF553B\",\"#00cc96\",\"#ab63fa\",\"#FFA15A\",\"#19d3f3\",\"#FF6692\",\"#B6E880\",\"#FF97FF\",\"#FECB52\"],\"font\":{\"color\":\"#2a3f5f\"},\"hovermode\":\"closest\",\"hoverlabel\":{\"align\":\"left\"},\"paper_bgcolor\":\"white\",\"plot_bgcolor\":\"#E5ECF6\",\"polar\":{\"bgcolor\":\"#E5ECF6\",\"angularaxis\":{\"gridcolor\":\"white\",\"linecolor\":\"white\",\"ticks\":\"\"},\"radialaxis\":{\"gridcolor\":\"white\",\"linecolor\":\"white\",\"ticks\":\"\"}},\"ternary\":{\"bgcolor\":\"#E5ECF6\",\"aaxis\":{\"gridcolor\":\"white\",\"linecolor\":\"white\",\"ticks\":\"\"},\"baxis\":{\"gridcolor\":\"white\",\"linecolor\":\"white\",\"ticks\":\"\"},\"caxis\":{\"gridcolor\":\"white\",\"linecolor\":\"white\",\"ticks\":\"\"}},\"coloraxis\":{\"colorbar\":{\"outlinewidth\":0,\"ticks\":\"\"}},\"colorscale\":{\"sequential\":[[0.0,\"#0d0887\"],[0.1111111111111111,\"#46039f\"],[0.2222222222222222,\"#7201a8\"],[0.3333333333333333,\"#9c179e\"],[0.4444444444444444,\"#bd3786\"],[0.5555555555555556,\"#d8576b\"],[0.6666666666666666,\"#ed7953\"],[0.7777777777777778,\"#fb9f3a\"],[0.8888888888888888,\"#fdca26\"],[1.0,\"#f0f921\"]],\"sequentialminus\":[[0.0,\"#0d0887\"],[0.1111111111111111,\"#46039f\"],[0.2222222222222222,\"#7201a8\"],[0.3333333333333333,\"#9c179e\"],[0.4444444444444444,\"#bd3786\"],[0.5555555555555556,\"#d8576b\"],[0.6666666666666666,\"#ed7953\"],[0.7777777777777778,\"#fb9f3a\"],[0.8888888888888888,\"#fdca26\"],[1.0,\"#f0f921\"]],\"diverging\":[[0,\"#8e0152\"],[0.1,\"#c51b7d\"],[0.2,\"#de77ae\"],[0.3,\"#f1b6da\"],[0.4,\"#fde0ef\"],[0.5,\"#f7f7f7\"],[0.6,\"#e6f5d0\"],[0.7,\"#b8e186\"],[0.8,\"#7fbc41\"],[0.9,\"#4d9221\"],[1,\"#276419\"]]},\"xaxis\":{\"gridcolor\":\"white\",\"linecolor\":\"white\",\"ticks\":\"\",\"title\":{\"standoff\":15},\"zerolinecolor\":\"white\",\"automargin\":true,\"zerolinewidth\":2},\"yaxis\":{\"gridcolor\":\"white\",\"linecolor\":\"white\",\"ticks\":\"\",\"title\":{\"standoff\":15},\"zerolinecolor\":\"white\",\"automargin\":true,\"zerolinewidth\":2},\"scene\":{\"xaxis\":{\"backgroundcolor\":\"#E5ECF6\",\"gridcolor\":\"white\",\"linecolor\":\"white\",\"showbackground\":true,\"ticks\":\"\",\"zerolinecolor\":\"white\",\"gridwidth\":2},\"yaxis\":{\"backgroundcolor\":\"#E5ECF6\",\"gridcolor\":\"white\",\"linecolor\":\"white\",\"showbackground\":true,\"ticks\":\"\",\"zerolinecolor\":\"white\",\"gridwidth\":2},\"zaxis\":{\"backgroundcolor\":\"#E5ECF6\",\"gridcolor\":\"white\",\"linecolor\":\"white\",\"showbackground\":true,\"ticks\":\"\",\"zerolinecolor\":\"white\",\"gridwidth\":2}},\"shapedefaults\":{\"line\":{\"color\":\"#2a3f5f\"}},\"annotationdefaults\":{\"arrowcolor\":\"#2a3f5f\",\"arrowhead\":0,\"arrowwidth\":1},\"geo\":{\"bgcolor\":\"white\",\"landcolor\":\"#E5ECF6\",\"subunitcolor\":\"white\",\"showland\":true,\"showlakes\":true,\"lakecolor\":\"white\"},\"title\":{\"x\":0.05},\"mapbox\":{\"style\":\"light\"}}},\"title\":{\"text\":\"Percentage of Movies Released Per Year\"}},                        {\"responsive\": true}                    ).then(function(){\n",
       "                            \n",
       "var gd = document.getElementById('037dea35-97ed-4c4d-bb38-3eb8349909ae');\n",
       "var x = new MutationObserver(function (mutations, observer) {{\n",
       "        var display = window.getComputedStyle(gd).display;\n",
       "        if (!display || display === 'none') {{\n",
       "            console.log([gd, 'removed!']);\n",
       "            Plotly.purge(gd);\n",
       "            observer.disconnect();\n",
       "        }}\n",
       "}});\n",
       "\n",
       "// Listen for the removal of the full notebook cells\n",
       "var notebookContainer = gd.closest('#notebook-container');\n",
       "if (notebookContainer) {{\n",
       "    x.observe(notebookContainer, {childList: true});\n",
       "}}\n",
       "\n",
       "// Listen for the clearing of the current output cell\n",
       "var outputEl = gd.closest('.output');\n",
       "if (outputEl) {{\n",
       "    x.observe(outputEl, {childList: true});\n",
       "}}\n",
       "\n",
       "                        })                };                });            </script>        </div>"
      ]
     },
     "metadata": {},
     "output_type": "display_data"
    },
    {
     "name": "stdout",
     "output_type": "stream",
     "text": [
      "2021    3690\n",
      "2020    3223\n",
      "2022    1968\n",
      "Name: Year, dtype: int64\n"
     ]
    }
   ],
   "source": [
    "#visualization\n",
    "values = covid_years['Year'].value_counts()\n",
    "labels = ['2021', '2020', '2022']\n",
    "\n",
    "circle_fig = go.Figure(data=[go.Pie(values=values, labels=labels, hole=0.3)])\n",
    "circle_fig.update_layout(title_text='Percentage of Movies Released Per Year')\n",
    "circle_fig.show()\n",
    "\n",
    "print(values)"
   ]
  },
  {
   "cell_type": "markdown",
   "id": "1076db24",
   "metadata": {},
   "source": [
    "**Question 3: Do rated R movies have a bigger budget than PG movies?**\n",
    "\n",
    "\n",
    "*Null Hypothesis:* There is no significant difference in budget between R rated movies and PG rated movies.\n",
    "\n",
    "*Alternative Hypothesis:* There is a significant difference in budget between R rated movies and PG rated movies.\n",
    "\n",
    "Alpha = 0.05"
   ]
  },
  {
   "cell_type": "code",
   "execution_count": 424,
   "id": "045e3ef4",
   "metadata": {},
   "outputs": [
    {
     "name": "stdout",
     "output_type": "stream",
     "text": [
      "There are 184 PG movies.\n",
      "There are 722 R movies.\n"
     ]
    }
   ],
   "source": [
    "#Separate the data into two groups (“kids” and “adults”)\n",
    "\n",
    "kids = df_combined[df_combined['certification']=='PG']\n",
    "adults = df_combined.loc[df_combined['certification']=='R']\n",
    "\n",
    "print(f\"There are {len(kids)} PG movies.\")\n",
    "print(f\"There are {len(adults)} R movies.\")"
   ]
  },
  {
   "cell_type": "code",
   "execution_count": 428,
   "id": "8a1be48e",
   "metadata": {},
   "outputs": [],
   "source": [
    "#feature of interest is budget\n",
    "kid_budget = kids['budget']\n",
    "adult_budget = adults['budget']"
   ]
  },
  {
   "cell_type": "code",
   "execution_count": 429,
   "id": "329d5812",
   "metadata": {},
   "outputs": [
    {
     "data": {
      "text/plain": [
       "7"
      ]
     },
     "execution_count": 429,
     "metadata": {},
     "output_type": "execute_result"
    }
   ],
   "source": [
    "#test assumptions\n",
    "\n",
    "#Alpha is 0.05\n",
    "\n",
    "#Independent 2 Sample T-Test Assumptions:\n",
    "    #No significant outliers\n",
    "    #Normality \n",
    "    #Equal Variance\n",
    "    \n",
    "#zscores and outliers\n",
    "zscores= stats.zscore(kid_budget)\n",
    "outliers= abs(zscores)>3\n",
    "np.sum(outliers)\n",
    "\n",
    "#no outliers in kid_budget"
   ]
  },
  {
   "cell_type": "code",
   "execution_count": 430,
   "id": "cdf56fc8",
   "metadata": {},
   "outputs": [],
   "source": [
    "#Remove outliers from kid_budget\n",
    "kid_budget = kid_budget[(np.abs(stats.zscore(kid_budget)) < 3)]"
   ]
  },
  {
   "cell_type": "code",
   "execution_count": 431,
   "id": "a4436a10",
   "metadata": {},
   "outputs": [
    {
     "data": {
      "text/plain": [
       "20"
      ]
     },
     "execution_count": 431,
     "metadata": {},
     "output_type": "execute_result"
    }
   ],
   "source": [
    "#Check for outlier in adult_budget\n",
    "zscores= stats.zscore(adult_budget)\n",
    "outliers = abs(zscores)>3\n",
    "np.sum(outliers)"
   ]
  },
  {
   "cell_type": "code",
   "execution_count": 432,
   "id": "59090d82",
   "metadata": {},
   "outputs": [],
   "source": [
    "#Remove outliers from adult_budget\n",
    "adult_budget = adult_budget[(np.abs(stats.zscore(adult_budget)) < 3)]"
   ]
  },
  {
   "cell_type": "code",
   "execution_count": 433,
   "id": "fcfd54d9",
   "metadata": {},
   "outputs": [
    {
     "data": {
      "text/plain": [
       "NormaltestResult(statistic=124.79395970922855, pvalue=7.967754819939942e-28)"
      ]
     },
     "execution_count": 433,
     "metadata": {},
     "output_type": "execute_result"
    }
   ],
   "source": [
    "#Test for normality\n",
    "\n",
    "#smoker_charges\n",
    "result_kid_budget = stats.normaltest(kid_budget)\n",
    "result_kid_budget"
   ]
  },
  {
   "cell_type": "code",
   "execution_count": 434,
   "id": "c5e46e0f",
   "metadata": {},
   "outputs": [
    {
     "data": {
      "text/plain": [
       "True"
      ]
     },
     "execution_count": 434,
     "metadata": {},
     "output_type": "execute_result"
    }
   ],
   "source": [
    "result_kid_budget.pvalue < .05"
   ]
  },
  {
   "cell_type": "code",
   "execution_count": 435,
   "id": "5a99b8b2",
   "metadata": {},
   "outputs": [
    {
     "data": {
      "text/plain": [
       "NormaltestResult(statistic=557.4914204083652, pvalue=8.755404274550379e-122)"
      ]
     },
     "execution_count": 435,
     "metadata": {},
     "output_type": "execute_result"
    }
   ],
   "source": [
    "#adult_budget\n",
    "result_adult_budget = stats.normaltest(adult_budget)\n",
    "result_adult_budget"
   ]
  },
  {
   "cell_type": "code",
   "execution_count": 436,
   "id": "870a4d05",
   "metadata": {},
   "outputs": [
    {
     "data": {
      "text/plain": [
       "True"
      ]
     },
     "execution_count": 436,
     "metadata": {},
     "output_type": "execute_result"
    }
   ],
   "source": [
    "result_adult_budget.pvalue < .05"
   ]
  },
  {
   "cell_type": "code",
   "execution_count": 437,
   "id": "112db86d",
   "metadata": {},
   "outputs": [
    {
     "data": {
      "text/plain": [
       "LeveneResult(statistic=40.44678620296075, pvalue=3.248229143559733e-10)"
      ]
     },
     "execution_count": 437,
     "metadata": {},
     "output_type": "execute_result"
    }
   ],
   "source": [
    "#Check Equal Variance\n",
    "\n",
    "result = stats.levene(kid_budget, adult_budget)\n",
    "result"
   ]
  },
  {
   "cell_type": "code",
   "execution_count": 438,
   "id": "8aec493b",
   "metadata": {},
   "outputs": [
    {
     "data": {
      "text/plain": [
       "Ttest_indResult(statistic=3.691563185154329, pvalue=0.0002933908097823015)"
      ]
     },
     "execution_count": 438,
     "metadata": {},
     "output_type": "execute_result"
    }
   ],
   "source": [
    "#test\n",
    "\n",
    "#Independent t-test with equal_var set to False\n",
    "result = stats.ttest_ind(kid_budget, adult_budget, equal_var = False)\n",
    "result"
   ]
  },
  {
   "cell_type": "code",
   "execution_count": 439,
   "id": "b418ee6f",
   "metadata": {},
   "outputs": [
    {
     "name": "stdout",
     "output_type": "stream",
     "text": [
      "p-value=0.0002933908\n",
      "Significant: True\n"
     ]
    }
   ],
   "source": [
    "#interpret p-value and reject/fail to reject null hypothesis\n",
    "\n",
    "print(f\"p-value={result.pvalue:.10f}\")\n",
    "print(f\"Significant: {result.pvalue <.05}\")"
   ]
  },
  {
   "cell_type": "markdown",
   "id": "952ba00d",
   "metadata": {},
   "source": [
    "After checking assumptions and performing the test, the null hypothesis must be rejected. There is a significant difference between the budgets for a PG and R rated movie."
   ]
  },
  {
   "cell_type": "code",
   "execution_count": 450,
   "id": "e7065925",
   "metadata": {},
   "outputs": [
    {
     "data": {
      "image/png": "[encoded data removed]",
      "text/plain": [
       "<Figure size 720x432 with 1 Axes>"
      ]
     },
     "metadata": {
      "needs_background": "light"
     },
     "output_type": "display_data"
    }
   ],
   "source": [
    "#visualization\n",
    "plt.figure(figsize=(10,6))\n",
    "sns.scatterplot(data=covid_years, x='budget',y='certification');"
   ]
  }
 ],
 "metadata": {
  "kernelspec": {
   "display_name": "Python (dojo-env)",
   "language": "python",
   "name": "dojo-env"
  },
  "language_info": {
   "codemirror_mode": {
    "name": "ipython",
    "version": 3
   },
   "file_extension": ".py",
   "mimetype": "text/x-python",
   "name": "python",
   "nbconvert_exporter": "python",
   "pygments_lexer": "ipython3",
   "version": "3.8.13"
  },
  "toc": {
   "base_numbering": 1,
   "nav_menu": {},
   "number_sections": false,
   "sideBar": true,
   "skip_h1_title": false,
   "title_cell": "Table of Contents",
   "title_sidebar": "Contents",
   "toc_cell": false,
   "toc_position": {},
   "toc_section_display": true,
   "toc_window_display": false
  }
 },
 "nbformat": 4,
 "nbformat_minor": 5
}
